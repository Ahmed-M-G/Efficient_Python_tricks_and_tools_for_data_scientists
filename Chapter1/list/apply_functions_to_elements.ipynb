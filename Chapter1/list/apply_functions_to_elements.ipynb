{
 "cells": [
  {
   "cell_type": "markdown",
   "source": [
    "## Apply Functions to Elements in a List"
   ],
   "metadata": {}
  },
  {
   "cell_type": "markdown",
   "source": [
    "### any: Check if Any Element of an Iterable is True"
   ],
   "metadata": {}
  },
  {
   "cell_type": "markdown",
   "source": [
    "If you want to check if any element of an iterable is True, use any. In the code below, I use any to find if any element in the text is in uppercase."
   ],
   "metadata": {}
  },
  {
   "cell_type": "code",
   "execution_count": 1,
   "source": [
    "text = \"abcdE\"\n",
    "any(c for c in text if c.isupper())"
   ],
   "outputs": [
    {
     "output_type": "execute_result",
     "data": {
      "text/plain": [
       "True"
      ]
     },
     "metadata": {},
     "execution_count": 1
    }
   ],
   "metadata": {
    "ExecuteTime": {
     "end_time": "2021-08-29T21:00:55.138006Z",
     "start_time": "2021-08-29T21:00:55.100927Z"
    }
   }
  },
  {
   "cell_type": "markdown",
   "source": [
    "### filter: Get the Elements of an Iterable that a Function Returns True"
   ],
   "metadata": {}
  },
  {
   "cell_type": "markdown",
   "source": [
    "If you want to get the elements of an iterable that a function returns true, use filter.\n",
    "\n",
    "In the code below, I use the filter method to get items that are fruits."
   ],
   "metadata": {}
  },
  {
   "cell_type": "code",
   "execution_count": 2,
   "source": [
    "def get_fruit(val: str):\n",
    "    fruits = ['apple', 'orange', 'grape']\n",
    "    if val in fruits:\n",
    "        return True \n",
    "    else:\n",
    "        return False \n",
    "\n",
    "items = ['chair', 'apple', 'water', 'table', 'orange']\n",
    "fruits = filter(get_fruit, items)\n",
    "print(list(fruits))"
   ],
   "outputs": [
    {
     "output_type": "stream",
     "name": "stdout",
     "text": [
      "['apple', 'orange']\n"
     ]
    }
   ],
   "metadata": {
    "ExecuteTime": {
     "end_time": "2021-08-29T21:00:55.192853Z",
     "start_time": "2021-08-29T21:00:55.186031Z"
    }
   }
  },
  {
   "cell_type": "markdown",
   "source": [
    "### map method: Apply a Function to Each Item of an Iterable"
   ],
   "metadata": {}
  },
  {
   "cell_type": "markdown",
   "source": [
    "If you want to apply the given function to each item of a given iterable, use `map`."
   ],
   "metadata": {}
  },
  {
   "cell_type": "code",
   "execution_count": 7,
   "source": [
    "nums = [1, 2, 3]\n",
    "list(map(str, nums))"
   ],
   "outputs": [
    {
     "output_type": "execute_result",
     "data": {
      "text/plain": [
       "['1', '2', '3']"
      ]
     },
     "metadata": {},
     "execution_count": 7
    }
   ],
   "metadata": {
    "ExecuteTime": {
     "end_time": "2021-08-29T21:53:18.512946Z",
     "start_time": "2021-08-29T21:53:18.504735Z"
    }
   }
  },
  {
   "cell_type": "code",
   "execution_count": 8,
   "source": [
    "def multiply_by_two(num: float):\n",
    "    return num * 2\n",
    "\n",
    "\n",
    "list(map(multiply_by_two, nums))"
   ],
   "outputs": [
    {
     "output_type": "execute_result",
     "data": {
      "text/plain": [
       "[2, 4, 6]"
      ]
     },
     "metadata": {},
     "execution_count": 8
    }
   ],
   "metadata": {
    "ExecuteTime": {
     "end_time": "2021-08-29T21:53:30.926429Z",
     "start_time": "2021-08-29T21:53:30.917643Z"
    }
   }
  }
 ],
 "metadata": {
  "kernelspec": {
   "display_name": "Python 3 (ipykernel)",
   "language": "python",
   "name": "python3"
  },
  "language_info": {
   "codemirror_mode": {
    "name": "ipython",
    "version": 3
   },
   "file_extension": ".py",
   "mimetype": "text/x-python",
   "name": "python",
   "nbconvert_exporter": "python",
   "pygments_lexer": "ipython3",
   "version": "3.8.10"
  },
  "toc": {
   "base_numbering": 1,
   "nav_menu": {},
   "number_sections": true,
   "sideBar": true,
   "skip_h1_title": false,
   "title_cell": "Table of Contents",
   "title_sidebar": "Contents",
   "toc_cell": false,
   "toc_position": {},
   "toc_section_display": true,
   "toc_window_display": false
  }
 },
 "nbformat": 4,
 "nbformat_minor": 5
}