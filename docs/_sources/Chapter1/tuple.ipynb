{
 "cells": [
  {
   "cell_type": "markdown",
   "id": "7955620b",
   "metadata": {},
   "source": [
    "## Tuple"
   ]
  },
  {
   "cell_type": "markdown",
   "id": "7ddfd142",
   "metadata": {},
   "source": [
    "### slice: Make Your Indices More Readable by Naming Your Slice"
   ]
  },
  {
   "cell_type": "markdown",
   "id": "a83bbf93",
   "metadata": {},
   "source": [
    "Have you ever been confused when looking into code that contains hardcoded slice indices? Even if you understand it now, you might forget why you choose specific indices in the future. "
   ]
  },
  {
   "cell_type": "code",
   "execution_count": 3,
   "id": "b1f9e07d",
   "metadata": {
    "ExecuteTime": {
     "end_time": "2021-08-29T22:12:01.716295Z",
     "start_time": "2021-08-29T22:12:01.708284Z"
    }
   },
   "outputs": [],
   "source": [
    "data = [1, 2, 3, 4, 5, 6, 7, 8, 9, 10]\n",
    "\n",
    "some_sum = sum(data[:8]) * sum(data[8:])"
   ]
  },
  {
   "cell_type": "markdown",
   "id": "24f3ba2e",
   "metadata": {},
   "source": [
    "If so, name your `slice`. Python provides a nice built-in function for that purpose called `slice`. By using names, your code is much easier to understand."
   ]
  },
  {
   "cell_type": "code",
   "execution_count": 4,
   "id": "8a8bdaa0",
   "metadata": {
    "ExecuteTime": {
     "end_time": "2021-08-29T22:12:09.012531Z",
     "start_time": "2021-08-29T22:12:09.004741Z"
    }
   },
   "outputs": [
    {
     "name": "stdout",
     "output_type": "stream",
     "text": [
      "684\n"
     ]
    }
   ],
   "source": [
    "JANUARY = slice(0, 8)\n",
    "FEBRUARY = slice(8, len(data))\n",
    "some_sum = sum(data[JANUARY] * sum(data[FEBRUARY]))\n",
    "print(some_sum) "
   ]
  }
 ],
 "metadata": {
  "kernelspec": {
   "display_name": "Python 3 (ipykernel)",
   "language": "python",
   "name": "python3"
  },
  "language_info": {
   "codemirror_mode": {
    "name": "ipython",
    "version": 3
   },
   "file_extension": ".py",
   "mimetype": "text/x-python",
   "name": "python",
   "nbconvert_exporter": "python",
   "pygments_lexer": "ipython3",
   "version": "3.8.10"
  },
  "toc": {
   "base_numbering": 1,
   "nav_menu": {},
   "number_sections": true,
   "sideBar": true,
   "skip_h1_title": false,
   "title_cell": "Table of Contents",
   "title_sidebar": "Contents",
   "toc_cell": false,
   "toc_position": {},
   "toc_section_display": true,
   "toc_window_display": false
  }
 },
 "nbformat": 4,
 "nbformat_minor": 5
}
