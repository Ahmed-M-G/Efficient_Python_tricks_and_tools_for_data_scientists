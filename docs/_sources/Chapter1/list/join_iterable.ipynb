{
 "cells": [
  {
   "cell_type": "markdown",
   "id": "73b04efb",
   "metadata": {},
   "source": [
    "## Join Iterables"
   ]
  },
  {
   "cell_type": "markdown",
   "id": "4a2b27a6",
   "metadata": {},
   "source": [
    "### join method: Turn an Iterable into a Python String"
   ]
  },
  {
   "cell_type": "markdown",
   "id": "1db58e0e",
   "metadata": {},
   "source": [
    "If you want to turn an iterable into a string, use `join()`.\n",
    "\n",
    "In the code below, I join elements in the list fruits using “, “."
   ]
  },
  {
   "cell_type": "code",
   "execution_count": 3,
   "id": "07621ccf",
   "metadata": {
    "ExecuteTime": {
     "end_time": "2021-08-29T21:21:42.794002Z",
     "start_time": "2021-08-29T21:21:42.786264Z"
    }
   },
   "outputs": [
    {
     "name": "stdout",
     "output_type": "stream",
     "text": [
      "Today, I need to get some apples, oranges, grapes in the grocery store\n"
     ]
    }
   ],
   "source": [
    "fruits = ['apples', 'oranges', 'grapes']\n",
    "\n",
    "fruits_str = ', '.join(fruits)\n",
    "\n",
    "print(f\"Today, I need to get some {fruits_str} in the grocery store\")"
   ]
  },
  {
   "cell_type": "markdown",
   "id": "4917fe91",
   "metadata": {},
   "source": [
    "### Zip: Associate Elements from Two Iterators based on the Order"
   ]
  },
  {
   "cell_type": "markdown",
   "id": "69b0a96d",
   "metadata": {},
   "source": [
    "If you want to associate elements from two iterators based on the order, combine `list` and `zip`. "
   ]
  },
  {
   "cell_type": "code",
   "execution_count": 1,
   "id": "81f7ad15",
   "metadata": {
    "ExecuteTime": {
     "end_time": "2021-09-11T14:56:38.902282Z",
     "start_time": "2021-09-11T14:56:38.872285Z"
    }
   },
   "outputs": [
    {
     "data": {
      "text/plain": [
       "[(1, 'a'), (2, 'b'), (3, 'c'), (4, 'd')]"
      ]
     },
     "execution_count": 1,
     "metadata": {},
     "output_type": "execute_result"
    }
   ],
   "source": [
    "nums = [1, 2, 3, 4]\n",
    "string = \"abcd\"\n",
    "combinations = list(zip(nums, string))\n",
    "combinations"
   ]
  },
  {
   "cell_type": "markdown",
   "id": "768b078c",
   "metadata": {},
   "source": [
    "### Zip Function: Create Pairs of Elements from Two Lists in Python"
   ]
  },
  {
   "cell_type": "markdown",
   "id": "589eac17",
   "metadata": {},
   "source": [
    "If you want to create pairs of elements from two lists, use `zip`. `zip()` function takes iterables and aggregates them in a tuple.\n",
    "\n",
    "You can also unzip the list of tuples by using `zip(*list_of_tuples)`.\n"
   ]
  },
  {
   "cell_type": "code",
   "execution_count": 5,
   "id": "09a8d7e5",
   "metadata": {
    "ExecuteTime": {
     "end_time": "2021-08-29T21:33:08.761735Z",
     "start_time": "2021-08-29T21:33:08.751000Z"
    }
   },
   "outputs": [
    {
     "data": {
      "text/plain": [
       "[(1, 'a'), (2, 'b'), (3, 'c'), (4, 'd')]"
      ]
     },
     "execution_count": 5,
     "metadata": {},
     "output_type": "execute_result"
    }
   ],
   "source": [
    "nums = [1, 2, 3, 4]\n",
    "chars = ['a', 'b', 'c', 'd']\n",
    "\n",
    "comb = list(zip(nums, chars))\n",
    "comb "
   ]
  },
  {
   "cell_type": "code",
   "execution_count": 6,
   "id": "193fb239",
   "metadata": {
    "ExecuteTime": {
     "end_time": "2021-08-29T21:33:20.503562Z",
     "start_time": "2021-08-29T21:33:20.491811Z"
    }
   },
   "outputs": [
    {
     "data": {
      "text/plain": [
       "((1, 2, 3, 4), ('a', 'b', 'c', 'd'))"
      ]
     },
     "execution_count": 6,
     "metadata": {},
     "output_type": "execute_result"
    }
   ],
   "source": [
    "nums_2, chars_2 = zip(*comb)\n",
    "nums_2, chars_2"
   ]
  }
 ],
 "metadata": {
  "kernelspec": {
   "display_name": "Python 3 (ipykernel)",
   "language": "python",
   "name": "python3"
  },
  "language_info": {
   "codemirror_mode": {
    "name": "ipython",
    "version": 3
   },
   "file_extension": ".py",
   "mimetype": "text/x-python",
   "name": "python",
   "nbconvert_exporter": "python",
   "pygments_lexer": "ipython3",
   "version": "3.8.10"
  },
  "toc": {
   "base_numbering": 1,
   "nav_menu": {},
   "number_sections": true,
   "sideBar": true,
   "skip_h1_title": false,
   "title_cell": "Table of Contents",
   "title_sidebar": "Contents",
   "toc_cell": false,
   "toc_position": {},
   "toc_section_display": true,
   "toc_window_display": false
  }
 },
 "nbformat": 4,
 "nbformat_minor": 5
}
