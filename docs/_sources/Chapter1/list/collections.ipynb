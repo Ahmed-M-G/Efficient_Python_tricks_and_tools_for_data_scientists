{
 "cells": [
  {
   "cell_type": "markdown",
   "id": "7afbcbf7",
   "metadata": {},
   "source": [
    "## Collections"
   ]
  },
  {
   "cell_type": "markdown",
   "id": "0d1a641f",
   "metadata": {},
   "source": [
    "### collections.Counter: Count the Occurrences of Items in a List"
   ]
  },
  {
   "cell_type": "markdown",
   "id": "f594f622",
   "metadata": {},
   "source": [
    "Counting the occurrences of each item in a list using a for-loop is slow and inefficient. "
   ]
  },
  {
   "cell_type": "code",
   "execution_count": 2,
   "id": "5d7b38f8",
   "metadata": {
    "ExecuteTime": {
     "end_time": "2021-08-29T21:28:07.276449Z",
     "start_time": "2021-08-29T21:28:07.270322Z"
    }
   },
   "outputs": [],
   "source": [
    "char_list = ['a', 'b', 'c', 'a', 'd', 'b', 'b']"
   ]
  },
  {
   "cell_type": "code",
   "execution_count": 9,
   "id": "01379ad8",
   "metadata": {
    "ExecuteTime": {
     "end_time": "2021-08-29T21:31:03.107661Z",
     "start_time": "2021-08-29T21:31:03.095638Z"
    }
   },
   "outputs": [
    {
     "data": {
      "text/plain": [
       "{'a': 2, 'b': 3, 'c': 1, 'd': 1}"
      ]
     },
     "execution_count": 9,
     "metadata": {},
     "output_type": "execute_result"
    }
   ],
   "source": [
    "def custom_counter(list_: list):\n",
    "    char_counter = {}\n",
    "    for char in list_:\n",
    "        if char not in char_counter:\n",
    "            char_counter[char] = 1\n",
    "        else: \n",
    "            char_counter[char] += 1\n",
    "\n",
    "    return char_counter\n",
    "custom_counter(char_list)"
   ]
  },
  {
   "cell_type": "markdown",
   "id": "9cca9922",
   "metadata": {},
   "source": [
    "Using `collections.Counter` is more efficient, and all it takes is one line of code!"
   ]
  },
  {
   "cell_type": "code",
   "execution_count": 10,
   "id": "8c5e53ef",
   "metadata": {
    "ExecuteTime": {
     "end_time": "2021-08-29T21:31:06.026320Z",
     "start_time": "2021-08-29T21:31:06.014598Z"
    }
   },
   "outputs": [
    {
     "data": {
      "text/plain": [
       "Counter({'a': 2, 'b': 3, 'c': 1, 'd': 1})"
      ]
     },
     "execution_count": 10,
     "metadata": {},
     "output_type": "execute_result"
    }
   ],
   "source": [
    "from collections import Counter\n",
    "\n",
    "Counter(char_list)"
   ]
  },
  {
   "cell_type": "markdown",
   "id": "60b9c034",
   "metadata": {},
   "source": [
    "In my experiment, using Counter is more than 2 times faster than using custom counter."
   ]
  },
  {
   "cell_type": "code",
   "execution_count": 11,
   "id": "e5d710cb",
   "metadata": {
    "ExecuteTime": {
     "end_time": "2021-08-29T21:32:51.552198Z",
     "start_time": "2021-08-29T21:31:18.631173Z"
    }
   },
   "outputs": [
    {
     "name": "stdout",
     "output_type": "stream",
     "text": [
      "2.6199148843686806\n"
     ]
    }
   ],
   "source": [
    "from timeit import timeit\n",
    "import random \n",
    "\n",
    "random.seed(0)\n",
    "num_list = [random.randint(0,22) for _ in range(1000)]\n",
    "\n",
    "numExp = 100\n",
    "custom_time = timeit(\"custom_counter(num_list)\", globals=globals())\n",
    "counter_time = timeit(\"Counter(num_list)\", globals=globals())\n",
    "print(custom_time/counter_time)"
   ]
  },
  {
   "cell_type": "code",
   "execution_count": null,
   "id": "8803b829",
   "metadata": {},
   "outputs": [],
   "source": []
  }
 ],
 "metadata": {
  "kernelspec": {
   "display_name": "Python 3 (ipykernel)",
   "language": "python",
   "name": "python3"
  },
  "language_info": {
   "codemirror_mode": {
    "name": "ipython",
    "version": 3
   },
   "file_extension": ".py",
   "mimetype": "text/x-python",
   "name": "python",
   "nbconvert_exporter": "python",
   "pygments_lexer": "ipython3",
   "version": "3.8.10"
  },
  "toc": {
   "base_numbering": 1,
   "nav_menu": {},
   "number_sections": true,
   "sideBar": true,
   "skip_h1_title": false,
   "title_cell": "Table of Contents",
   "title_sidebar": "Contents",
   "toc_cell": false,
   "toc_position": {},
   "toc_section_display": true,
   "toc_window_display": false
  }
 },
 "nbformat": 4,
 "nbformat_minor": 5
}
