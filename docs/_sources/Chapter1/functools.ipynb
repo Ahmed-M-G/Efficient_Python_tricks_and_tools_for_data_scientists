{
 "cells": [
  {
   "cell_type": "code",
   "execution_count": 7,
   "id": "ca1b7dfa",
   "metadata": {
    "ExecuteTime": {
     "end_time": "2021-08-30T00:58:28.070987Z",
     "start_time": "2021-08-30T00:58:27.901807Z"
    },
    "tags": [
     "remove-cell"
    ]
   },
   "outputs": [
    {
     "data": {
      "application/javascript": [
       "\n",
       "            setTimeout(function() {\n",
       "                var nbb_cell_id = 7;\n",
       "                var nbb_unformatted_code = \"%load_ext nb_black\";\n",
       "                var nbb_formatted_code = \"%load_ext nb_black\";\n",
       "                var nbb_cells = Jupyter.notebook.get_cells();\n",
       "                for (var i = 0; i < nbb_cells.length; ++i) {\n",
       "                    if (nbb_cells[i].input_prompt_number == nbb_cell_id) {\n",
       "                        if (nbb_cells[i].get_text() == nbb_unformatted_code) {\n",
       "                             nbb_cells[i].set_text(nbb_formatted_code);\n",
       "                        }\n",
       "                        break;\n",
       "                    }\n",
       "                }\n",
       "            }, 500);\n",
       "            "
      ],
      "text/plain": [
       "<IPython.core.display.Javascript object>"
      ]
     },
     "metadata": {},
     "output_type": "display_data"
    }
   ],
   "source": [
    "%load_ext nb_black"
   ]
  },
  {
   "cell_type": "markdown",
   "id": "b8852954",
   "metadata": {},
   "source": [
    "## Functools"
   ]
  },
  {
   "cell_type": "markdown",
   "id": "0f6252dd",
   "metadata": {},
   "source": [
    "[functools](https://docs.python.org/3/library/functools.html) is a built-in Python library to work with functions efficiently. This section will show you some useful methods of functools. "
   ]
  },
  {
   "cell_type": "markdown",
   "id": "df636cbf",
   "metadata": {},
   "source": [
    "### functools.partial: Generate a New Function with Fewer Arguments"
   ]
  },
  {
   "cell_type": "markdown",
   "id": "49b64684",
   "metadata": {},
   "source": [
    "If you want to fix some arguments of a function and generate a new function with fewer arguments, use `functools.partial`.\n",
    "\n",
    "In the code below, I use `partial` to create a new function with only `x` as the argument."
   ]
  },
  {
   "cell_type": "code",
   "execution_count": 1,
   "id": "737059c1",
   "metadata": {
    "ExecuteTime": {
     "end_time": "2021-08-30T00:52:29.416607Z",
     "start_time": "2021-08-30T00:52:29.395897Z"
    }
   },
   "outputs": [
    {
     "name": "stdout",
     "output_type": "stream",
     "text": [
      "7\n",
      "11\n"
     ]
    }
   ],
   "source": [
    "from functools import partial\n",
    "\n",
    "\n",
    "def linear_func(x, a, b):\n",
    "    return a * x + b\n",
    "\n",
    "\n",
    "linear_func_partial = partial(linear_func, a=2, b=3)\n",
    "print(linear_func_partial(2))\n",
    "print(linear_func_partial(4))"
   ]
  },
  {
   "cell_type": "markdown",
   "id": "d9acfb7b",
   "metadata": {},
   "source": [
    "### functools.singledispatch: Call Another Function Based on the Type of the Current Function’s Argument"
   ]
  },
  {
   "cell_type": "markdown",
   "id": "7b25d1c2",
   "metadata": {},
   "source": [
    "Normally, to call another function based on the type of the current function’s argument, we use an if-else statement:"
   ]
  },
  {
   "cell_type": "code",
   "execution_count": 11,
   "id": "e8fac991",
   "metadata": {
    "ExecuteTime": {
     "end_time": "2021-09-11T14:48:02.760305Z",
     "start_time": "2021-09-11T14:48:02.754004Z"
    }
   },
   "outputs": [],
   "source": [
    "data = {\"a\": [1, 2, 3], \"b\": [4, 5, 6]}\n",
    "data2 = [{\"a\": [1, 2, 3]}, {\"b\": [4, 5, 6]}]"
   ]
  },
  {
   "cell_type": "code",
   "execution_count": 12,
   "id": "5666a583",
   "metadata": {
    "ExecuteTime": {
     "end_time": "2021-09-11T14:48:03.225075Z",
     "start_time": "2021-09-11T14:48:03.217939Z"
    }
   },
   "outputs": [],
   "source": [
    "def process_data(data):\n",
    "    if isinstance(data, dict):\n",
    "        process_dict(data)\n",
    "\n",
    "    else:\n",
    "        process_list(data)\n",
    "\n",
    "\n",
    "def process_dict(data: dict):\n",
    "    print(\"Dict is processed\")\n",
    "\n",
    "\n",
    "def process_list(data: list):\n",
    "    print(\"List is processed\")"
   ]
  },
  {
   "cell_type": "code",
   "execution_count": 13,
   "id": "bfad5b44",
   "metadata": {
    "ExecuteTime": {
     "end_time": "2021-09-11T14:48:03.566377Z",
     "start_time": "2021-09-11T14:48:03.559906Z"
    }
   },
   "outputs": [
    {
     "name": "stdout",
     "output_type": "stream",
     "text": [
      "Dict is processed\n"
     ]
    }
   ],
   "source": [
    "process_data(data)"
   ]
  },
  {
   "cell_type": "code",
   "execution_count": 14,
   "id": "4662b9de",
   "metadata": {
    "ExecuteTime": {
     "end_time": "2021-09-11T14:48:04.207837Z",
     "start_time": "2021-09-11T14:48:04.200372Z"
    }
   },
   "outputs": [
    {
     "name": "stdout",
     "output_type": "stream",
     "text": [
      "List is processed\n"
     ]
    }
   ],
   "source": [
    "process_data(data2)"
   ]
  },
  {
   "cell_type": "markdown",
   "id": "94677ea1",
   "metadata": {},
   "source": [
    "With `singledispatch`, you don’t need to use an if-else statement to call an appropriate function. `singledispatch` will choose the right function based on the type of current function’s first argument."
   ]
  },
  {
   "cell_type": "code",
   "execution_count": 15,
   "id": "0212e301",
   "metadata": {
    "ExecuteTime": {
     "end_time": "2021-09-11T14:48:12.506840Z",
     "start_time": "2021-09-11T14:48:12.498632Z"
    }
   },
   "outputs": [],
   "source": [
    "from functools import singledispatch\n",
    "\n",
    "@singledispatch\n",
    "def process_data2(data):\n",
    "    raise NotImplementedError(\"Please implement process_data2\")\n",
    "\n",
    "\n",
    "@process_data2.register\n",
    "def process_dict2(data: dict):\n",
    "    print(\"Dict is processed\")\n",
    "\n",
    "\n",
    "@process_data2.register\n",
    "def process_list2(data: list):\n",
    "    print(\"List is processed\")"
   ]
  },
  {
   "cell_type": "code",
   "execution_count": 16,
   "id": "f5c56a6f",
   "metadata": {
    "ExecuteTime": {
     "end_time": "2021-09-11T14:48:22.888333Z",
     "start_time": "2021-09-11T14:48:22.881642Z"
    }
   },
   "outputs": [
    {
     "name": "stdout",
     "output_type": "stream",
     "text": [
      "Dict is processed\n"
     ]
    }
   ],
   "source": [
    "process_data2(data)"
   ]
  },
  {
   "cell_type": "code",
   "execution_count": 17,
   "id": "4807826c",
   "metadata": {
    "ExecuteTime": {
     "end_time": "2021-09-11T14:48:23.342964Z",
     "start_time": "2021-09-11T14:48:23.336844Z"
    }
   },
   "outputs": [
    {
     "name": "stdout",
     "output_type": "stream",
     "text": [
      "List is processed\n"
     ]
    }
   ],
   "source": [
    "process_data2(data2)"
   ]
  }
 ],
 "metadata": {
  "celltoolbar": "Tags",
  "kernelspec": {
   "display_name": "Python 3 (ipykernel)",
   "language": "python",
   "name": "python3"
  },
  "language_info": {
   "codemirror_mode": {
    "name": "ipython",
    "version": 3
   },
   "file_extension": ".py",
   "mimetype": "text/x-python",
   "name": "python",
   "nbconvert_exporter": "python",
   "pygments_lexer": "ipython3",
   "version": "3.8.10"
  },
  "toc": {
   "base_numbering": 1,
   "nav_menu": {},
   "number_sections": true,
   "sideBar": true,
   "skip_h1_title": false,
   "title_cell": "Table of Contents",
   "title_sidebar": "Contents",
   "toc_cell": false,
   "toc_position": {},
   "toc_section_display": true,
   "toc_window_display": false
  }
 },
 "nbformat": 4,
 "nbformat_minor": 5
}
