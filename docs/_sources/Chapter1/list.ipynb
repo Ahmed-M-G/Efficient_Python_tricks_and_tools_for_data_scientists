{
 "cells": [
  {
   "cell_type": "markdown",
   "id": "289da6be",
   "metadata": {},
   "source": [
    "## List"
   ]
  },
  {
   "cell_type": "markdown",
   "id": "b7e4ab31",
   "metadata": {},
   "source": [
    "### any: Check if Any Element of an Iterable is True"
   ]
  },
  {
   "cell_type": "markdown",
   "id": "fd3cb900",
   "metadata": {},
   "source": [
    "If you want to check if any element of an iterable is True, use any. In the code below, I use any to find if any element in the text is in uppercase."
   ]
  },
  {
   "cell_type": "code",
   "execution_count": 1,
   "id": "9dd76021",
   "metadata": {
    "ExecuteTime": {
     "end_time": "2021-08-29T20:28:50.995360Z",
     "start_time": "2021-08-29T20:28:50.959633Z"
    }
   },
   "outputs": [
    {
     "data": {
      "text/plain": [
       "True"
      ]
     },
     "execution_count": 1,
     "metadata": {},
     "output_type": "execute_result"
    }
   ],
   "source": [
    "text = \"abcdE\"\n",
    "any(c for c in text if c.isupper())"
   ]
  },
  {
   "cell_type": "markdown",
   "id": "188e1c2a",
   "metadata": {},
   "source": [
    "### filter: Get the Elements of an Iterable that a Function Returns True"
   ]
  },
  {
   "cell_type": "markdown",
   "id": "e4e122e1",
   "metadata": {},
   "source": [
    "If you want to get the elements of an iterable that a function returns true, use filter.\n",
    "\n",
    "In the code below, I use the filter method to get items that are fruits."
   ]
  },
  {
   "cell_type": "code",
   "execution_count": 10,
   "id": "63eaf2a8",
   "metadata": {
    "ExecuteTime": {
     "end_time": "2021-08-29T20:46:20.543627Z",
     "start_time": "2021-08-29T20:46:20.535134Z"
    }
   },
   "outputs": [
    {
     "name": "stdout",
     "output_type": "stream",
     "text": [
      "['apple', 'orange']\n"
     ]
    }
   ],
   "source": [
    "def get_fruit(val: str):\n",
    "    fruits = ['apple', 'orange', 'grape']\n",
    "    if val in fruits:\n",
    "        return True \n",
    "    else:\n",
    "        return False \n",
    "\n",
    "items = ['chair', 'apple', 'water', 'table', 'orange']\n",
    "fruits = filter(get_fruit, items)\n",
    "print(list(fruits))"
   ]
  },
  {
   "cell_type": "markdown",
   "id": "9a2df4c9",
   "metadata": {},
   "source": [
    "### How to Unpack Iterables in Python\t"
   ]
  },
  {
   "cell_type": "markdown",
   "id": "c2ee9ad8",
   "metadata": {},
   "source": [
    "To assign items of a Python iterables (such as list, tuple, string) to different variables, you can unpack the iterable like below."
   ]
  },
  {
   "cell_type": "code",
   "execution_count": 5,
   "id": "ea0e2588",
   "metadata": {
    "ExecuteTime": {
     "end_time": "2021-08-29T20:30:15.811626Z",
     "start_time": "2021-08-29T20:30:15.805278Z"
    }
   },
   "outputs": [],
   "source": [
    "nested_arr = [[1, 2, 3], [\"a\", \"b\"], 4]\n",
    "num_arr, char_arr, num = nested_arr"
   ]
  },
  {
   "cell_type": "code",
   "execution_count": 6,
   "id": "af4b2987",
   "metadata": {
    "ExecuteTime": {
     "end_time": "2021-08-29T20:30:16.113669Z",
     "start_time": "2021-08-29T20:30:16.106288Z"
    }
   },
   "outputs": [
    {
     "data": {
      "text/plain": [
       "[1, 2, 3]"
      ]
     },
     "execution_count": 6,
     "metadata": {},
     "output_type": "execute_result"
    }
   ],
   "source": [
    "num_arr"
   ]
  },
  {
   "cell_type": "code",
   "execution_count": 7,
   "id": "e504e07a",
   "metadata": {
    "ExecuteTime": {
     "end_time": "2021-08-29T20:30:16.504443Z",
     "start_time": "2021-08-29T20:30:16.496372Z"
    }
   },
   "outputs": [
    {
     "data": {
      "text/plain": [
       "['a', 'b']"
      ]
     },
     "execution_count": 7,
     "metadata": {},
     "output_type": "execute_result"
    }
   ],
   "source": [
    "char_arr"
   ]
  },
  {
   "cell_type": "markdown",
   "id": "105663dd",
   "metadata": {},
   "source": [
    "### Extended Iterable Unpacking: Ignore Multiple Values when Unpacking a Python Iterable"
   ]
  },
  {
   "cell_type": "markdown",
   "id": "d43ad717",
   "metadata": {},
   "source": [
    "If you want to ignore multiple values when unpacking a Python iterable, add `*` to `_` as shown below.\n",
    "\n",
    "This is called “Extended Iterable Unpacking” and is available in Python 3.x."
   ]
  },
  {
   "cell_type": "code",
   "execution_count": 2,
   "id": "aed62cec",
   "metadata": {
    "ExecuteTime": {
     "end_time": "2021-08-29T20:29:32.162236Z",
     "start_time": "2021-08-29T20:29:32.154672Z"
    }
   },
   "outputs": [
    {
     "name": "stdout",
     "output_type": "stream",
     "text": [
      "1\n"
     ]
    }
   ],
   "source": [
    "a, *_, b = [1, 2, 3, 4]\n",
    "print(a)"
   ]
  },
  {
   "cell_type": "code",
   "execution_count": 3,
   "id": "318f8e96",
   "metadata": {
    "ExecuteTime": {
     "end_time": "2021-08-29T20:29:32.477959Z",
     "start_time": "2021-08-29T20:29:32.468989Z"
    }
   },
   "outputs": [
    {
     "data": {
      "text/plain": [
       "4"
      ]
     },
     "execution_count": 3,
     "metadata": {},
     "output_type": "execute_result"
    }
   ],
   "source": [
    "b"
   ]
  },
  {
   "cell_type": "code",
   "execution_count": 4,
   "id": "b0d9737d",
   "metadata": {
    "ExecuteTime": {
     "end_time": "2021-08-29T20:29:33.085409Z",
     "start_time": "2021-08-29T20:29:33.077424Z"
    }
   },
   "outputs": [
    {
     "data": {
      "text/plain": [
       "[2, 3]"
      ]
     },
     "execution_count": 4,
     "metadata": {},
     "output_type": "execute_result"
    }
   ],
   "source": [
    "_"
   ]
  },
  {
   "cell_type": "markdown",
   "id": "4d5c8f66",
   "metadata": {},
   "source": [
    "### random.choice: Get a Randomly Selected Element from a Python List"
   ]
  },
  {
   "cell_type": "markdown",
   "id": "cc923ff2",
   "metadata": {},
   "source": [
    "Besides getting a random number, you can also get a random element from a Python list using random. In the code below, “stay at home” was picked randomly from a list of options."
   ]
  },
  {
   "cell_type": "code",
   "execution_count": 8,
   "id": "79af4e1f",
   "metadata": {
    "ExecuteTime": {
     "end_time": "2021-08-29T20:32:11.293157Z",
     "start_time": "2021-08-29T20:32:11.284252Z"
    }
   },
   "outputs": [
    {
     "data": {
      "text/plain": [
       "'attend party'"
      ]
     },
     "execution_count": 8,
     "metadata": {},
     "output_type": "execute_result"
    }
   ],
   "source": [
    "import random \n",
    "\n",
    "to_do_tonight = ['stay at home', 'attend party', 'do exercise']\n",
    "\n",
    "random.choice(to_do_tonight)"
   ]
  },
  {
   "cell_type": "markdown",
   "id": "c9c4b164",
   "metadata": {
    "tags": [
     "remove-cell"
    ]
   },
   "source": [
    "### random.sample: Get Multiple Random Elements from a Python List"
   ]
  },
  {
   "cell_type": "code",
   "execution_count": 11,
   "id": "380b9c35",
   "metadata": {
    "ExecuteTime": {
     "end_time": "2021-08-29T20:47:23.631656Z",
     "start_time": "2021-08-29T20:47:23.626816Z"
    },
    "tags": [
     "remove-cell"
    ]
   },
   "outputs": [],
   "source": [
    "# TODO: add example"
   ]
  },
  {
   "cell_type": "markdown",
   "id": "4310eaf6",
   "metadata": {},
   "source": [
    "### heapq: Find n Max Values of a Python List"
   ]
  },
  {
   "cell_type": "markdown",
   "id": "25efcffd",
   "metadata": {},
   "source": [
    "If you want to extract n max values from a large Python list, using `heapq` will speed up the code.\n",
    "\n",
    "In the code below, using heapq is more than 2 times faster than using sorting and indexing. Both methods try to find the max values of a list of 10000 items.\n"
   ]
  },
  {
   "cell_type": "code",
   "execution_count": 12,
   "id": "4c011275",
   "metadata": {
    "ExecuteTime": {
     "end_time": "2021-08-29T20:48:15.611417Z",
     "start_time": "2021-08-29T20:48:15.590276Z"
    }
   },
   "outputs": [],
   "source": [
    "import heapq\n",
    "import random\n",
    "from timeit import timeit\n",
    "\n",
    "random.seed(0)\n",
    "l = random.sample(range(0, 10000), 10000)\n",
    "\n",
    "def get_n_max_sorting(l: list, n: int):\n",
    "    l = sorted(l, reverse=True)\n",
    "    return l[:n]\n",
    "\n",
    "def get_n_max_heapq(l: list, n: int):\n",
    "    return heapq.nlargest(n, l)"
   ]
  },
  {
   "cell_type": "code",
   "execution_count": 14,
   "id": "54f61ad2",
   "metadata": {
    "ExecuteTime": {
     "end_time": "2021-08-29T20:48:35.703786Z",
     "start_time": "2021-08-29T20:48:34.278925Z"
    }
   },
   "outputs": [
    {
     "name": "stdout",
     "output_type": "stream",
     "text": [
      "Run 1000 experiments. Using heapq is 2.906 times faster than using sorting\n"
     ]
    }
   ],
   "source": [
    "expSize = 1000\n",
    "n = 100\n",
    "time_sorting = timeit(\"get_n_max_sorting(l, n)\", number=expSize,\n",
    "                        globals=globals())\n",
    "time_heapq = timeit('get_n_max_heapq(l, n)', number=expSize,\n",
    "                    globals=globals())\n",
    "\n",
    "ratio = round(time_sorting/time_heapq, 3)\n",
    "print(f'Run {expSize} experiments. Using heapq is {ratio} times'\n",
    "' faster than using sorting')"
   ]
  },
  {
   "cell_type": "markdown",
   "id": "2326a73c",
   "metadata": {},
   "source": [
    "### join method: Turn an Iterable into a Python String"
   ]
  }
 ],
 "metadata": {
  "celltoolbar": "Tags",
  "kernelspec": {
   "display_name": "Python 3 (ipykernel)",
   "language": "python",
   "name": "python3"
  },
  "language_info": {
   "codemirror_mode": {
    "name": "ipython",
    "version": 3
   },
   "file_extension": ".py",
   "mimetype": "text/x-python",
   "name": "python",
   "nbconvert_exporter": "python",
   "pygments_lexer": "ipython3",
   "version": "3.8.10"
  },
  "toc": {
   "base_numbering": 1,
   "nav_menu": {},
   "number_sections": true,
   "sideBar": true,
   "skip_h1_title": false,
   "title_cell": "Table of Contents",
   "title_sidebar": "Contents",
   "toc_cell": false,
   "toc_position": {},
   "toc_section_display": true,
   "toc_window_display": false
  }
 },
 "nbformat": 4,
 "nbformat_minor": 5
}
