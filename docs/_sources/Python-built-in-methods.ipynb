{
 "cells": [
  {
   "cell_type": "code",
   "execution_count": 3,
   "id": "e125988d",
   "metadata": {
    "ExecuteTime": {
     "end_time": "2021-08-29T17:27:38.447548Z",
     "start_time": "2021-08-29T17:27:38.290860Z"
    },
    "tags": [
     "hide-input"
    ]
   },
   "outputs": [
    {
     "data": {
      "application/javascript": [
       "\n",
       "            setTimeout(function() {\n",
       "                var nbb_cell_id = 3;\n",
       "                var nbb_unformatted_code = \"%load_ext nb_black\";\n",
       "                var nbb_formatted_code = \"%load_ext nb_black\";\n",
       "                var nbb_cells = Jupyter.notebook.get_cells();\n",
       "                for (var i = 0; i < nbb_cells.length; ++i) {\n",
       "                    if (nbb_cells[i].input_prompt_number == nbb_cell_id) {\n",
       "                        if (nbb_cells[i].get_text() == nbb_unformatted_code) {\n",
       "                             nbb_cells[i].set_text(nbb_formatted_code);\n",
       "                        }\n",
       "                        break;\n",
       "                    }\n",
       "                }\n",
       "            }, 500);\n",
       "            "
      ],
      "text/plain": [
       "<IPython.core.display.Javascript object>"
      ]
     },
     "metadata": {},
     "output_type": "display_data"
    }
   ],
   "source": [
    "%load_ext nb_black"
   ]
  },
  {
   "cell_type": "markdown",
   "id": "6d4b8249",
   "metadata": {},
   "source": [
    "# Python Built-in Methods"
   ]
  },
  {
   "cell_type": "markdown",
   "id": "02ba16b8",
   "metadata": {},
   "source": [
    "## Number"
   ]
  },
  {
   "cell_type": "markdown",
   "id": "26ee32db",
   "metadata": {},
   "source": [
    "### Get Multiples of a Number Using Modulus"
   ]
  },
  {
   "cell_type": "markdown",
   "id": "0142f3b7",
   "metadata": {},
   "source": [
    "If you want to get multiples of a number, use the modulus operator `%`. The modulus operator is used to get the remainder of a division. For example, `4 % 3 = 1`, `5 % 3 = 2`.\n",
    "\n",
    "Thus, to get multiples of `n`, we select only numbers whose remainders are 0 when dividing them by `n`. "
   ]
  },
  {
   "cell_type": "code",
   "execution_count": 4,
   "id": "fe6ef980",
   "metadata": {
    "ExecuteTime": {
     "end_time": "2021-08-29T17:27:40.975601Z",
     "start_time": "2021-08-29T17:27:40.945215Z"
    }
   },
   "outputs": [
    {
     "data": {
      "application/javascript": [
       "\n",
       "            setTimeout(function() {\n",
       "                var nbb_cell_id = 4;\n",
       "                var nbb_unformatted_code = \"def get_multiples_of_n(nums: list, n: int):\\n    \\\"\\\"\\\"Select only numbers whose remainders\\n    are 0 when dividing them by n\\\"\\\"\\\"\\n    return [num for num in nums if num % n == 0]\\n\\n\\nnums = [1, 4, 9, 12, 15, 16]\";\n",
       "                var nbb_formatted_code = \"def get_multiples_of_n(nums: list, n: int):\\n    \\\"\\\"\\\"Select only numbers whose remainders\\n    are 0 when dividing them by n\\\"\\\"\\\"\\n    return [num for num in nums if num % n == 0]\\n\\n\\nnums = [1, 4, 9, 12, 15, 16]\";\n",
       "                var nbb_cells = Jupyter.notebook.get_cells();\n",
       "                for (var i = 0; i < nbb_cells.length; ++i) {\n",
       "                    if (nbb_cells[i].input_prompt_number == nbb_cell_id) {\n",
       "                        if (nbb_cells[i].get_text() == nbb_unformatted_code) {\n",
       "                             nbb_cells[i].set_text(nbb_formatted_code);\n",
       "                        }\n",
       "                        break;\n",
       "                    }\n",
       "                }\n",
       "            }, 500);\n",
       "            "
      ],
      "text/plain": [
       "<IPython.core.display.Javascript object>"
      ]
     },
     "metadata": {},
     "output_type": "display_data"
    }
   ],
   "source": [
    "def get_multiples_of_n(nums: list, n: int):\n",
    "    \"\"\"Select only numbers whose remainders\n",
    "    are 0 when dividing them by n\"\"\"\n",
    "    return [num for num in nums if num % n == 0]\n",
    "\n",
    "\n",
    "nums = [1, 4, 9, 12, 15, 16]"
   ]
  },
  {
   "cell_type": "code",
   "execution_count": 5,
   "id": "072b19a8",
   "metadata": {
    "ExecuteTime": {
     "end_time": "2021-08-29T17:27:41.599689Z",
     "start_time": "2021-08-29T17:27:41.582148Z"
    }
   },
   "outputs": [
    {
     "data": {
      "text/plain": [
       "[4, 12, 16]"
      ]
     },
     "execution_count": 5,
     "metadata": {},
     "output_type": "execute_result"
    },
    {
     "data": {
      "application/javascript": [
       "\n",
       "            setTimeout(function() {\n",
       "                var nbb_cell_id = 5;\n",
       "                var nbb_unformatted_code = \"get_multiples_of_n(nums, 2)  # multiples of 2\";\n",
       "                var nbb_formatted_code = \"get_multiples_of_n(nums, 2)  # multiples of 2\";\n",
       "                var nbb_cells = Jupyter.notebook.get_cells();\n",
       "                for (var i = 0; i < nbb_cells.length; ++i) {\n",
       "                    if (nbb_cells[i].input_prompt_number == nbb_cell_id) {\n",
       "                        if (nbb_cells[i].get_text() == nbb_unformatted_code) {\n",
       "                             nbb_cells[i].set_text(nbb_formatted_code);\n",
       "                        }\n",
       "                        break;\n",
       "                    }\n",
       "                }\n",
       "            }, 500);\n",
       "            "
      ],
      "text/plain": [
       "<IPython.core.display.Javascript object>"
      ]
     },
     "metadata": {},
     "output_type": "display_data"
    }
   ],
   "source": [
    "get_multiples_of_n(nums, 2)  # multiples of 2"
   ]
  },
  {
   "cell_type": "code",
   "execution_count": 6,
   "id": "77fc1409",
   "metadata": {
    "ExecuteTime": {
     "end_time": "2021-08-29T17:27:42.241095Z",
     "start_time": "2021-08-29T17:27:42.223108Z"
    }
   },
   "outputs": [
    {
     "data": {
      "text/plain": [
       "[9, 12, 15]"
      ]
     },
     "execution_count": 6,
     "metadata": {},
     "output_type": "execute_result"
    },
    {
     "data": {
      "application/javascript": [
       "\n",
       "            setTimeout(function() {\n",
       "                var nbb_cell_id = 6;\n",
       "                var nbb_unformatted_code = \"get_multiples_of_n(nums, 3)  # multiples of 3\";\n",
       "                var nbb_formatted_code = \"get_multiples_of_n(nums, 3)  # multiples of 3\";\n",
       "                var nbb_cells = Jupyter.notebook.get_cells();\n",
       "                for (var i = 0; i < nbb_cells.length; ++i) {\n",
       "                    if (nbb_cells[i].input_prompt_number == nbb_cell_id) {\n",
       "                        if (nbb_cells[i].get_text() == nbb_unformatted_code) {\n",
       "                             nbb_cells[i].set_text(nbb_formatted_code);\n",
       "                        }\n",
       "                        break;\n",
       "                    }\n",
       "                }\n",
       "            }, 500);\n",
       "            "
      ],
      "text/plain": [
       "<IPython.core.display.Javascript object>"
      ]
     },
     "metadata": {},
     "output_type": "display_data"
    }
   ],
   "source": [
    "get_multiples_of_n(nums, 3)  # multiples of 3"
   ]
  },
  {
   "cell_type": "code",
   "execution_count": 7,
   "id": "34c89e07",
   "metadata": {
    "ExecuteTime": {
     "end_time": "2021-08-29T17:27:42.693559Z",
     "start_time": "2021-08-29T17:27:42.672371Z"
    }
   },
   "outputs": [
    {
     "data": {
      "text/plain": [
       "[4, 12, 16]"
      ]
     },
     "execution_count": 7,
     "metadata": {},
     "output_type": "execute_result"
    },
    {
     "data": {
      "application/javascript": [
       "\n",
       "            setTimeout(function() {\n",
       "                var nbb_cell_id = 7;\n",
       "                var nbb_unformatted_code = \"get_multiples_of_n(nums, 4)  # multiples of 4\";\n",
       "                var nbb_formatted_code = \"get_multiples_of_n(nums, 4)  # multiples of 4\";\n",
       "                var nbb_cells = Jupyter.notebook.get_cells();\n",
       "                for (var i = 0; i < nbb_cells.length; ++i) {\n",
       "                    if (nbb_cells[i].input_prompt_number == nbb_cell_id) {\n",
       "                        if (nbb_cells[i].get_text() == nbb_unformatted_code) {\n",
       "                             nbb_cells[i].set_text(nbb_formatted_code);\n",
       "                        }\n",
       "                        break;\n",
       "                    }\n",
       "                }\n",
       "            }, 500);\n",
       "            "
      ],
      "text/plain": [
       "<IPython.core.display.Javascript object>"
      ]
     },
     "metadata": {},
     "output_type": "display_data"
    }
   ],
   "source": [
    "get_multiples_of_n(nums, 4)  # multiples of 4"
   ]
  },
  {
   "cell_type": "markdown",
   "id": "7ea06b3b",
   "metadata": {},
   "source": [
    "### fractions: Get Numerical Results in Fractions instead of Decimals"
   ]
  },
  {
   "cell_type": "markdown",
   "id": "aee16694",
   "metadata": {},
   "source": [
    "Normally, when you divide a number by another number, you will get a decimal:"
   ]
  },
  {
   "cell_type": "code",
   "execution_count": 8,
   "id": "10195dce",
   "metadata": {
    "ExecuteTime": {
     "end_time": "2021-08-29T17:27:43.860462Z",
     "start_time": "2021-08-29T17:27:43.848634Z"
    }
   },
   "outputs": [
    {
     "data": {
      "text/plain": [
       "1.6666666666666665"
      ]
     },
     "execution_count": 8,
     "metadata": {},
     "output_type": "execute_result"
    },
    {
     "data": {
      "application/javascript": [
       "\n",
       "            setTimeout(function() {\n",
       "                var nbb_cell_id = 8;\n",
       "                var nbb_unformatted_code = \"2 / 3 + 1\";\n",
       "                var nbb_formatted_code = \"2 / 3 + 1\";\n",
       "                var nbb_cells = Jupyter.notebook.get_cells();\n",
       "                for (var i = 0; i < nbb_cells.length; ++i) {\n",
       "                    if (nbb_cells[i].input_prompt_number == nbb_cell_id) {\n",
       "                        if (nbb_cells[i].get_text() == nbb_unformatted_code) {\n",
       "                             nbb_cells[i].set_text(nbb_formatted_code);\n",
       "                        }\n",
       "                        break;\n",
       "                    }\n",
       "                }\n",
       "            }, 500);\n",
       "            "
      ],
      "text/plain": [
       "<IPython.core.display.Javascript object>"
      ]
     },
     "metadata": {},
     "output_type": "display_data"
    }
   ],
   "source": [
    "2 / 3 + 1"
   ]
  },
  {
   "cell_type": "markdown",
   "id": "c4129671",
   "metadata": {},
   "source": [
    "Sometimes, you might prefer to get the results in fractions instead of decimals. There is Python built-in function called fractions that allows you to do exactly that. The code above shows how it works:"
   ]
  },
  {
   "cell_type": "code",
   "execution_count": 9,
   "id": "40c586ee",
   "metadata": {
    "ExecuteTime": {
     "end_time": "2021-08-29T17:27:44.447807Z",
     "start_time": "2021-08-29T17:27:44.434067Z"
    }
   },
   "outputs": [
    {
     "name": "stdout",
     "output_type": "stream",
     "text": [
      "3752999689475413/2251799813685248\n"
     ]
    },
    {
     "data": {
      "application/javascript": [
       "\n",
       "            setTimeout(function() {\n",
       "                var nbb_cell_id = 9;\n",
       "                var nbb_unformatted_code = \"from fractions import Fraction\\n\\nres = Fraction(2 / 3 + 1)\\nprint(res)\";\n",
       "                var nbb_formatted_code = \"from fractions import Fraction\\n\\nres = Fraction(2 / 3 + 1)\\nprint(res)\";\n",
       "                var nbb_cells = Jupyter.notebook.get_cells();\n",
       "                for (var i = 0; i < nbb_cells.length; ++i) {\n",
       "                    if (nbb_cells[i].input_prompt_number == nbb_cell_id) {\n",
       "                        if (nbb_cells[i].get_text() == nbb_unformatted_code) {\n",
       "                             nbb_cells[i].set_text(nbb_formatted_code);\n",
       "                        }\n",
       "                        break;\n",
       "                    }\n",
       "                }\n",
       "            }, 500);\n",
       "            "
      ],
      "text/plain": [
       "<IPython.core.display.Javascript object>"
      ]
     },
     "metadata": {},
     "output_type": "display_data"
    }
   ],
   "source": [
    "from fractions import Fraction\n",
    "\n",
    "res = Fraction(2 / 3 + 1)\n",
    "print(res)"
   ]
  },
  {
   "cell_type": "markdown",
   "id": "c03cf1b9",
   "metadata": {},
   "source": [
    "Cool! We got a fraction instead of a decimal. To limit the number of decimals displayed, use `limit_denominator()`."
   ]
  },
  {
   "cell_type": "code",
   "execution_count": 10,
   "id": "0ceb88df",
   "metadata": {
    "ExecuteTime": {
     "end_time": "2021-08-29T17:27:44.915768Z",
     "start_time": "2021-08-29T17:27:44.897651Z"
    }
   },
   "outputs": [
    {
     "name": "stdout",
     "output_type": "stream",
     "text": [
      "5/3\n"
     ]
    },
    {
     "data": {
      "application/javascript": [
       "\n",
       "            setTimeout(function() {\n",
       "                var nbb_cell_id = 10;\n",
       "                var nbb_unformatted_code = \"res = res.limit_denominator()\\nprint(res)\";\n",
       "                var nbb_formatted_code = \"res = res.limit_denominator()\\nprint(res)\";\n",
       "                var nbb_cells = Jupyter.notebook.get_cells();\n",
       "                for (var i = 0; i < nbb_cells.length; ++i) {\n",
       "                    if (nbb_cells[i].input_prompt_number == nbb_cell_id) {\n",
       "                        if (nbb_cells[i].get_text() == nbb_unformatted_code) {\n",
       "                             nbb_cells[i].set_text(nbb_formatted_code);\n",
       "                        }\n",
       "                        break;\n",
       "                    }\n",
       "                }\n",
       "            }, 500);\n",
       "            "
      ],
      "text/plain": [
       "<IPython.core.display.Javascript object>"
      ]
     },
     "metadata": {},
     "output_type": "display_data"
    }
   ],
   "source": [
    "res = res.limit_denominator()\n",
    "print(res)"
   ]
  },
  {
   "cell_type": "markdown",
   "id": "be22b669",
   "metadata": {},
   "source": [
    "What happens if we divide the result we got from `Fraction` by another number?"
   ]
  },
  {
   "cell_type": "code",
   "execution_count": 11,
   "id": "734dd019",
   "metadata": {
    "ExecuteTime": {
     "end_time": "2021-08-29T17:27:45.301246Z",
     "start_time": "2021-08-29T17:27:45.288747Z"
    }
   },
   "outputs": [
    {
     "name": "stdout",
     "output_type": "stream",
     "text": [
      "5/9\n"
     ]
    },
    {
     "data": {
      "application/javascript": [
       "\n",
       "            setTimeout(function() {\n",
       "                var nbb_cell_id = 11;\n",
       "                var nbb_unformatted_code = \"print(res / 3)\";\n",
       "                var nbb_formatted_code = \"print(res / 3)\";\n",
       "                var nbb_cells = Jupyter.notebook.get_cells();\n",
       "                for (var i = 0; i < nbb_cells.length; ++i) {\n",
       "                    if (nbb_cells[i].input_prompt_number == nbb_cell_id) {\n",
       "                        if (nbb_cells[i].get_text() == nbb_unformatted_code) {\n",
       "                             nbb_cells[i].set_text(nbb_formatted_code);\n",
       "                        }\n",
       "                        break;\n",
       "                    }\n",
       "                }\n",
       "            }, 500);\n",
       "            "
      ],
      "text/plain": [
       "<IPython.core.display.Javascript object>"
      ]
     },
     "metadata": {},
     "output_type": "display_data"
    }
   ],
   "source": [
    "print(res / 3)"
   ]
  },
  {
   "cell_type": "markdown",
   "id": "a261faac",
   "metadata": {},
   "source": [
    "Nice! We got back a fraction without using the `Fraction` object again. "
   ]
  },
  {
   "cell_type": "markdown",
   "id": "15361621",
   "metadata": {},
   "source": [
    "Being able to turn decimals into fractions is nice, but what if want to get other nice math outputs in Python such as $\\sqrt{8} = 2\\sqrt{2}$? That is when SymPy comes in handy."
   ]
  },
  {
   "cell_type": "markdown",
   "id": "5d45641a",
   "metadata": {},
   "source": [
    "### How to Use Underscores to Format Large Numbers in Python"
   ]
  },
  {
   "cell_type": "code",
   "execution_count": 12,
   "id": "c667626c",
   "metadata": {
    "ExecuteTime": {
     "end_time": "2021-08-29T17:27:46.110805Z",
     "start_time": "2021-08-29T17:27:46.104363Z"
    }
   },
   "outputs": [
    {
     "data": {
      "text/plain": [
       "1000000"
      ]
     },
     "execution_count": 12,
     "metadata": {},
     "output_type": "execute_result"
    },
    {
     "data": {
      "application/javascript": [
       "\n",
       "            setTimeout(function() {\n",
       "                var nbb_cell_id = 12;\n",
       "                var nbb_unformatted_code = \"large_num = 1_000_000\\nlarge_num\";\n",
       "                var nbb_formatted_code = \"large_num = 1_000_000\\nlarge_num\";\n",
       "                var nbb_cells = Jupyter.notebook.get_cells();\n",
       "                for (var i = 0; i < nbb_cells.length; ++i) {\n",
       "                    if (nbb_cells[i].input_prompt_number == nbb_cell_id) {\n",
       "                        if (nbb_cells[i].get_text() == nbb_unformatted_code) {\n",
       "                             nbb_cells[i].set_text(nbb_formatted_code);\n",
       "                        }\n",
       "                        break;\n",
       "                    }\n",
       "                }\n",
       "            }, 500);\n",
       "            "
      ],
      "text/plain": [
       "<IPython.core.display.Javascript object>"
      ]
     },
     "metadata": {},
     "output_type": "display_data"
    }
   ],
   "source": [
    "large_num = 1_000_000\n",
    "large_num"
   ]
  },
  {
   "cell_type": "markdown",
   "id": "c742c6ee",
   "metadata": {},
   "source": [
    "### Confirm whether a variable is a number\n",
    "\n"
   ]
  },
  {
   "cell_type": "code",
   "execution_count": 13,
   "id": "5ef1b481",
   "metadata": {
    "ExecuteTime": {
     "end_time": "2021-08-29T17:27:46.540869Z",
     "start_time": "2021-08-29T17:27:46.528782Z"
    }
   },
   "outputs": [
    {
     "data": {
      "text/plain": [
       "True"
      ]
     },
     "execution_count": 13,
     "metadata": {},
     "output_type": "execute_result"
    },
    {
     "data": {
      "application/javascript": [
       "\n",
       "            setTimeout(function() {\n",
       "                var nbb_cell_id = 13;\n",
       "                var nbb_unformatted_code = \"from numbers import Number\\n\\na = 2\\nb = 0.4\\n\\nisinstance(a, Number)\";\n",
       "                var nbb_formatted_code = \"from numbers import Number\\n\\na = 2\\nb = 0.4\\n\\nisinstance(a, Number)\";\n",
       "                var nbb_cells = Jupyter.notebook.get_cells();\n",
       "                for (var i = 0; i < nbb_cells.length; ++i) {\n",
       "                    if (nbb_cells[i].input_prompt_number == nbb_cell_id) {\n",
       "                        if (nbb_cells[i].get_text() == nbb_unformatted_code) {\n",
       "                             nbb_cells[i].set_text(nbb_formatted_code);\n",
       "                        }\n",
       "                        break;\n",
       "                    }\n",
       "                }\n",
       "            }, 500);\n",
       "            "
      ],
      "text/plain": [
       "<IPython.core.display.Javascript object>"
      ]
     },
     "metadata": {},
     "output_type": "display_data"
    }
   ],
   "source": [
    "from numbers import Number\n",
    "\n",
    "a = 2\n",
    "b = 0.4\n",
    "\n",
    "isinstance(a, Number)"
   ]
  },
  {
   "cell_type": "code",
   "execution_count": 14,
   "id": "87d95b0c",
   "metadata": {
    "ExecuteTime": {
     "end_time": "2021-08-29T17:27:46.717101Z",
     "start_time": "2021-08-29T17:27:46.711187Z"
    }
   },
   "outputs": [
    {
     "data": {
      "text/plain": [
       "True"
      ]
     },
     "execution_count": 14,
     "metadata": {},
     "output_type": "execute_result"
    },
    {
     "data": {
      "application/javascript": [
       "\n",
       "            setTimeout(function() {\n",
       "                var nbb_cell_id = 14;\n",
       "                var nbb_unformatted_code = \"isinstance(b, Number)\";\n",
       "                var nbb_formatted_code = \"isinstance(b, Number)\";\n",
       "                var nbb_cells = Jupyter.notebook.get_cells();\n",
       "                for (var i = 0; i < nbb_cells.length; ++i) {\n",
       "                    if (nbb_cells[i].input_prompt_number == nbb_cell_id) {\n",
       "                        if (nbb_cells[i].get_text() == nbb_unformatted_code) {\n",
       "                             nbb_cells[i].set_text(nbb_formatted_code);\n",
       "                        }\n",
       "                        break;\n",
       "                    }\n",
       "                }\n",
       "            }, 500);\n",
       "            "
      ],
      "text/plain": [
       "<IPython.core.display.Javascript object>"
      ]
     },
     "metadata": {},
     "output_type": "display_data"
    }
   ],
   "source": [
    "isinstance(b, Number)"
   ]
  },
  {
   "cell_type": "markdown",
   "id": "ed90aca9",
   "metadata": {},
   "source": [
    "## Boolean Operators: Connect Two Boolean Expressions into One Expression"
   ]
  },
  {
   "cell_type": "code",
   "execution_count": 15,
   "id": "f1d8d9df",
   "metadata": {
    "ExecuteTime": {
     "end_time": "2021-08-29T17:27:47.163421Z",
     "start_time": "2021-08-29T17:27:47.151081Z"
    }
   },
   "outputs": [
    {
     "data": {
      "text/plain": [
       "True"
      ]
     },
     "execution_count": 15,
     "metadata": {},
     "output_type": "execute_result"
    },
    {
     "data": {
      "application/javascript": [
       "\n",
       "            setTimeout(function() {\n",
       "                var nbb_cell_id = 15;\n",
       "                var nbb_unformatted_code = \"movie_available = True\\nhave_money = False\\n\\nget_excited = movie_available | have_money\\nget_excited\";\n",
       "                var nbb_formatted_code = \"movie_available = True\\nhave_money = False\\n\\nget_excited = movie_available | have_money\\nget_excited\";\n",
       "                var nbb_cells = Jupyter.notebook.get_cells();\n",
       "                for (var i = 0; i < nbb_cells.length; ++i) {\n",
       "                    if (nbb_cells[i].input_prompt_number == nbb_cell_id) {\n",
       "                        if (nbb_cells[i].get_text() == nbb_unformatted_code) {\n",
       "                             nbb_cells[i].set_text(nbb_formatted_code);\n",
       "                        }\n",
       "                        break;\n",
       "                    }\n",
       "                }\n",
       "            }, 500);\n",
       "            "
      ],
      "text/plain": [
       "<IPython.core.display.Javascript object>"
      ]
     },
     "metadata": {},
     "output_type": "display_data"
    }
   ],
   "source": [
    "movie_available = True\n",
    "have_money = False\n",
    "\n",
    "get_excited = movie_available | have_money\n",
    "get_excited"
   ]
  },
  {
   "cell_type": "code",
   "execution_count": 16,
   "id": "c420caca",
   "metadata": {
    "ExecuteTime": {
     "end_time": "2021-08-29T17:27:47.408059Z",
     "start_time": "2021-08-29T17:27:47.394882Z"
    }
   },
   "outputs": [
    {
     "data": {
      "text/plain": [
       "False"
      ]
     },
     "execution_count": 16,
     "metadata": {},
     "output_type": "execute_result"
    },
    {
     "data": {
      "application/javascript": [
       "\n",
       "            setTimeout(function() {\n",
       "                var nbb_cell_id = 16;\n",
       "                var nbb_unformatted_code = \"buy = movie_available & have_money\\nbuy\";\n",
       "                var nbb_formatted_code = \"buy = movie_available & have_money\\nbuy\";\n",
       "                var nbb_cells = Jupyter.notebook.get_cells();\n",
       "                for (var i = 0; i < nbb_cells.length; ++i) {\n",
       "                    if (nbb_cells[i].input_prompt_number == nbb_cell_id) {\n",
       "                        if (nbb_cells[i].get_text() == nbb_unformatted_code) {\n",
       "                             nbb_cells[i].set_text(nbb_formatted_code);\n",
       "                        }\n",
       "                        break;\n",
       "                    }\n",
       "                }\n",
       "            }, 500);\n",
       "            "
      ],
      "text/plain": [
       "<IPython.core.display.Javascript object>"
      ]
     },
     "metadata": {},
     "output_type": "display_data"
    }
   ],
   "source": [
    "buy = movie_available & have_money\n",
    "buy"
   ]
  },
  {
   "cell_type": "markdown",
   "id": "07084ffc",
   "metadata": {},
   "source": [
    "## String"
   ]
  },
  {
   "cell_type": "markdown",
   "id": "1370eca9",
   "metadata": {},
   "source": [
    "### String find: Find the Index of a Substring in a Python STring"
   ]
  },
  {
   "cell_type": "code",
   "execution_count": 17,
   "id": "daede307",
   "metadata": {
    "ExecuteTime": {
     "end_time": "2021-08-29T17:27:48.012042Z",
     "start_time": "2021-08-29T17:27:48.005899Z"
    }
   },
   "outputs": [
    {
     "data": {
      "text/plain": [
       "2"
      ]
     },
     "execution_count": 17,
     "metadata": {},
     "output_type": "execute_result"
    },
    {
     "data": {
      "application/javascript": [
       "\n",
       "            setTimeout(function() {\n",
       "                var nbb_cell_id = 17;\n",
       "                var nbb_unformatted_code = \"sentence = \\\"Today is Saturaday\\\"\\n\\n# Find the index of first occurrence of the substring\\nsentence.find(\\\"day\\\")\";\n",
       "                var nbb_formatted_code = \"sentence = \\\"Today is Saturaday\\\"\\n\\n# Find the index of first occurrence of the substring\\nsentence.find(\\\"day\\\")\";\n",
       "                var nbb_cells = Jupyter.notebook.get_cells();\n",
       "                for (var i = 0; i < nbb_cells.length; ++i) {\n",
       "                    if (nbb_cells[i].input_prompt_number == nbb_cell_id) {\n",
       "                        if (nbb_cells[i].get_text() == nbb_unformatted_code) {\n",
       "                             nbb_cells[i].set_text(nbb_formatted_code);\n",
       "                        }\n",
       "                        break;\n",
       "                    }\n",
       "                }\n",
       "            }, 500);\n",
       "            "
      ],
      "text/plain": [
       "<IPython.core.display.Javascript object>"
      ]
     },
     "metadata": {},
     "output_type": "display_data"
    }
   ],
   "source": [
    "sentence = \"Today is Saturaday\"\n",
    "\n",
    "# Find the index of first occurrence of the substring\n",
    "sentence.find(\"day\")"
   ]
  },
  {
   "cell_type": "code",
   "execution_count": 18,
   "id": "5d21edb0",
   "metadata": {
    "ExecuteTime": {
     "end_time": "2021-08-29T17:27:48.255682Z",
     "start_time": "2021-08-29T17:27:48.240474Z"
    }
   },
   "outputs": [
    {
     "data": {
      "text/plain": [
       "15"
      ]
     },
     "execution_count": 18,
     "metadata": {},
     "output_type": "execute_result"
    },
    {
     "data": {
      "application/javascript": [
       "\n",
       "            setTimeout(function() {\n",
       "                var nbb_cell_id = 18;\n",
       "                var nbb_unformatted_code = \"# Start searching for the substring at index 3\\nsentence.find(\\\"day\\\", 3)\";\n",
       "                var nbb_formatted_code = \"# Start searching for the substring at index 3\\nsentence.find(\\\"day\\\", 3)\";\n",
       "                var nbb_cells = Jupyter.notebook.get_cells();\n",
       "                for (var i = 0; i < nbb_cells.length; ++i) {\n",
       "                    if (nbb_cells[i].input_prompt_number == nbb_cell_id) {\n",
       "                        if (nbb_cells[i].get_text() == nbb_unformatted_code) {\n",
       "                             nbb_cells[i].set_text(nbb_formatted_code);\n",
       "                        }\n",
       "                        break;\n",
       "                    }\n",
       "                }\n",
       "            }, 500);\n",
       "            "
      ],
      "text/plain": [
       "<IPython.core.display.Javascript object>"
      ]
     },
     "metadata": {},
     "output_type": "display_data"
    }
   ],
   "source": [
    "# Start searching for the substring at index 3\n",
    "sentence.find(\"day\", 3)"
   ]
  },
  {
   "cell_type": "code",
   "execution_count": 19,
   "id": "97ae6c0e",
   "metadata": {
    "ExecuteTime": {
     "end_time": "2021-08-29T17:27:48.479178Z",
     "start_time": "2021-08-29T17:27:48.464515Z"
    }
   },
   "outputs": [
    {
     "data": {
      "text/plain": [
       "-1"
      ]
     },
     "execution_count": 19,
     "metadata": {},
     "output_type": "execute_result"
    },
    {
     "data": {
      "application/javascript": [
       "\n",
       "            setTimeout(function() {\n",
       "                var nbb_cell_id = 19;\n",
       "                var nbb_unformatted_code = \"sentence.find(\\\"nice\\\")\\n# No substring is found\";\n",
       "                var nbb_formatted_code = \"sentence.find(\\\"nice\\\")\\n# No substring is found\";\n",
       "                var nbb_cells = Jupyter.notebook.get_cells();\n",
       "                for (var i = 0; i < nbb_cells.length; ++i) {\n",
       "                    if (nbb_cells[i].input_prompt_number == nbb_cell_id) {\n",
       "                        if (nbb_cells[i].get_text() == nbb_unformatted_code) {\n",
       "                             nbb_cells[i].set_text(nbb_formatted_code);\n",
       "                        }\n",
       "                        break;\n",
       "                    }\n",
       "                }\n",
       "            }, 500);\n",
       "            "
      ],
      "text/plain": [
       "<IPython.core.display.Javascript object>"
      ]
     },
     "metadata": {},
     "output_type": "display_data"
    }
   ],
   "source": [
    "sentence.find(\"nice\")\n",
    "# No substring is found"
   ]
  },
  {
   "cell_type": "markdown",
   "id": "33f42195",
   "metadata": {},
   "source": [
    "### re.sub: Replace One String with Another String Using Regular Expression\t"
   ]
  },
  {
   "cell_type": "code",
   "execution_count": 20,
   "id": "042bf42f",
   "metadata": {
    "ExecuteTime": {
     "end_time": "2021-08-29T17:27:48.901039Z",
     "start_time": "2021-08-29T17:27:48.894370Z"
    }
   },
   "outputs": [
    {
     "data": {
      "text/plain": [
       "'Today is Sunday'"
      ]
     },
     "execution_count": 20,
     "metadata": {},
     "output_type": "execute_result"
    },
    {
     "data": {
      "application/javascript": [
       "\n",
       "            setTimeout(function() {\n",
       "                var nbb_cell_id = 20;\n",
       "                var nbb_unformatted_code = \"import re\\n\\ntext = \\\"Today is 3/7/2021\\\"\\nmatch_pattern = r\\\"(\\\\d+)/(\\\\d+)/(\\\\d+)\\\"\\n\\nre.sub(match_pattern, \\\"Sunday\\\", text)\";\n",
       "                var nbb_formatted_code = \"import re\\n\\ntext = \\\"Today is 3/7/2021\\\"\\nmatch_pattern = r\\\"(\\\\d+)/(\\\\d+)/(\\\\d+)\\\"\\n\\nre.sub(match_pattern, \\\"Sunday\\\", text)\";\n",
       "                var nbb_cells = Jupyter.notebook.get_cells();\n",
       "                for (var i = 0; i < nbb_cells.length; ++i) {\n",
       "                    if (nbb_cells[i].input_prompt_number == nbb_cell_id) {\n",
       "                        if (nbb_cells[i].get_text() == nbb_unformatted_code) {\n",
       "                             nbb_cells[i].set_text(nbb_formatted_code);\n",
       "                        }\n",
       "                        break;\n",
       "                    }\n",
       "                }\n",
       "            }, 500);\n",
       "            "
      ],
      "text/plain": [
       "<IPython.core.display.Javascript object>"
      ]
     },
     "metadata": {},
     "output_type": "display_data"
    }
   ],
   "source": [
    "import re\n",
    "\n",
    "text = \"Today is 3/7/2021\"\n",
    "match_pattern = r\"(\\d+)/(\\d+)/(\\d+)\"\n",
    "\n",
    "re.sub(match_pattern, \"Sunday\", text)"
   ]
  },
  {
   "cell_type": "code",
   "execution_count": 21,
   "id": "cce61c55",
   "metadata": {
    "ExecuteTime": {
     "end_time": "2021-08-29T17:27:49.132156Z",
     "start_time": "2021-08-29T17:27:49.122699Z"
    },
    "scrolled": false
   },
   "outputs": [
    {
     "data": {
      "text/plain": [
       "'Today is 2021-3-7'"
      ]
     },
     "execution_count": 21,
     "metadata": {},
     "output_type": "execute_result"
    },
    {
     "data": {
      "application/javascript": [
       "\n",
       "            setTimeout(function() {\n",
       "                var nbb_cell_id = 21;\n",
       "                var nbb_unformatted_code = \"re.sub(match_pattern, r\\\"\\\\3-\\\\1-\\\\2\\\", text)\";\n",
       "                var nbb_formatted_code = \"re.sub(match_pattern, r\\\"\\\\3-\\\\1-\\\\2\\\", text)\";\n",
       "                var nbb_cells = Jupyter.notebook.get_cells();\n",
       "                for (var i = 0; i < nbb_cells.length; ++i) {\n",
       "                    if (nbb_cells[i].input_prompt_number == nbb_cell_id) {\n",
       "                        if (nbb_cells[i].get_text() == nbb_unformatted_code) {\n",
       "                             nbb_cells[i].set_text(nbb_formatted_code);\n",
       "                        }\n",
       "                        break;\n",
       "                    }\n",
       "                }\n",
       "            }, 500);\n",
       "            "
      ],
      "text/plain": [
       "<IPython.core.display.Javascript object>"
      ]
     },
     "metadata": {},
     "output_type": "display_data"
    }
   ],
   "source": [
    "re.sub(match_pattern, r\"\\3-\\1-\\2\", text)"
   ]
  },
  {
   "cell_type": "markdown",
   "id": "289da6be",
   "metadata": {},
   "source": [
    "## List"
   ]
  },
  {
   "cell_type": "markdown",
   "id": "b7e4ab31",
   "metadata": {},
   "source": [
    "### any: Check if Any Element of an Iterable is True"
   ]
  },
  {
   "cell_type": "code",
   "execution_count": 22,
   "id": "9dd76021",
   "metadata": {
    "ExecuteTime": {
     "end_time": "2021-08-29T17:27:49.820516Z",
     "start_time": "2021-08-29T17:27:49.814023Z"
    }
   },
   "outputs": [
    {
     "data": {
      "text/plain": [
       "True"
      ]
     },
     "execution_count": 22,
     "metadata": {},
     "output_type": "execute_result"
    },
    {
     "data": {
      "application/javascript": [
       "\n",
       "            setTimeout(function() {\n",
       "                var nbb_cell_id = 22;\n",
       "                var nbb_unformatted_code = \"text = \\\"abcdE\\\"\\nany(c for c in text if c.isupper())\";\n",
       "                var nbb_formatted_code = \"text = \\\"abcdE\\\"\\nany(c for c in text if c.isupper())\";\n",
       "                var nbb_cells = Jupyter.notebook.get_cells();\n",
       "                for (var i = 0; i < nbb_cells.length; ++i) {\n",
       "                    if (nbb_cells[i].input_prompt_number == nbb_cell_id) {\n",
       "                        if (nbb_cells[i].get_text() == nbb_unformatted_code) {\n",
       "                             nbb_cells[i].set_text(nbb_formatted_code);\n",
       "                        }\n",
       "                        break;\n",
       "                    }\n",
       "                }\n",
       "            }, 500);\n",
       "            "
      ],
      "text/plain": [
       "<IPython.core.display.Javascript object>"
      ]
     },
     "metadata": {},
     "output_type": "display_data"
    }
   ],
   "source": [
    "text = \"abcdE\"\n",
    "any(c for c in text if c.isupper())"
   ]
  },
  {
   "cell_type": "markdown",
   "id": "105663dd",
   "metadata": {},
   "source": [
    "### Extended Iterable Unpacking: Ignore Multiple Values when Unpacking a Python Iterable"
   ]
  },
  {
   "cell_type": "code",
   "execution_count": 23,
   "id": "aed62cec",
   "metadata": {
    "ExecuteTime": {
     "end_time": "2021-08-29T17:27:50.253379Z",
     "start_time": "2021-08-29T17:27:50.238203Z"
    }
   },
   "outputs": [
    {
     "name": "stdout",
     "output_type": "stream",
     "text": [
      "1\n"
     ]
    },
    {
     "data": {
      "application/javascript": [
       "\n",
       "            setTimeout(function() {\n",
       "                var nbb_cell_id = 23;\n",
       "                var nbb_unformatted_code = \"a, *_, b = [1, 2, 3, 4]\\nprint(a)\";\n",
       "                var nbb_formatted_code = \"a, *_, b = [1, 2, 3, 4]\\nprint(a)\";\n",
       "                var nbb_cells = Jupyter.notebook.get_cells();\n",
       "                for (var i = 0; i < nbb_cells.length; ++i) {\n",
       "                    if (nbb_cells[i].input_prompt_number == nbb_cell_id) {\n",
       "                        if (nbb_cells[i].get_text() == nbb_unformatted_code) {\n",
       "                             nbb_cells[i].set_text(nbb_formatted_code);\n",
       "                        }\n",
       "                        break;\n",
       "                    }\n",
       "                }\n",
       "            }, 500);\n",
       "            "
      ],
      "text/plain": [
       "<IPython.core.display.Javascript object>"
      ]
     },
     "metadata": {},
     "output_type": "display_data"
    }
   ],
   "source": [
    "a, *_, b = [1, 2, 3, 4]\n",
    "print(a)"
   ]
  },
  {
   "cell_type": "code",
   "execution_count": 24,
   "id": "318f8e96",
   "metadata": {
    "ExecuteTime": {
     "end_time": "2021-08-29T17:27:50.473242Z",
     "start_time": "2021-08-29T17:27:50.464456Z"
    }
   },
   "outputs": [
    {
     "data": {
      "text/plain": [
       "4"
      ]
     },
     "execution_count": 24,
     "metadata": {},
     "output_type": "execute_result"
    },
    {
     "data": {
      "application/javascript": [
       "\n",
       "            setTimeout(function() {\n",
       "                var nbb_cell_id = 24;\n",
       "                var nbb_unformatted_code = \"b\";\n",
       "                var nbb_formatted_code = \"b\";\n",
       "                var nbb_cells = Jupyter.notebook.get_cells();\n",
       "                for (var i = 0; i < nbb_cells.length; ++i) {\n",
       "                    if (nbb_cells[i].input_prompt_number == nbb_cell_id) {\n",
       "                        if (nbb_cells[i].get_text() == nbb_unformatted_code) {\n",
       "                             nbb_cells[i].set_text(nbb_formatted_code);\n",
       "                        }\n",
       "                        break;\n",
       "                    }\n",
       "                }\n",
       "            }, 500);\n",
       "            "
      ],
      "text/plain": [
       "<IPython.core.display.Javascript object>"
      ]
     },
     "metadata": {},
     "output_type": "display_data"
    }
   ],
   "source": [
    "b"
   ]
  },
  {
   "cell_type": "code",
   "execution_count": 25,
   "id": "b0d9737d",
   "metadata": {
    "ExecuteTime": {
     "end_time": "2021-08-29T17:27:50.722463Z",
     "start_time": "2021-08-29T17:27:50.710394Z"
    }
   },
   "outputs": [
    {
     "data": {
      "text/plain": [
       "[2, 3]"
      ]
     },
     "execution_count": 25,
     "metadata": {},
     "output_type": "execute_result"
    },
    {
     "data": {
      "application/javascript": [
       "\n",
       "            setTimeout(function() {\n",
       "                var nbb_cell_id = 25;\n",
       "                var nbb_unformatted_code = \"_\";\n",
       "                var nbb_formatted_code = \"_\";\n",
       "                var nbb_cells = Jupyter.notebook.get_cells();\n",
       "                for (var i = 0; i < nbb_cells.length; ++i) {\n",
       "                    if (nbb_cells[i].input_prompt_number == nbb_cell_id) {\n",
       "                        if (nbb_cells[i].get_text() == nbb_unformatted_code) {\n",
       "                             nbb_cells[i].set_text(nbb_formatted_code);\n",
       "                        }\n",
       "                        break;\n",
       "                    }\n",
       "                }\n",
       "            }, 500);\n",
       "            "
      ],
      "text/plain": [
       "<IPython.core.display.Javascript object>"
      ]
     },
     "metadata": {},
     "output_type": "display_data"
    }
   ],
   "source": [
    "_"
   ]
  },
  {
   "cell_type": "markdown",
   "id": "9a2df4c9",
   "metadata": {},
   "source": [
    "### How to Unpack Iterables in Python\t"
   ]
  },
  {
   "cell_type": "code",
   "execution_count": 26,
   "id": "ea0e2588",
   "metadata": {
    "ExecuteTime": {
     "end_time": "2021-08-29T17:27:51.132279Z",
     "start_time": "2021-08-29T17:27:51.125791Z"
    }
   },
   "outputs": [
    {
     "data": {
      "application/javascript": [
       "\n",
       "            setTimeout(function() {\n",
       "                var nbb_cell_id = 26;\n",
       "                var nbb_unformatted_code = \"nested_arr = [[1, 2, 3], [\\\"a\\\", \\\"b\\\"], 4]\\nnum_arr, char_arr, num = nested_arr\";\n",
       "                var nbb_formatted_code = \"nested_arr = [[1, 2, 3], [\\\"a\\\", \\\"b\\\"], 4]\\nnum_arr, char_arr, num = nested_arr\";\n",
       "                var nbb_cells = Jupyter.notebook.get_cells();\n",
       "                for (var i = 0; i < nbb_cells.length; ++i) {\n",
       "                    if (nbb_cells[i].input_prompt_number == nbb_cell_id) {\n",
       "                        if (nbb_cells[i].get_text() == nbb_unformatted_code) {\n",
       "                             nbb_cells[i].set_text(nbb_formatted_code);\n",
       "                        }\n",
       "                        break;\n",
       "                    }\n",
       "                }\n",
       "            }, 500);\n",
       "            "
      ],
      "text/plain": [
       "<IPython.core.display.Javascript object>"
      ]
     },
     "metadata": {},
     "output_type": "display_data"
    }
   ],
   "source": [
    "nested_arr = [[1, 2, 3], [\"a\", \"b\"], 4]\n",
    "num_arr, char_arr, num = nested_arr"
   ]
  },
  {
   "cell_type": "code",
   "execution_count": 27,
   "id": "af4b2987",
   "metadata": {
    "ExecuteTime": {
     "end_time": "2021-08-29T17:27:51.379693Z",
     "start_time": "2021-08-29T17:27:51.368056Z"
    }
   },
   "outputs": [
    {
     "data": {
      "text/plain": [
       "[1, 2, 3]"
      ]
     },
     "execution_count": 27,
     "metadata": {},
     "output_type": "execute_result"
    },
    {
     "data": {
      "application/javascript": [
       "\n",
       "            setTimeout(function() {\n",
       "                var nbb_cell_id = 27;\n",
       "                var nbb_unformatted_code = \"num_arr\";\n",
       "                var nbb_formatted_code = \"num_arr\";\n",
       "                var nbb_cells = Jupyter.notebook.get_cells();\n",
       "                for (var i = 0; i < nbb_cells.length; ++i) {\n",
       "                    if (nbb_cells[i].input_prompt_number == nbb_cell_id) {\n",
       "                        if (nbb_cells[i].get_text() == nbb_unformatted_code) {\n",
       "                             nbb_cells[i].set_text(nbb_formatted_code);\n",
       "                        }\n",
       "                        break;\n",
       "                    }\n",
       "                }\n",
       "            }, 500);\n",
       "            "
      ],
      "text/plain": [
       "<IPython.core.display.Javascript object>"
      ]
     },
     "metadata": {},
     "output_type": "display_data"
    }
   ],
   "source": [
    "num_arr"
   ]
  },
  {
   "cell_type": "code",
   "execution_count": 28,
   "id": "e504e07a",
   "metadata": {
    "ExecuteTime": {
     "end_time": "2021-08-29T17:27:51.597612Z",
     "start_time": "2021-08-29T17:27:51.583003Z"
    }
   },
   "outputs": [
    {
     "data": {
      "text/plain": [
       "['a', 'b']"
      ]
     },
     "execution_count": 28,
     "metadata": {},
     "output_type": "execute_result"
    },
    {
     "data": {
      "application/javascript": [
       "\n",
       "            setTimeout(function() {\n",
       "                var nbb_cell_id = 28;\n",
       "                var nbb_unformatted_code = \"char_arr\";\n",
       "                var nbb_formatted_code = \"char_arr\";\n",
       "                var nbb_cells = Jupyter.notebook.get_cells();\n",
       "                for (var i = 0; i < nbb_cells.length; ++i) {\n",
       "                    if (nbb_cells[i].input_prompt_number == nbb_cell_id) {\n",
       "                        if (nbb_cells[i].get_text() == nbb_unformatted_code) {\n",
       "                             nbb_cells[i].set_text(nbb_formatted_code);\n",
       "                        }\n",
       "                        break;\n",
       "                    }\n",
       "                }\n",
       "            }, 500);\n",
       "            "
      ],
      "text/plain": [
       "<IPython.core.display.Javascript object>"
      ]
     },
     "metadata": {},
     "output_type": "display_data"
    }
   ],
   "source": [
    "char_arr"
   ]
  },
  {
   "cell_type": "markdown",
   "id": "fa971d43",
   "metadata": {},
   "source": [
    "## Class"
   ]
  },
  {
   "cell_type": "markdown",
   "id": "321618c5",
   "metadata": {},
   "source": [
    "### __str__ and __repr__: Create a String Representation of a Python Object\n"
   ]
  },
  {
   "cell_type": "code",
   "execution_count": 29,
   "id": "f069d80a",
   "metadata": {
    "ExecuteTime": {
     "end_time": "2021-08-29T17:27:52.491353Z",
     "start_time": "2021-08-29T17:27:52.463264Z"
    }
   },
   "outputs": [
    {
     "name": "stdout",
     "output_type": "stream",
     "text": [
      "red apple\n"
     ]
    },
    {
     "data": {
      "application/javascript": [
       "\n",
       "            setTimeout(function() {\n",
       "                var nbb_cell_id = 29;\n",
       "                var nbb_unformatted_code = \"class Food:\\n    def __init__(self, name: str, color: str):\\n        self.name = name\\n        self.color = color\\n\\n    def __str__(self):\\n        return f\\\"{self.color} {self.name}\\\"\\n\\n    def __repr__(self):\\n        return f\\\"Food({self.color}, {self.name})\\\"\\n\\n\\nfood = Food(\\\"apple\\\", \\\"red\\\")\\n\\nprint(food)  #  str__\";\n",
       "                var nbb_formatted_code = \"class Food:\\n    def __init__(self, name: str, color: str):\\n        self.name = name\\n        self.color = color\\n\\n    def __str__(self):\\n        return f\\\"{self.color} {self.name}\\\"\\n\\n    def __repr__(self):\\n        return f\\\"Food({self.color}, {self.name})\\\"\\n\\n\\nfood = Food(\\\"apple\\\", \\\"red\\\")\\n\\nprint(food)  #  str__\";\n",
       "                var nbb_cells = Jupyter.notebook.get_cells();\n",
       "                for (var i = 0; i < nbb_cells.length; ++i) {\n",
       "                    if (nbb_cells[i].input_prompt_number == nbb_cell_id) {\n",
       "                        if (nbb_cells[i].get_text() == nbb_unformatted_code) {\n",
       "                             nbb_cells[i].set_text(nbb_formatted_code);\n",
       "                        }\n",
       "                        break;\n",
       "                    }\n",
       "                }\n",
       "            }, 500);\n",
       "            "
      ],
      "text/plain": [
       "<IPython.core.display.Javascript object>"
      ]
     },
     "metadata": {},
     "output_type": "display_data"
    }
   ],
   "source": [
    "class Food:\n",
    "    def __init__(self, name: str, color: str):\n",
    "        self.name = name\n",
    "        self.color = color\n",
    "\n",
    "    def __str__(self):\n",
    "        return f\"{self.color} {self.name}\"\n",
    "\n",
    "    def __repr__(self):\n",
    "        return f\"Food({self.color}, {self.name})\"\n",
    "\n",
    "\n",
    "food = Food(\"apple\", \"red\")\n",
    "\n",
    "print(food)  #  str__"
   ]
  },
  {
   "cell_type": "code",
   "execution_count": 30,
   "id": "5e053f50",
   "metadata": {
    "ExecuteTime": {
     "end_time": "2021-08-29T17:27:52.719978Z",
     "start_time": "2021-08-29T17:27:52.707484Z"
    }
   },
   "outputs": [
    {
     "data": {
      "text/plain": [
       "Food(red, apple)"
      ]
     },
     "execution_count": 30,
     "metadata": {},
     "output_type": "execute_result"
    },
    {
     "data": {
      "application/javascript": [
       "\n",
       "            setTimeout(function() {\n",
       "                var nbb_cell_id = 30;\n",
       "                var nbb_unformatted_code = \"food  # __repr__\";\n",
       "                var nbb_formatted_code = \"food  # __repr__\";\n",
       "                var nbb_cells = Jupyter.notebook.get_cells();\n",
       "                for (var i = 0; i < nbb_cells.length; ++i) {\n",
       "                    if (nbb_cells[i].input_prompt_number == nbb_cell_id) {\n",
       "                        if (nbb_cells[i].get_text() == nbb_unformatted_code) {\n",
       "                             nbb_cells[i].set_text(nbb_formatted_code);\n",
       "                        }\n",
       "                        break;\n",
       "                    }\n",
       "                }\n",
       "            }, 500);\n",
       "            "
      ],
      "text/plain": [
       "<IPython.core.display.Javascript object>"
      ]
     },
     "metadata": {},
     "output_type": "display_data"
    }
   ],
   "source": [
    "food  # __repr__"
   ]
  }
 ],
 "metadata": {
  "celltoolbar": "Tags",
  "kernelspec": {
   "display_name": "Python 3 (ipykernel)",
   "language": "python",
   "name": "python3"
  },
  "language_info": {
   "codemirror_mode": {
    "name": "ipython",
    "version": 3
   },
   "file_extension": ".py",
   "mimetype": "text/x-python",
   "name": "python",
   "nbconvert_exporter": "python",
   "pygments_lexer": "ipython3",
   "version": "3.8.10"
  },
  "toc": {
   "base_numbering": 1,
   "nav_menu": {},
   "number_sections": true,
   "sideBar": true,
   "skip_h1_title": false,
   "title_cell": "Table of Contents",
   "title_sidebar": "Contents",
   "toc_cell": false,
   "toc_position": {},
   "toc_section_display": true,
   "toc_window_display": false
  }
 },
 "nbformat": 4,
 "nbformat_minor": 5
}
