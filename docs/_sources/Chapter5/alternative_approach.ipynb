{
 "cells": [
  {
   "cell_type": "code",
   "execution_count": 11,
   "id": "ca1b7dfa",
   "metadata": {
    "ExecuteTime": {
     "end_time": "2021-09-12T14:36:21.381294Z",
     "start_time": "2021-09-12T14:36:21.221217Z"
    },
    "tags": [
     "remove-cell"
    ]
   },
   "outputs": [
    {
     "data": {
      "application/javascript": [
       "\n",
       "            setTimeout(function() {\n",
       "                var nbb_cell_id = 11;\n",
       "                var nbb_unformatted_code = \"%load_ext nb_black\";\n",
       "                var nbb_formatted_code = \"%load_ext nb_black\";\n",
       "                var nbb_cells = Jupyter.notebook.get_cells();\n",
       "                for (var i = 0; i < nbb_cells.length; ++i) {\n",
       "                    if (nbb_cells[i].input_prompt_number == nbb_cell_id) {\n",
       "                        if (nbb_cells[i].get_text() == nbb_unformatted_code) {\n",
       "                             nbb_cells[i].set_text(nbb_formatted_code);\n",
       "                        }\n",
       "                        break;\n",
       "                    }\n",
       "                }\n",
       "            }, 500);\n",
       "            "
      ],
      "text/plain": [
       "<IPython.core.display.Javascript object>"
      ]
     },
     "metadata": {},
     "output_type": "display_data"
    }
   ],
   "source": [
    "%load_ext nb_black"
   ]
  },
  {
   "cell_type": "markdown",
   "id": "299d73ef",
   "metadata": {},
   "source": [
    "## Alternative Approach"
   ]
  },
  {
   "cell_type": "markdown",
   "id": "29a45540",
   "metadata": {},
   "source": [
    "This section covers some alternatives approaches to work with Python. "
   ]
  },
  {
   "cell_type": "markdown",
   "id": "619d0b6d",
   "metadata": {},
   "source": [
    "### Box: Using Dot Notation to Access Keys in a Python Dictionary\n"
   ]
  },
  {
   "cell_type": "markdown",
   "id": "a7d6c92f",
   "metadata": {},
   "source": [
    "Do you wish to use `dict.key` instead of `dict['key']` to access the values inside a Python dictionary? If so, try Box.\n",
    "\n",
    "Box is like a Python dictionary except that it allows you to access keys using dot notation. This makes the code cleaner when you want to access a key inside a nested dictionary like below."
   ]
  },
  {
   "cell_type": "code",
   "execution_count": 12,
   "id": "c496c586",
   "metadata": {
    "ExecuteTime": {
     "end_time": "2021-09-12T14:36:23.816665Z",
     "start_time": "2021-09-12T14:36:23.790113Z"
    }
   },
   "outputs": [
    {
     "name": "stdout",
     "output_type": "stream",
     "text": [
      "{'food': {'fruit': {'name': 'apple', 'flavor': 'sweet'}}}\n"
     ]
    },
    {
     "data": {
      "application/javascript": [
       "\n",
       "            setTimeout(function() {\n",
       "                var nbb_cell_id = 12;\n",
       "                var nbb_unformatted_code = \"from box import Box\\n\\nfood_box = Box({\\\"food\\\": {\\\"fruit\\\": {\\\"name\\\": \\\"apple\\\", \\\"flavor\\\": \\\"sweet\\\"}}})\\nprint(food_box)\";\n",
       "                var nbb_formatted_code = \"from box import Box\\n\\nfood_box = Box({\\\"food\\\": {\\\"fruit\\\": {\\\"name\\\": \\\"apple\\\", \\\"flavor\\\": \\\"sweet\\\"}}})\\nprint(food_box)\";\n",
       "                var nbb_cells = Jupyter.notebook.get_cells();\n",
       "                for (var i = 0; i < nbb_cells.length; ++i) {\n",
       "                    if (nbb_cells[i].input_prompt_number == nbb_cell_id) {\n",
       "                        if (nbb_cells[i].get_text() == nbb_unformatted_code) {\n",
       "                             nbb_cells[i].set_text(nbb_formatted_code);\n",
       "                        }\n",
       "                        break;\n",
       "                    }\n",
       "                }\n",
       "            }, 500);\n",
       "            "
      ],
      "text/plain": [
       "<IPython.core.display.Javascript object>"
      ]
     },
     "metadata": {},
     "output_type": "display_data"
    }
   ],
   "source": [
    "from box import Box\n",
    "\n",
    "food_box = Box({\"food\": {\"fruit\": {\"name\": \"apple\", \"flavor\": \"sweet\"}}})\n",
    "print(food_box)"
   ]
  },
  {
   "cell_type": "code",
   "execution_count": 13,
   "id": "274679ca",
   "metadata": {
    "ExecuteTime": {
     "end_time": "2021-09-12T14:36:24.337190Z",
     "start_time": "2021-09-12T14:36:24.323997Z"
    }
   },
   "outputs": [
    {
     "name": "stdout",
     "output_type": "stream",
     "text": [
      "apple\n"
     ]
    },
    {
     "data": {
      "application/javascript": [
       "\n",
       "            setTimeout(function() {\n",
       "                var nbb_cell_id = 13;\n",
       "                var nbb_unformatted_code = \"print(food_box.food.fruit.name)\";\n",
       "                var nbb_formatted_code = \"print(food_box.food.fruit.name)\";\n",
       "                var nbb_cells = Jupyter.notebook.get_cells();\n",
       "                for (var i = 0; i < nbb_cells.length; ++i) {\n",
       "                    if (nbb_cells[i].input_prompt_number == nbb_cell_id) {\n",
       "                        if (nbb_cells[i].get_text() == nbb_unformatted_code) {\n",
       "                             nbb_cells[i].set_text(nbb_formatted_code);\n",
       "                        }\n",
       "                        break;\n",
       "                    }\n",
       "                }\n",
       "            }, 500);\n",
       "            "
      ],
      "text/plain": [
       "<IPython.core.display.Javascript object>"
      ]
     },
     "metadata": {},
     "output_type": "display_data"
    }
   ],
   "source": [
    "print(food_box.food.fruit.name)"
   ]
  },
  {
   "cell_type": "markdown",
   "id": "3231d945",
   "metadata": {},
   "source": [
    "[Link to Box](https://github.com/cdgriffith/Box)."
   ]
  },
  {
   "cell_type": "markdown",
   "id": "cddfa1c4",
   "metadata": {},
   "source": [
    "### decorator module: Write Shorter Python Decorators without Nested Functions"
   ]
  },
  {
   "cell_type": "markdown",
   "id": "241b9671",
   "metadata": {},
   "source": [
    "Have you ever wished to write a Python decorator with only one function instead of nested functions like below?\n"
   ]
  },
  {
   "cell_type": "code",
   "execution_count": 15,
   "id": "5f1da9e7",
   "metadata": {
    "ExecuteTime": {
     "end_time": "2021-09-12T14:36:45.435318Z",
     "start_time": "2021-09-12T14:36:44.412274Z"
    }
   },
   "outputs": [
    {
     "name": "stdout",
     "output_type": "stream",
     "text": [
      "It takes 1.001 seconds to execute the function\n"
     ]
    },
    {
     "data": {
      "application/javascript": [
       "\n",
       "            setTimeout(function() {\n",
       "                var nbb_cell_id = 15;\n",
       "                var nbb_unformatted_code = \"from time import time, sleep\\n\\n\\ndef time_func_complex(func):\\n    def wrapper(*args, **kwargs):\\n        start_time = time()\\n        func(*args, **kwargs)\\n        end_time = time()\\n        print(\\n            f\\\"\\\"\\\"It takes {round(end_time - start_time, 3)} seconds to execute the function\\\"\\\"\\\"\\n        )\\n\\n    return wrapper\\n\\n\\n@time_func_complex\\ndef test_func_complex():\\n    sleep(1)\\n\\n\\ntest_func_complex()\";\n",
       "                var nbb_formatted_code = \"from time import time, sleep\\n\\n\\ndef time_func_complex(func):\\n    def wrapper(*args, **kwargs):\\n        start_time = time()\\n        func(*args, **kwargs)\\n        end_time = time()\\n        print(\\n            f\\\"\\\"\\\"It takes {round(end_time - start_time, 3)} seconds to execute the function\\\"\\\"\\\"\\n        )\\n\\n    return wrapper\\n\\n\\n@time_func_complex\\ndef test_func_complex():\\n    sleep(1)\\n\\n\\ntest_func_complex()\";\n",
       "                var nbb_cells = Jupyter.notebook.get_cells();\n",
       "                for (var i = 0; i < nbb_cells.length; ++i) {\n",
       "                    if (nbb_cells[i].input_prompt_number == nbb_cell_id) {\n",
       "                        if (nbb_cells[i].get_text() == nbb_unformatted_code) {\n",
       "                             nbb_cells[i].set_text(nbb_formatted_code);\n",
       "                        }\n",
       "                        break;\n",
       "                    }\n",
       "                }\n",
       "            }, 500);\n",
       "            "
      ],
      "text/plain": [
       "<IPython.core.display.Javascript object>"
      ]
     },
     "metadata": {},
     "output_type": "display_data"
    }
   ],
   "source": [
    "from time import time, sleep\n",
    "\n",
    "\n",
    "def time_func_complex(func):\n",
    "    def wrapper(*args, **kwargs):\n",
    "        start_time = time()\n",
    "        func(*args, **kwargs)\n",
    "        end_time = time()\n",
    "        print(\n",
    "            f\"\"\"It takes {round(end_time - start_time, 3)} seconds to execute the function\"\"\"\n",
    "        )\n",
    "\n",
    "    return wrapper\n",
    "\n",
    "\n",
    "@time_func_complex\n",
    "def test_func_complex():\n",
    "    sleep(1)\n",
    "\n",
    "\n",
    "test_func_complex()"
   ]
  },
  {
   "cell_type": "markdown",
   "id": "b6ea3658",
   "metadata": {},
   "source": [
    "If so, try decorator. In the code below, `time_func_simple` produces the exact same results as `time_func_complex`, but `time_func_simple` is easier and short to write.\n"
   ]
  },
  {
   "cell_type": "code",
   "execution_count": 17,
   "id": "ceb55e3a",
   "metadata": {
    "ExecuteTime": {
     "end_time": "2021-09-12T14:36:56.943831Z",
     "start_time": "2021-09-12T14:36:55.917239Z"
    }
   },
   "outputs": [
    {
     "name": "stdout",
     "output_type": "stream",
     "text": [
      "It takes 1.001 seconds to execute the function\n"
     ]
    },
    {
     "data": {
      "application/javascript": [
       "\n",
       "            setTimeout(function() {\n",
       "                var nbb_cell_id = 17;\n",
       "                var nbb_unformatted_code = \"from decorator import decorator\\n\\n@decorator\\ndef time_func_simple(func, *args, **kwargs):\\n    start_time = time()\\n    func(*args, **kwargs)\\n    end_time = time()\\n    print(\\n            f\\\"\\\"\\\"It takes {round(end_time - start_time, 3)} seconds to execute the function\\\"\\\"\\\"\\n    )\\n    \\n@time_func_simple  \\ndef test_func_simple():\\n    sleep(1)\\n\\ntest_func()\";\n",
       "                var nbb_formatted_code = \"from decorator import decorator\\n\\n\\n@decorator\\ndef time_func_simple(func, *args, **kwargs):\\n    start_time = time()\\n    func(*args, **kwargs)\\n    end_time = time()\\n    print(\\n        f\\\"\\\"\\\"It takes {round(end_time - start_time, 3)} seconds to execute the function\\\"\\\"\\\"\\n    )\\n\\n\\n@time_func_simple\\ndef test_func_simple():\\n    sleep(1)\\n\\n\\ntest_func()\";\n",
       "                var nbb_cells = Jupyter.notebook.get_cells();\n",
       "                for (var i = 0; i < nbb_cells.length; ++i) {\n",
       "                    if (nbb_cells[i].input_prompt_number == nbb_cell_id) {\n",
       "                        if (nbb_cells[i].get_text() == nbb_unformatted_code) {\n",
       "                             nbb_cells[i].set_text(nbb_formatted_code);\n",
       "                        }\n",
       "                        break;\n",
       "                    }\n",
       "                }\n",
       "            }, 500);\n",
       "            "
      ],
      "text/plain": [
       "<IPython.core.display.Javascript object>"
      ]
     },
     "metadata": {},
     "output_type": "display_data"
    }
   ],
   "source": [
    "from decorator import decorator\n",
    "\n",
    "\n",
    "@decorator\n",
    "def time_func_simple(func, *args, **kwargs):\n",
    "    start_time = time()\n",
    "    func(*args, **kwargs)\n",
    "    end_time = time()\n",
    "    print(\n",
    "        f\"\"\"It takes {round(end_time - start_time, 3)} seconds to execute the function\"\"\"\n",
    "    )\n",
    "\n",
    "\n",
    "@time_func_simple\n",
    "def test_func_simple():\n",
    "    sleep(1)\n",
    "\n",
    "\n",
    "test_func()"
   ]
  },
  {
   "cell_type": "markdown",
   "id": "188e3e47",
   "metadata": {},
   "source": [
    "[Check out other things the decorator library can do](https://github.com/micheles/decorator)."
   ]
  },
  {
   "cell_type": "markdown",
   "id": "c471237b",
   "metadata": {},
   "source": [
    "### virtualenv-clone: Create a Copy of a Virtual Environment"
   ]
  },
  {
   "cell_type": "markdown",
   "id": "34c5986f",
   "metadata": {},
   "source": [
    "Sometimes you might want to use the same virtual environment for 2 different directories. If you want to create a copy of a virtual environment, use virtualenv-clone. \n",
    "\n",
    "The code below shows how to use virtualenv-clone."
   ]
  },
  {
   "cell_type": "markdown",
   "id": "82671cfe",
   "metadata": {},
   "source": [
    "```bash\n",
    "$ pip install virtualenv-clone\n",
    "$ virtualenv-clone old_venv/ new_venv/\n",
    "\n",
    "$ source new_venv/bin/activate\n",
    "```"
   ]
  },
  {
   "cell_type": "markdown",
   "id": "c9a71867",
   "metadata": {},
   "source": [
    "[Link to virtualenv-clone](https://github.com/edwardgeorge/virtualenv-clone)."
   ]
  }
 ],
 "metadata": {
  "kernelspec": {
   "display_name": "Python 3 (ipykernel)",
   "language": "python",
   "name": "python3"
  },
  "language_info": {
   "codemirror_mode": {
    "name": "ipython",
    "version": 3
   },
   "file_extension": ".py",
   "mimetype": "text/x-python",
   "name": "python",
   "nbconvert_exporter": "python",
   "pygments_lexer": "ipython3",
   "version": "3.8.10"
  },
  "toc": {
   "base_numbering": 1,
   "nav_menu": {},
   "number_sections": true,
   "sideBar": true,
   "skip_h1_title": false,
   "title_cell": "Table of Contents",
   "title_sidebar": "Contents",
   "toc_cell": false,
   "toc_position": {},
   "toc_section_display": true,
   "toc_window_display": false
  }
 },
 "nbformat": 4,
 "nbformat_minor": 5
}
