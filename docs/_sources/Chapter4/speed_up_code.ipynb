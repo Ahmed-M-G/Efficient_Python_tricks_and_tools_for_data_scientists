{
 "cells": [
  {
   "cell_type": "code",
   "execution_count": 3,
   "id": "ca1b7dfa",
   "metadata": {
    "ExecuteTime": {
     "end_time": "2021-09-12T11:39:38.224975Z",
     "start_time": "2021-09-12T11:39:38.074744Z"
    },
    "tags": [
     "remove-cell"
    ]
   },
   "outputs": [
    {
     "data": {
      "application/javascript": [
       "\n",
       "            setTimeout(function() {\n",
       "                var nbb_cell_id = 3;\n",
       "                var nbb_unformatted_code = \"%load_ext nb_black\";\n",
       "                var nbb_formatted_code = \"%load_ext nb_black\";\n",
       "                var nbb_cells = Jupyter.notebook.get_cells();\n",
       "                for (var i = 0; i < nbb_cells.length; ++i) {\n",
       "                    if (nbb_cells[i].input_prompt_number == nbb_cell_id) {\n",
       "                        if (nbb_cells[i].get_text() == nbb_unformatted_code) {\n",
       "                             nbb_cells[i].set_text(nbb_formatted_code);\n",
       "                        }\n",
       "                        break;\n",
       "                    }\n",
       "                }\n",
       "            }, 500);\n",
       "            "
      ],
      "text/plain": [
       "<IPython.core.display.Javascript object>"
      ]
     },
     "metadata": {},
     "output_type": "display_data"
    }
   ],
   "source": [
    "%load_ext nb_black"
   ]
  },
  {
   "cell_type": "markdown",
   "id": "7ee5fda5",
   "metadata": {},
   "source": [
    "## Tools to Speed Up Code"
   ]
  },
  {
   "cell_type": "markdown",
   "id": "cd6fa135",
   "metadata": {},
   "source": [
    "This section covers some tools to speed up your code."
   ]
  },
  {
   "cell_type": "markdown",
   "id": "03e49fec",
   "metadata": {},
   "source": [
    "### Fastai's df_shrink: Shrink DataFrame's Memory Usage in One Line of Code"
   ]
  },
  {
   "cell_type": "markdown",
   "id": "609f632d",
   "metadata": {},
   "source": [
    "Changing data types of DataFrame columns to smaller data types can significantly reduce the memory usage of the DataFrame. Instead of manually choosing smaller data types, is there a way that you can automatically change data types in one line of code?\n",
    "\n",
    "That is when the `df_shrink` method of Fastai comes in handy. In the code below, the memory usage of the DataFrame decreases from 200 bytes to 146 bytes."
   ]
  },
  {
   "cell_type": "code",
   "execution_count": 4,
   "id": "51b42dd5",
   "metadata": {
    "ExecuteTime": {
     "end_time": "2021-09-12T11:39:50.560775Z",
     "start_time": "2021-09-12T11:39:50.516924Z"
    }
   },
   "outputs": [
    {
     "name": "stdout",
     "output_type": "stream",
     "text": [
      "<class 'pandas.core.frame.DataFrame'>\n",
      "RangeIndex: 3 entries, 0 to 2\n",
      "Data columns (total 2 columns):\n",
      " #   Column  Non-Null Count  Dtype  \n",
      "---  ------  --------------  -----  \n",
      " 0   col1    3 non-null      int64  \n",
      " 1   col2    3 non-null      float64\n",
      "dtypes: float64(1), int64(1)\n",
      "memory usage: 176.0 bytes\n",
      "None\n"
     ]
    },
    {
     "data": {
      "application/javascript": [
       "\n",
       "            setTimeout(function() {\n",
       "                var nbb_cell_id = 4;\n",
       "                var nbb_unformatted_code = \"from fastai.tabular.core import df_shrink\\nimport pandas as pd \\n\\ndf = pd.DataFrame({\\\"col1\\\": [1, 2, 3], \\\"col2\\\": [1.0, 2.0, 3.0]})\\nprint(df.info())\";\n",
       "                var nbb_formatted_code = \"from fastai.tabular.core import df_shrink\\nimport pandas as pd\\n\\ndf = pd.DataFrame({\\\"col1\\\": [1, 2, 3], \\\"col2\\\": [1.0, 2.0, 3.0]})\\nprint(df.info())\";\n",
       "                var nbb_cells = Jupyter.notebook.get_cells();\n",
       "                for (var i = 0; i < nbb_cells.length; ++i) {\n",
       "                    if (nbb_cells[i].input_prompt_number == nbb_cell_id) {\n",
       "                        if (nbb_cells[i].get_text() == nbb_unformatted_code) {\n",
       "                             nbb_cells[i].set_text(nbb_formatted_code);\n",
       "                        }\n",
       "                        break;\n",
       "                    }\n",
       "                }\n",
       "            }, 500);\n",
       "            "
      ],
      "text/plain": [
       "<IPython.core.display.Javascript object>"
      ]
     },
     "metadata": {},
     "output_type": "display_data"
    }
   ],
   "source": [
    "from fastai.tabular.core import df_shrink\n",
    "import pandas as pd\n",
    "\n",
    "df = pd.DataFrame({\"col1\": [1, 2, 3], \"col2\": [1.0, 2.0, 3.0]})\n",
    "print(df.info())"
   ]
  },
  {
   "cell_type": "code",
   "execution_count": 5,
   "id": "3144b649",
   "metadata": {
    "ExecuteTime": {
     "end_time": "2021-09-12T11:39:51.272398Z",
     "start_time": "2021-09-12T11:39:51.239231Z"
    }
   },
   "outputs": [
    {
     "name": "stdout",
     "output_type": "stream",
     "text": [
      "<class 'pandas.core.frame.DataFrame'>\n",
      "RangeIndex: 3 entries, 0 to 2\n",
      "Data columns (total 2 columns):\n",
      " #   Column  Non-Null Count  Dtype  \n",
      "---  ------  --------------  -----  \n",
      " 0   col1    3 non-null      int8   \n",
      " 1   col2    3 non-null      float32\n",
      "dtypes: float32(1), int8(1)\n",
      "memory usage: 143.0 bytes\n",
      "None\n"
     ]
    },
    {
     "data": {
      "application/javascript": [
       "\n",
       "            setTimeout(function() {\n",
       "                var nbb_cell_id = 5;\n",
       "                var nbb_unformatted_code = \"new_df = df_shrink(df)\\nprint(new_df.info())\";\n",
       "                var nbb_formatted_code = \"new_df = df_shrink(df)\\nprint(new_df.info())\";\n",
       "                var nbb_cells = Jupyter.notebook.get_cells();\n",
       "                for (var i = 0; i < nbb_cells.length; ++i) {\n",
       "                    if (nbb_cells[i].input_prompt_number == nbb_cell_id) {\n",
       "                        if (nbb_cells[i].get_text() == nbb_unformatted_code) {\n",
       "                             nbb_cells[i].set_text(nbb_formatted_code);\n",
       "                        }\n",
       "                        break;\n",
       "                    }\n",
       "                }\n",
       "            }, 500);\n",
       "            "
      ],
      "text/plain": [
       "<IPython.core.display.Javascript object>"
      ]
     },
     "metadata": {},
     "output_type": "display_data"
    }
   ],
   "source": [
    "new_df = df_shrink(df)\n",
    "print(new_df.info())"
   ]
  },
  {
   "cell_type": "markdown",
   "id": "f3d2c811",
   "metadata": {},
   "source": [
    "[Link to Fastai](https://docs.fast.ai/)."
   ]
  },
  {
   "cell_type": "markdown",
   "id": "41a64671",
   "metadata": {},
   "source": [
    "### Swifter: Add One Word to Make Your Pandas Apply 23 Times Faster"
   ]
  },
  {
   "cell_type": "markdown",
   "id": "525eff9f",
   "metadata": {},
   "source": [
    "If you want to have faster pandas apply when working with large data, try swifter. To use swifter, simply add `.swifter` before `.apply`. Everything else is the same."
   ]
  },
  {
   "cell_type": "markdown",
   "id": "f5dd9625",
   "metadata": {},
   "source": [
    "In the code below, I compared the speed of Pandas' `apply` and the speed of swifter's `apply` using the California housing dataset of 20640 rows."
   ]
  },
  {
   "cell_type": "code",
   "execution_count": 7,
   "id": "18699237",
   "metadata": {
    "ExecuteTime": {
     "end_time": "2021-09-12T11:41:25.820480Z",
     "start_time": "2021-09-12T11:41:17.670791Z"
    }
   },
   "outputs": [
    {
     "name": "stdout",
     "output_type": "stream",
     "text": [
      "Swifter apply is 16.82 times faster than Pandas apply\n"
     ]
    },
    {
     "data": {
      "application/javascript": [
       "\n",
       "            setTimeout(function() {\n",
       "                var nbb_cell_id = 7;\n",
       "                var nbb_unformatted_code = \"from time import time\\nfrom sklearn.datasets import fetch_california_housing\\nfrom scipy.special import boxcox1p\\nimport swifter\\nimport timeit\\n\\nX, y = fetch_california_housing(return_X_y=True, as_frame=True)\\n\\ndef pandas_apply():\\n    X[\\\"AveRooms\\\"].apply(lambda x: boxcox1p(x, 0.25))\\n\\n\\ndef swifter_apply():\\n    X[\\\"AveRooms\\\"].swifter.apply(lambda x: boxcox1p(x, 0.25))\\n\\nnum_experiments = 100\\npandas_time = timeit.timeit(pandas_apply, number=num_experiments)\\nswifter_time = timeit.timeit(swifter_apply, number=num_experiments)\\n\\npandas_vs_swifter = round(pandas_time/swifter_time, 2)\\nprint(f'Swifter apply is {pandas_vs_swifter} times faster than Pandas apply')\";\n",
       "                var nbb_formatted_code = \"from time import time\\nfrom sklearn.datasets import fetch_california_housing\\nfrom scipy.special import boxcox1p\\nimport swifter\\nimport timeit\\n\\nX, y = fetch_california_housing(return_X_y=True, as_frame=True)\\n\\n\\ndef pandas_apply():\\n    X[\\\"AveRooms\\\"].apply(lambda x: boxcox1p(x, 0.25))\\n\\n\\ndef swifter_apply():\\n    X[\\\"AveRooms\\\"].swifter.apply(lambda x: boxcox1p(x, 0.25))\\n\\n\\nnum_experiments = 100\\npandas_time = timeit.timeit(pandas_apply, number=num_experiments)\\nswifter_time = timeit.timeit(swifter_apply, number=num_experiments)\\n\\npandas_vs_swifter = round(pandas_time / swifter_time, 2)\\nprint(f\\\"Swifter apply is {pandas_vs_swifter} times faster than Pandas apply\\\")\";\n",
       "                var nbb_cells = Jupyter.notebook.get_cells();\n",
       "                for (var i = 0; i < nbb_cells.length; ++i) {\n",
       "                    if (nbb_cells[i].input_prompt_number == nbb_cell_id) {\n",
       "                        if (nbb_cells[i].get_text() == nbb_unformatted_code) {\n",
       "                             nbb_cells[i].set_text(nbb_formatted_code);\n",
       "                        }\n",
       "                        break;\n",
       "                    }\n",
       "                }\n",
       "            }, 500);\n",
       "            "
      ],
      "text/plain": [
       "<IPython.core.display.Javascript object>"
      ]
     },
     "metadata": {},
     "output_type": "display_data"
    }
   ],
   "source": [
    "from time import time\n",
    "from sklearn.datasets import fetch_california_housing\n",
    "from scipy.special import boxcox1p\n",
    "import swifter\n",
    "import timeit\n",
    "\n",
    "X, y = fetch_california_housing(return_X_y=True, as_frame=True)\n",
    "\n",
    "\n",
    "def pandas_apply():\n",
    "    X[\"AveRooms\"].apply(lambda x: boxcox1p(x, 0.25))\n",
    "\n",
    "\n",
    "def swifter_apply():\n",
    "    X[\"AveRooms\"].swifter.apply(lambda x: boxcox1p(x, 0.25))\n",
    "\n",
    "\n",
    "num_experiments = 100\n",
    "pandas_time = timeit.timeit(pandas_apply, number=num_experiments)\n",
    "swifter_time = timeit.timeit(swifter_apply, number=num_experiments)\n",
    "\n",
    "pandas_vs_swifter = round(pandas_time / swifter_time, 2)\n",
    "print(f\"Swifter apply is {pandas_vs_swifter} times faster than Pandas apply\")"
   ]
  },
  {
   "cell_type": "markdown",
   "id": "0d3d3f86",
   "metadata": {},
   "source": [
    "Using swifter apply is 23.56 times faster than Pandas apply! This ratio is calculated by taking the average run time of each method after 100 experiments."
   ]
  }
 ],
 "metadata": {
  "kernelspec": {
   "display_name": "Python 3 (ipykernel)",
   "language": "python",
   "name": "python3"
  },
  "language_info": {
   "codemirror_mode": {
    "name": "ipython",
    "version": 3
   },
   "file_extension": ".py",
   "mimetype": "text/x-python",
   "name": "python",
   "nbconvert_exporter": "python",
   "pygments_lexer": "ipython3",
   "version": "3.8.10"
  },
  "toc": {
   "base_numbering": 1,
   "nav_menu": {},
   "number_sections": true,
   "sideBar": true,
   "skip_h1_title": false,
   "title_cell": "Table of Contents",
   "title_sidebar": "Contents",
   "toc_cell": false,
   "toc_position": {},
   "toc_section_display": true,
   "toc_window_display": false
  }
 },
 "nbformat": 4,
 "nbformat_minor": 5
}
