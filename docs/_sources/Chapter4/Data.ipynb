{
 "cells": [
  {
   "cell_type": "code",
   "execution_count": 3,
   "id": "ca1b7dfa",
   "metadata": {
    "ExecuteTime": {
     "end_time": "2021-09-11T18:57:08.484501Z",
     "start_time": "2021-09-11T18:57:08.314874Z"
    },
    "tags": [
     "remove-cell"
    ]
   },
   "outputs": [
    {
     "data": {
      "application/javascript": [
       "\n",
       "            setTimeout(function() {\n",
       "                var nbb_cell_id = 3;\n",
       "                var nbb_unformatted_code = \"%load_ext nb_black\";\n",
       "                var nbb_formatted_code = \"%load_ext nb_black\";\n",
       "                var nbb_cells = Jupyter.notebook.get_cells();\n",
       "                for (var i = 0; i < nbb_cells.length; ++i) {\n",
       "                    if (nbb_cells[i].input_prompt_number == nbb_cell_id) {\n",
       "                        if (nbb_cells[i].get_text() == nbb_unformatted_code) {\n",
       "                             nbb_cells[i].set_text(nbb_formatted_code);\n",
       "                        }\n",
       "                        break;\n",
       "                    }\n",
       "                }\n",
       "            }, 500);\n",
       "            "
      ],
      "text/plain": [
       "<IPython.core.display.Javascript object>"
      ]
     },
     "metadata": {},
     "output_type": "display_data"
    }
   ],
   "source": [
    "%load_ext nb_black"
   ]
  },
  {
   "cell_type": "markdown",
   "id": "6baa41ea",
   "metadata": {},
   "source": [
    "## Data"
   ]
  },
  {
   "cell_type": "markdown",
   "id": "bb1b3abf",
   "metadata": {},
   "source": [
    "### faker: Create Fake Data in One Line of Code"
   ]
  },
  {
   "cell_type": "markdown",
   "id": "6e1bd1f4",
   "metadata": {},
   "source": [
    "To quickly create fake data for testing, use faker."
   ]
  },
  {
   "cell_type": "code",
   "execution_count": 5,
   "id": "d5171fd2",
   "metadata": {
    "ExecuteTime": {
     "end_time": "2021-09-11T18:57:14.961159Z",
     "start_time": "2021-09-11T18:57:14.902598Z"
    }
   },
   "outputs": [
    {
     "data": {
      "text/plain": [
       "'CornflowerBlue'"
      ]
     },
     "execution_count": 5,
     "metadata": {},
     "output_type": "execute_result"
    },
    {
     "data": {
      "application/javascript": [
       "\n",
       "            setTimeout(function() {\n",
       "                var nbb_cell_id = 5;\n",
       "                var nbb_unformatted_code = \"from faker import Faker\\n\\nfake = Faker()\\n\\nfake.color_name()\";\n",
       "                var nbb_formatted_code = \"from faker import Faker\\n\\nfake = Faker()\\n\\nfake.color_name()\";\n",
       "                var nbb_cells = Jupyter.notebook.get_cells();\n",
       "                for (var i = 0; i < nbb_cells.length; ++i) {\n",
       "                    if (nbb_cells[i].input_prompt_number == nbb_cell_id) {\n",
       "                        if (nbb_cells[i].get_text() == nbb_unformatted_code) {\n",
       "                             nbb_cells[i].set_text(nbb_formatted_code);\n",
       "                        }\n",
       "                        break;\n",
       "                    }\n",
       "                }\n",
       "            }, 500);\n",
       "            "
      ],
      "text/plain": [
       "<IPython.core.display.Javascript object>"
      ]
     },
     "metadata": {},
     "output_type": "display_data"
    }
   ],
   "source": [
    "from faker import Faker\n",
    "\n",
    "fake = Faker()\n",
    "\n",
    "fake.color_name()"
   ]
  },
  {
   "cell_type": "code",
   "execution_count": 6,
   "id": "a3972993",
   "metadata": {
    "ExecuteTime": {
     "end_time": "2021-09-11T18:57:21.998581Z",
     "start_time": "2021-09-11T18:57:21.983199Z"
    }
   },
   "outputs": [
    {
     "data": {
      "text/plain": [
       "'Michael Scott'"
      ]
     },
     "execution_count": 6,
     "metadata": {},
     "output_type": "execute_result"
    },
    {
     "data": {
      "application/javascript": [
       "\n",
       "            setTimeout(function() {\n",
       "                var nbb_cell_id = 6;\n",
       "                var nbb_unformatted_code = \"fake.name()\";\n",
       "                var nbb_formatted_code = \"fake.name()\";\n",
       "                var nbb_cells = Jupyter.notebook.get_cells();\n",
       "                for (var i = 0; i < nbb_cells.length; ++i) {\n",
       "                    if (nbb_cells[i].input_prompt_number == nbb_cell_id) {\n",
       "                        if (nbb_cells[i].get_text() == nbb_unformatted_code) {\n",
       "                             nbb_cells[i].set_text(nbb_formatted_code);\n",
       "                        }\n",
       "                        break;\n",
       "                    }\n",
       "                }\n",
       "            }, 500);\n",
       "            "
      ],
      "text/plain": [
       "<IPython.core.display.Javascript object>"
      ]
     },
     "metadata": {},
     "output_type": "display_data"
    }
   ],
   "source": [
    "fake.name()"
   ]
  },
  {
   "cell_type": "code",
   "execution_count": 7,
   "id": "b109ad23",
   "metadata": {
    "ExecuteTime": {
     "end_time": "2021-09-11T18:57:29.849353Z",
     "start_time": "2021-09-11T18:57:29.834479Z"
    }
   },
   "outputs": [
    {
     "data": {
      "text/plain": [
       "'881 Patricia Crossing\\nSouth Jeremy, AR 06087'"
      ]
     },
     "execution_count": 7,
     "metadata": {},
     "output_type": "execute_result"
    },
    {
     "data": {
      "application/javascript": [
       "\n",
       "            setTimeout(function() {\n",
       "                var nbb_cell_id = 7;\n",
       "                var nbb_unformatted_code = \"fake.address()\";\n",
       "                var nbb_formatted_code = \"fake.address()\";\n",
       "                var nbb_cells = Jupyter.notebook.get_cells();\n",
       "                for (var i = 0; i < nbb_cells.length; ++i) {\n",
       "                    if (nbb_cells[i].input_prompt_number == nbb_cell_id) {\n",
       "                        if (nbb_cells[i].get_text() == nbb_unformatted_code) {\n",
       "                             nbb_cells[i].set_text(nbb_formatted_code);\n",
       "                        }\n",
       "                        break;\n",
       "                    }\n",
       "                }\n",
       "            }, 500);\n",
       "            "
      ],
      "text/plain": [
       "<IPython.core.display.Javascript object>"
      ]
     },
     "metadata": {},
     "output_type": "display_data"
    }
   ],
   "source": [
    "fake.address()"
   ]
  },
  {
   "cell_type": "code",
   "execution_count": 8,
   "id": "7fe7efa9",
   "metadata": {
    "ExecuteTime": {
     "end_time": "2021-09-11T18:57:38.546365Z",
     "start_time": "2021-09-11T18:57:38.527029Z"
    }
   },
   "outputs": [
    {
     "data": {
      "text/plain": [
       "datetime.date(1927, 11, 5)"
      ]
     },
     "execution_count": 8,
     "metadata": {},
     "output_type": "execute_result"
    },
    {
     "data": {
      "application/javascript": [
       "\n",
       "            setTimeout(function() {\n",
       "                var nbb_cell_id = 8;\n",
       "                var nbb_unformatted_code = \"fake.date_of_birth(minimum_age=22)\";\n",
       "                var nbb_formatted_code = \"fake.date_of_birth(minimum_age=22)\";\n",
       "                var nbb_cells = Jupyter.notebook.get_cells();\n",
       "                for (var i = 0; i < nbb_cells.length; ++i) {\n",
       "                    if (nbb_cells[i].input_prompt_number == nbb_cell_id) {\n",
       "                        if (nbb_cells[i].get_text() == nbb_unformatted_code) {\n",
       "                             nbb_cells[i].set_text(nbb_formatted_code);\n",
       "                        }\n",
       "                        break;\n",
       "                    }\n",
       "                }\n",
       "            }, 500);\n",
       "            "
      ],
      "text/plain": [
       "<IPython.core.display.Javascript object>"
      ]
     },
     "metadata": {},
     "output_type": "display_data"
    }
   ],
   "source": [
    "fake.date_of_birth(minimum_age=22)"
   ]
  },
  {
   "cell_type": "code",
   "execution_count": 9,
   "id": "bd9f64aa",
   "metadata": {
    "ExecuteTime": {
     "end_time": "2021-09-11T18:57:46.946804Z",
     "start_time": "2021-09-11T18:57:46.930392Z"
    }
   },
   "outputs": [
    {
     "data": {
      "text/plain": [
       "'North Donald'"
      ]
     },
     "execution_count": 9,
     "metadata": {},
     "output_type": "execute_result"
    },
    {
     "data": {
      "application/javascript": [
       "\n",
       "            setTimeout(function() {\n",
       "                var nbb_cell_id = 9;\n",
       "                var nbb_unformatted_code = \"fake.city()\";\n",
       "                var nbb_formatted_code = \"fake.city()\";\n",
       "                var nbb_cells = Jupyter.notebook.get_cells();\n",
       "                for (var i = 0; i < nbb_cells.length; ++i) {\n",
       "                    if (nbb_cells[i].input_prompt_number == nbb_cell_id) {\n",
       "                        if (nbb_cells[i].get_text() == nbb_unformatted_code) {\n",
       "                             nbb_cells[i].set_text(nbb_formatted_code);\n",
       "                        }\n",
       "                        break;\n",
       "                    }\n",
       "                }\n",
       "            }, 500);\n",
       "            "
      ],
      "text/plain": [
       "<IPython.core.display.Javascript object>"
      ]
     },
     "metadata": {},
     "output_type": "display_data"
    }
   ],
   "source": [
    "fake.city()"
   ]
  },
  {
   "cell_type": "code",
   "execution_count": 10,
   "id": "90299b93",
   "metadata": {
    "ExecuteTime": {
     "end_time": "2021-09-11T18:57:51.426720Z",
     "start_time": "2021-09-11T18:57:51.411878Z"
    }
   },
   "outputs": [
    {
     "data": {
      "text/plain": [
       "'Teacher, secondary school'"
      ]
     },
     "execution_count": 10,
     "metadata": {},
     "output_type": "execute_result"
    },
    {
     "data": {
      "application/javascript": [
       "\n",
       "            setTimeout(function() {\n",
       "                var nbb_cell_id = 10;\n",
       "                var nbb_unformatted_code = \"fake.job()\";\n",
       "                var nbb_formatted_code = \"fake.job()\";\n",
       "                var nbb_cells = Jupyter.notebook.get_cells();\n",
       "                for (var i = 0; i < nbb_cells.length; ++i) {\n",
       "                    if (nbb_cells[i].input_prompt_number == nbb_cell_id) {\n",
       "                        if (nbb_cells[i].get_text() == nbb_unformatted_code) {\n",
       "                             nbb_cells[i].set_text(nbb_formatted_code);\n",
       "                        }\n",
       "                        break;\n",
       "                    }\n",
       "                }\n",
       "            }, 500);\n",
       "            "
      ],
      "text/plain": [
       "<IPython.core.display.Javascript object>"
      ]
     },
     "metadata": {},
     "output_type": "display_data"
    }
   ],
   "source": [
    "fake.job()"
   ]
  },
  {
   "cell_type": "markdown",
   "id": "8cbe4a19",
   "metadata": {},
   "source": [
    "[Link to faker](https://faker.readthedocs.io/en/master/)\n",
    "\n",
    "[Link to my full article on faker](https://towardsdatascience.com/how-to-create-fake-data-with-faker-a835e5b7a9d9?sk=de199d5fdf7af9a8fd304d468e303a80)."
   ]
  },
  {
   "cell_type": "markdown",
   "id": "b99159b8",
   "metadata": {},
   "source": [
    "### DVC: A Data Version Control Tool for your Data Science Projects"
   ]
  },
  {
   "cell_type": "markdown",
   "id": "32ecc787",
   "metadata": {},
   "source": [
    "Git is a powerful tool to go back and forth different versions of your code. Is there a way that you can also control different versions of your data?\n",
    "\n",
    "That is when DVC comes in handy. With DVC, you can keep the information about different versions of your data in Git while storing your original data somewhere else.\n",
    "\n",
    "It is essentially like Git but is used for data. The code below shows how to use DVC."
   ]
  },
  {
   "cell_type": "markdown",
   "id": "04615613",
   "metadata": {},
   "source": [
    "```bash\n",
    "# Initialize\n",
    "$ dvc init\n",
    "\n",
    "# Track data directory\n",
    "$ dvc add data # Create data.dvc\n",
    "$ git add data.dvc\n",
    "$ git commit -m \"add data\"\n",
    "\n",
    "# Store the data remotely\n",
    "$ dvc remote add -d remote gdrive://lynNBbT-4J0ida0eKYQqZZbC93juUUUbVH\n",
    "\n",
    "# Push the data to remote storage\n",
    "$ dvc push \n",
    "\n",
    "# Get the data\n",
    "$ dvc pull \n",
    "\n",
    "# Switch between different version\n",
    "$ git checkout HEAD^1 data.dvc\n",
    "$ dvc checkout\n",
    "```"
   ]
  },
  {
   "cell_type": "markdown",
   "id": "739f11ff",
   "metadata": {},
   "source": [
    "[Link to DVC](https://dvc.org/)\n",
    "\n",
    "Find step-by-step instructions on how to use DVC in [my article](https://towardsdatascience.com/introduction-to-dvc-data-version-control-tool-for-machine-learning-projects-7cb49c229fe0?sk=842f755cdf21a5db60aada1168c55447)."
   ]
  },
  {
   "cell_type": "markdown",
   "id": "d84fc2e0",
   "metadata": {},
   "source": [
    "### fetch_openml: Get OpenML’s Dataset in One Line of Code"
   ]
  },
  {
   "cell_type": "markdown",
   "id": "a2efcf82",
   "metadata": {},
   "source": [
    "OpenML has many interesting datasets. The easiest way to get OpenML’s data in Python is to use sklearn.datasets.fetch_openml method.\n",
    "\n",
    "In one line of code, you get the OpenML’s dataset to play with!"
   ]
  },
  {
   "cell_type": "code",
   "execution_count": 11,
   "id": "9c7eee4f",
   "metadata": {
    "ExecuteTime": {
     "end_time": "2021-09-11T19:02:35.156525Z",
     "start_time": "2021-09-11T19:02:27.841053Z"
    }
   },
   "outputs": [
    {
     "name": "stdout",
     "output_type": "stream",
     "text": [
      "  attr1 attr2 attr3 attr4 attr5 attr6\n",
      "0     1     1     1     1     2     2\n",
      "1     1     1     1     1     4     1\n",
      "2     1     1     1     2     1     1\n",
      "3     1     1     1     2     1     2\n",
      "4     1     1     1     2     2     1\n",
      "5     1     1     1     2     3     1\n",
      "6     1     1     1     2     4     1\n",
      "7     1     1     1     3     2     1\n",
      "8     1     1     1     3     4     1\n",
      "9     1     1     2     1     1     1\n"
     ]
    },
    {
     "data": {
      "application/javascript": [
       "\n",
       "            setTimeout(function() {\n",
       "                var nbb_cell_id = 11;\n",
       "                var nbb_unformatted_code = \"from sklearn.datasets import fetch_openml\\n\\nmonk = fetch_openml(name='monks-problems-2', as_frame=True)\\nprint(monk['data'].head(10))\";\n",
       "                var nbb_formatted_code = \"from sklearn.datasets import fetch_openml\\n\\nmonk = fetch_openml(name=\\\"monks-problems-2\\\", as_frame=True)\\nprint(monk[\\\"data\\\"].head(10))\";\n",
       "                var nbb_cells = Jupyter.notebook.get_cells();\n",
       "                for (var i = 0; i < nbb_cells.length; ++i) {\n",
       "                    if (nbb_cells[i].input_prompt_number == nbb_cell_id) {\n",
       "                        if (nbb_cells[i].get_text() == nbb_unformatted_code) {\n",
       "                             nbb_cells[i].set_text(nbb_formatted_code);\n",
       "                        }\n",
       "                        break;\n",
       "                    }\n",
       "                }\n",
       "            }, 500);\n",
       "            "
      ],
      "text/plain": [
       "<IPython.core.display.Javascript object>"
      ]
     },
     "metadata": {},
     "output_type": "display_data"
    }
   ],
   "source": [
    "from sklearn.datasets import fetch_openml\n",
    "\n",
    "monk = fetch_openml(name=\"monks-problems-2\", as_frame=True)\n",
    "print(monk[\"data\"].head(10))"
   ]
  },
  {
   "cell_type": "markdown",
   "id": "51c56bd4",
   "metadata": {},
   "source": [
    "### Autoscraper"
   ]
  },
  {
   "cell_type": "markdown",
   "id": "0bd98c59",
   "metadata": {},
   "source": [
    "If you want to get the data from some websites, Beautifulsoup makes it easy for you to do so. But can scraping be automated even more? If you are looking for a faster way to scrape some complicated websites such as Stackoverflow, Github in a few lines of codes, try [autoscraper](https://lnkd.in/erGHS4t).\n",
    "\n",
    "All you need is to give it some texts so it can recognize the rule, and it will take care of the rest for you!"
   ]
  },
  {
   "cell_type": "code",
   "execution_count": 13,
   "id": "eb773adf",
   "metadata": {
    "ExecuteTime": {
     "end_time": "2021-09-11T19:03:59.941812Z",
     "start_time": "2021-09-11T19:03:59.181085Z"
    }
   },
   "outputs": [
    {
     "name": "stdout",
     "output_type": "stream",
     "text": [
      "How to execute a program or call a system command?\n",
      "What are metaclasses in Python?\n",
      "Does Python have a ternary conditional operator?\n",
      "Convert bytes to a string\n",
      "Does Python have a string 'contains' substring method?\n",
      "How to check version of python modules?\n"
     ]
    },
    {
     "data": {
      "application/javascript": [
       "\n",
       "            setTimeout(function() {\n",
       "                var nbb_cell_id = 13;\n",
       "                var nbb_unformatted_code = \"from autoscraper import AutoScraper\\n\\nurl = 'https://stackoverflow.com/questions/2081586/web-scraping-with-python'\\n\\nwanted_list = ['How to check version of python modules?']\\n\\nscraper = AutoScraper()\\nresult = scraper.build(url, wanted_list)\\n\\nfor res in result:\\n    print(res)\";\n",
       "                var nbb_formatted_code = \"from autoscraper import AutoScraper\\n\\nurl = \\\"https://stackoverflow.com/questions/2081586/web-scraping-with-python\\\"\\n\\nwanted_list = [\\\"How to check version of python modules?\\\"]\\n\\nscraper = AutoScraper()\\nresult = scraper.build(url, wanted_list)\\n\\nfor res in result:\\n    print(res)\";\n",
       "                var nbb_cells = Jupyter.notebook.get_cells();\n",
       "                for (var i = 0; i < nbb_cells.length; ++i) {\n",
       "                    if (nbb_cells[i].input_prompt_number == nbb_cell_id) {\n",
       "                        if (nbb_cells[i].get_text() == nbb_unformatted_code) {\n",
       "                             nbb_cells[i].set_text(nbb_formatted_code);\n",
       "                        }\n",
       "                        break;\n",
       "                    }\n",
       "                }\n",
       "            }, 500);\n",
       "            "
      ],
      "text/plain": [
       "<IPython.core.display.Javascript object>"
      ]
     },
     "metadata": {},
     "output_type": "display_data"
    }
   ],
   "source": [
    "from autoscraper import AutoScraper\n",
    "\n",
    "url = \"https://stackoverflow.com/questions/2081586/web-scraping-with-python\"\n",
    "\n",
    "wanted_list = [\"How to check version of python modules?\"]\n",
    "\n",
    "scraper = AutoScraper()\n",
    "result = scraper.build(url, wanted_list)\n",
    "\n",
    "for res in result:\n",
    "    print(res)"
   ]
  },
  {
   "cell_type": "markdown",
   "id": "48097ef4",
   "metadata": {},
   "source": [
    "### pandas-reader: Extract series data from various Internet sources directly into a pandas DataFrame"
   ]
  },
  {
   "cell_type": "markdown",
   "id": "d442925a",
   "metadata": {},
   "source": [
    "Have you wanted to extract series data from various Internet sources directly into a pandas DataFrame? That is when pandas_reader comes in handy.\n",
    "\n",
    "Below is the snippet to extract daily data of AD indicator from 2008 to 2018. "
   ]
  },
  {
   "cell_type": "code",
   "execution_count": null,
   "id": "72ab32bd",
   "metadata": {
    "ExecuteTime": {
     "end_time": "2021-09-11T19:05:11.618369Z",
     "start_time": "2021-09-11T19:05:11.419824Z"
    },
    "tags": [
     "hide-output"
    ]
   },
   "outputs": [],
   "source": [
    "import os\n",
    "from datetime import datetime\n",
    "import pandas_datareader.data as web\n",
    "\n",
    "df = web.DataReader(\n",
    "    \"AD\",\n",
    "    \"av-daily\",\n",
    "    start=datetime(2008, 1, 1),\n",
    "    end=datetime(2018, 2, 28),\n",
    "    api_key=os.gehide-outputtenv(\"ALPHAVANTAGE_API_KEY\"),\n",
    ")"
   ]
  },
  {
   "cell_type": "markdown",
   "id": "62484371",
   "metadata": {},
   "source": [
    "### sweetviz: Compare the similar features between 2 different datasets"
   ]
  },
  {
   "cell_type": "markdown",
   "id": "8ad9e9c2",
   "metadata": {},
   "source": [
    "Sometimes it is important to compare the similar features between 2 different datasets side by side such as comparing train and test sets. If you want to quickly compare 2 datasets through graphs, check out sweetviz."
   ]
  },
  {
   "cell_type": "code",
   "execution_count": 17,
   "id": "74f713aa",
   "metadata": {
    "ExecuteTime": {
     "end_time": "2021-09-11T19:08:20.830420Z",
     "start_time": "2021-09-11T19:08:18.515134Z"
    },
    "scrolled": true
   },
   "outputs": [
    {
     "data": {
      "application/vnd.jupyter.widget-view+json": {
       "model_id": "8373d1bacc894532a51f7ca635d47127",
       "version_major": 2,
       "version_minor": 0
      },
      "text/plain": [
       "                                             |                                                                …"
      ]
     },
     "metadata": {},
     "output_type": "display_data"
    },
    {
     "name": "stdout",
     "output_type": "stream",
     "text": [
      "Report SWEETVIZ_REPORT.html was generated! NOTEBOOK/COLAB USERS: the web browser MAY not pop up, regardless, the report IS saved in your notebook/colab files.\n"
     ]
    },
    {
     "data": {
      "application/javascript": [
       "\n",
       "            setTimeout(function() {\n",
       "                var nbb_cell_id = 17;\n",
       "                var nbb_unformatted_code = \"from sklearn.datasets import load_iris\\nfrom sklearn.model_selection import train_test_split\\nimport sweetviz as sv \\n\\nX, y = load_iris(return_X_y=True, as_frame=True)\\nX_train, X_test, y_train, y_test = train_test_split(X, y)\\n\\nreport = sv.compare([X_train, 'train data'], [X_test, 'test data'])\\nreport.show_html()\";\n",
       "                var nbb_formatted_code = \"from sklearn.datasets import load_iris\\nfrom sklearn.model_selection import train_test_split\\nimport sweetviz as sv\\n\\nX, y = load_iris(return_X_y=True, as_frame=True)\\nX_train, X_test, y_train, y_test = train_test_split(X, y)\\n\\nreport = sv.compare([X_train, \\\"train data\\\"], [X_test, \\\"test data\\\"])\\nreport.show_html()\";\n",
       "                var nbb_cells = Jupyter.notebook.get_cells();\n",
       "                for (var i = 0; i < nbb_cells.length; ++i) {\n",
       "                    if (nbb_cells[i].input_prompt_number == nbb_cell_id) {\n",
       "                        if (nbb_cells[i].get_text() == nbb_unformatted_code) {\n",
       "                             nbb_cells[i].set_text(nbb_formatted_code);\n",
       "                        }\n",
       "                        break;\n",
       "                    }\n",
       "                }\n",
       "            }, 500);\n",
       "            "
      ],
      "text/plain": [
       "<IPython.core.display.Javascript object>"
      ]
     },
     "metadata": {},
     "output_type": "display_data"
    },
    {
     "name": "stdout",
     "output_type": "stream",
     "text": [
      "Opening in existing browser session.\n"
     ]
    }
   ],
   "source": [
    "from sklearn.datasets import load_iris\n",
    "from sklearn.model_selection import train_test_split\n",
    "import sweetviz as sv\n",
    "\n",
    "X, y = load_iris(return_X_y=True, as_frame=True)\n",
    "X_train, X_test, y_train, y_test = train_test_split(X, y)\n",
    "\n",
    "report = sv.compare([X_train, \"train data\"], [X_test, \"test data\"])\n",
    "report.show_html()"
   ]
  },
  {
   "cell_type": "markdown",
   "id": "311e1fd1",
   "metadata": {},
   "source": [
    "Run the code above and you will generate a report similar to this:"
   ]
  },
  {
   "cell_type": "markdown",
   "id": "2dd35b34",
   "metadata": {},
   "source": [
    "![image](sweetviz_output.png)"
   ]
  },
  {
   "cell_type": "markdown",
   "id": "bfc3e822",
   "metadata": {},
   "source": [
    "[Link to sweetviz](https://github.com/fbdesignpro/sweetviz)"
   ]
  },
  {
   "cell_type": "markdown",
   "id": "f59867fb",
   "metadata": {},
   "source": [
    "### newspaper3k: Extract Meaningful Information From an Articles in 2 Lines of Code"
   ]
  },
  {
   "cell_type": "markdown",
   "id": "53886963",
   "metadata": {},
   "source": [
    "If you want to quickly extract meaningful information from an article in a few lines of code, try newspaper3k. "
   ]
  },
  {
   "cell_type": "code",
   "execution_count": 20,
   "id": "871a498d",
   "metadata": {
    "ExecuteTime": {
     "end_time": "2021-09-11T19:12:24.743567Z",
     "start_time": "2021-09-11T19:12:24.724143Z"
    }
   },
   "outputs": [
    {
     "name": "stderr",
     "output_type": "stream",
     "text": [
      "[nltk_data] Downloading package punkt to /home/khuyen/nltk_data...\n",
      "[nltk_data]   Package punkt is already up-to-date!\n"
     ]
    },
    {
     "data": {
      "text/plain": [
       "True"
      ]
     },
     "execution_count": 20,
     "metadata": {},
     "output_type": "execute_result"
    },
    {
     "data": {
      "application/javascript": [
       "\n",
       "            setTimeout(function() {\n",
       "                var nbb_cell_id = 20;\n",
       "                var nbb_unformatted_code = \"from newspaper import Article\\nimport nltk\\nnltk.download('punkt')\";\n",
       "                var nbb_formatted_code = \"from newspaper import Article\\nimport nltk\\n\\nnltk.download(\\\"punkt\\\")\";\n",
       "                var nbb_cells = Jupyter.notebook.get_cells();\n",
       "                for (var i = 0; i < nbb_cells.length; ++i) {\n",
       "                    if (nbb_cells[i].input_prompt_number == nbb_cell_id) {\n",
       "                        if (nbb_cells[i].get_text() == nbb_unformatted_code) {\n",
       "                             nbb_cells[i].set_text(nbb_formatted_code);\n",
       "                        }\n",
       "                        break;\n",
       "                    }\n",
       "                }\n",
       "            }, 500);\n",
       "            "
      ],
      "text/plain": [
       "<IPython.core.display.Javascript object>"
      ]
     },
     "metadata": {},
     "output_type": "display_data"
    }
   ],
   "source": [
    "from newspaper import Article\n",
    "import nltk\n",
    "\n",
    "nltk.download(\"punkt\")"
   ]
  },
  {
   "cell_type": "code",
   "execution_count": 21,
   "id": "86b65cc9",
   "metadata": {
    "ExecuteTime": {
     "end_time": "2021-09-11T19:12:33.703140Z",
     "start_time": "2021-09-11T19:12:32.623817Z"
    }
   },
   "outputs": [
    {
     "data": {
      "application/javascript": [
       "\n",
       "            setTimeout(function() {\n",
       "                var nbb_cell_id = 21;\n",
       "                var nbb_unformatted_code = \"url = \\\"https://www.dataquest.io/blog/learn-data-science/\\\"\\narticle = Article(url)\\narticle.download()\\narticle.parse()\";\n",
       "                var nbb_formatted_code = \"url = \\\"https://www.dataquest.io/blog/learn-data-science/\\\"\\narticle = Article(url)\\narticle.download()\\narticle.parse()\";\n",
       "                var nbb_cells = Jupyter.notebook.get_cells();\n",
       "                for (var i = 0; i < nbb_cells.length; ++i) {\n",
       "                    if (nbb_cells[i].input_prompt_number == nbb_cell_id) {\n",
       "                        if (nbb_cells[i].get_text() == nbb_unformatted_code) {\n",
       "                             nbb_cells[i].set_text(nbb_formatted_code);\n",
       "                        }\n",
       "                        break;\n",
       "                    }\n",
       "                }\n",
       "            }, 500);\n",
       "            "
      ],
      "text/plain": [
       "<IPython.core.display.Javascript object>"
      ]
     },
     "metadata": {},
     "output_type": "display_data"
    }
   ],
   "source": [
    "url = \"https://www.dataquest.io/blog/learn-data-science/\"\n",
    "article = Article(url)\n",
    "article.download()\n",
    "article.parse()"
   ]
  },
  {
   "cell_type": "code",
   "execution_count": 22,
   "id": "4c1d4b49",
   "metadata": {
    "ExecuteTime": {
     "end_time": "2021-09-11T19:12:39.679832Z",
     "start_time": "2021-09-11T19:12:39.663924Z"
    }
   },
   "outputs": [
    {
     "data": {
      "text/plain": [
       "'How to Learn Data Science (A step-by-step guide)'"
      ]
     },
     "execution_count": 22,
     "metadata": {},
     "output_type": "execute_result"
    },
    {
     "data": {
      "application/javascript": [
       "\n",
       "            setTimeout(function() {\n",
       "                var nbb_cell_id = 22;\n",
       "                var nbb_unformatted_code = \"article.title\";\n",
       "                var nbb_formatted_code = \"article.title\";\n",
       "                var nbb_cells = Jupyter.notebook.get_cells();\n",
       "                for (var i = 0; i < nbb_cells.length; ++i) {\n",
       "                    if (nbb_cells[i].input_prompt_number == nbb_cell_id) {\n",
       "                        if (nbb_cells[i].get_text() == nbb_unformatted_code) {\n",
       "                             nbb_cells[i].set_text(nbb_formatted_code);\n",
       "                        }\n",
       "                        break;\n",
       "                    }\n",
       "                }\n",
       "            }, 500);\n",
       "            "
      ],
      "text/plain": [
       "<IPython.core.display.Javascript object>"
      ]
     },
     "metadata": {},
     "output_type": "display_data"
    }
   ],
   "source": [
    "article.title"
   ]
  },
  {
   "cell_type": "code",
   "execution_count": 23,
   "id": "4b60c35e",
   "metadata": {
    "ExecuteTime": {
     "end_time": "2021-09-11T19:12:44.416486Z",
     "start_time": "2021-09-11T19:12:44.400053Z"
    }
   },
   "outputs": [
    {
     "data": {
      "text/plain": [
       "datetime.datetime(2020, 5, 4, 7, 1, tzinfo=tzutc())"
      ]
     },
     "execution_count": 23,
     "metadata": {},
     "output_type": "execute_result"
    },
    {
     "data": {
      "application/javascript": [
       "\n",
       "            setTimeout(function() {\n",
       "                var nbb_cell_id = 23;\n",
       "                var nbb_unformatted_code = \"article.publish_date\";\n",
       "                var nbb_formatted_code = \"article.publish_date\";\n",
       "                var nbb_cells = Jupyter.notebook.get_cells();\n",
       "                for (var i = 0; i < nbb_cells.length; ++i) {\n",
       "                    if (nbb_cells[i].input_prompt_number == nbb_cell_id) {\n",
       "                        if (nbb_cells[i].get_text() == nbb_unformatted_code) {\n",
       "                             nbb_cells[i].set_text(nbb_formatted_code);\n",
       "                        }\n",
       "                        break;\n",
       "                    }\n",
       "                }\n",
       "            }, 500);\n",
       "            "
      ],
      "text/plain": [
       "<IPython.core.display.Javascript object>"
      ]
     },
     "metadata": {},
     "output_type": "display_data"
    }
   ],
   "source": [
    "article.publish_date"
   ]
  },
  {
   "cell_type": "code",
   "execution_count": 24,
   "id": "30b9a070",
   "metadata": {
    "ExecuteTime": {
     "end_time": "2021-09-11T19:12:49.319814Z",
     "start_time": "2021-09-11T19:12:49.304319Z"
    }
   },
   "outputs": [
    {
     "data": {
      "text/plain": [
       "'https://www.dataquest.io/wp-content/uploads/2020/05/learn-data-science.jpg'"
      ]
     },
     "execution_count": 24,
     "metadata": {},
     "output_type": "execute_result"
    },
    {
     "data": {
      "application/javascript": [
       "\n",
       "            setTimeout(function() {\n",
       "                var nbb_cell_id = 24;\n",
       "                var nbb_unformatted_code = \"article.top_image\";\n",
       "                var nbb_formatted_code = \"article.top_image\";\n",
       "                var nbb_cells = Jupyter.notebook.get_cells();\n",
       "                for (var i = 0; i < nbb_cells.length; ++i) {\n",
       "                    if (nbb_cells[i].input_prompt_number == nbb_cell_id) {\n",
       "                        if (nbb_cells[i].get_text() == nbb_unformatted_code) {\n",
       "                             nbb_cells[i].set_text(nbb_formatted_code);\n",
       "                        }\n",
       "                        break;\n",
       "                    }\n",
       "                }\n",
       "            }, 500);\n",
       "            "
      ],
      "text/plain": [
       "<IPython.core.display.Javascript object>"
      ]
     },
     "metadata": {},
     "output_type": "display_data"
    }
   ],
   "source": [
    "article.top_image"
   ]
  },
  {
   "cell_type": "code",
   "execution_count": 25,
   "id": "6c128f0f",
   "metadata": {
    "ExecuteTime": {
     "end_time": "2021-09-11T19:12:56.330559Z",
     "start_time": "2021-09-11T19:12:56.271488Z"
    }
   },
   "outputs": [
    {
     "data": {
      "application/javascript": [
       "\n",
       "            setTimeout(function() {\n",
       "                var nbb_cell_id = 25;\n",
       "                var nbb_unformatted_code = \"article.nlp()\";\n",
       "                var nbb_formatted_code = \"article.nlp()\";\n",
       "                var nbb_cells = Jupyter.notebook.get_cells();\n",
       "                for (var i = 0; i < nbb_cells.length; ++i) {\n",
       "                    if (nbb_cells[i].input_prompt_number == nbb_cell_id) {\n",
       "                        if (nbb_cells[i].get_text() == nbb_unformatted_code) {\n",
       "                             nbb_cells[i].set_text(nbb_formatted_code);\n",
       "                        }\n",
       "                        break;\n",
       "                    }\n",
       "                }\n",
       "            }, 500);\n",
       "            "
      ],
      "text/plain": [
       "<IPython.core.display.Javascript object>"
      ]
     },
     "metadata": {},
     "output_type": "display_data"
    }
   ],
   "source": [
    "article.nlp()"
   ]
  },
  {
   "cell_type": "code",
   "execution_count": 26,
   "id": "46aec82e",
   "metadata": {
    "ExecuteTime": {
     "end_time": "2021-09-11T19:13:00.681926Z",
     "start_time": "2021-09-11T19:13:00.666440Z"
    }
   },
   "outputs": [
    {
     "data": {
      "text/plain": [
       "'How to Learn Data ScienceSo how do you start to learn data science?\\nIf you want to learn data science or just pick up some data science skills, your first goal should be to learn to love data.\\nRather, consider it as a rough set of guidelines to follow as you learn data science on your own path.\\nI personally believe that anyone can learn data science if they approach it with the right frame of mind.\\nI’m also the founder of Dataquest, a site that helps you learn data science in your browser.'"
      ]
     },
     "execution_count": 26,
     "metadata": {},
     "output_type": "execute_result"
    },
    {
     "data": {
      "application/javascript": [
       "\n",
       "            setTimeout(function() {\n",
       "                var nbb_cell_id = 26;\n",
       "                var nbb_unformatted_code = \"article.summary\";\n",
       "                var nbb_formatted_code = \"article.summary\";\n",
       "                var nbb_cells = Jupyter.notebook.get_cells();\n",
       "                for (var i = 0; i < nbb_cells.length; ++i) {\n",
       "                    if (nbb_cells[i].input_prompt_number == nbb_cell_id) {\n",
       "                        if (nbb_cells[i].get_text() == nbb_unformatted_code) {\n",
       "                             nbb_cells[i].set_text(nbb_formatted_code);\n",
       "                        }\n",
       "                        break;\n",
       "                    }\n",
       "                }\n",
       "            }, 500);\n",
       "            "
      ],
      "text/plain": [
       "<IPython.core.display.Javascript object>"
      ]
     },
     "metadata": {},
     "output_type": "display_data"
    }
   ],
   "source": [
    "article.summary"
   ]
  },
  {
   "cell_type": "code",
   "execution_count": 27,
   "id": "1a369252",
   "metadata": {
    "ExecuteTime": {
     "end_time": "2021-09-11T19:13:05.338257Z",
     "start_time": "2021-09-11T19:13:05.322325Z"
    }
   },
   "outputs": [
    {
     "data": {
      "text/plain": [
       "['scientists',\n",
       " 'guide',\n",
       " 'learning',\n",
       " 'youre',\n",
       " 'science',\n",
       " 'work',\n",
       " 'skills',\n",
       " 'youll',\n",
       " 'data',\n",
       " 'learn',\n",
       " 'stepbystep',\n",
       " 'need']"
      ]
     },
     "execution_count": 27,
     "metadata": {},
     "output_type": "execute_result"
    },
    {
     "data": {
      "application/javascript": [
       "\n",
       "            setTimeout(function() {\n",
       "                var nbb_cell_id = 27;\n",
       "                var nbb_unformatted_code = \"article.keywords\";\n",
       "                var nbb_formatted_code = \"article.keywords\";\n",
       "                var nbb_cells = Jupyter.notebook.get_cells();\n",
       "                for (var i = 0; i < nbb_cells.length; ++i) {\n",
       "                    if (nbb_cells[i].input_prompt_number == nbb_cell_id) {\n",
       "                        if (nbb_cells[i].get_text() == nbb_unformatted_code) {\n",
       "                             nbb_cells[i].set_text(nbb_formatted_code);\n",
       "                        }\n",
       "                        break;\n",
       "                    }\n",
       "                }\n",
       "            }, 500);\n",
       "            "
      ],
      "text/plain": [
       "<IPython.core.display.Javascript object>"
      ]
     },
     "metadata": {},
     "output_type": "display_data"
    }
   ],
   "source": [
    "article.keywords"
   ]
  },
  {
   "cell_type": "markdown",
   "id": "8e41e131",
   "metadata": {},
   "source": [
    "[Link to newspaper3k](https://newspaper.readthedocs.io/en/latest/user_guide/quickstart.html?highlight=parse#performing-nlp-on-an-article).\n",
    "\n"
   ]
  }
 ],
 "metadata": {
  "celltoolbar": "Tags",
  "kernelspec": {
   "display_name": "Python 3 (ipykernel)",
   "language": "python",
   "name": "python3"
  },
  "language_info": {
   "codemirror_mode": {
    "name": "ipython",
    "version": 3
   },
   "file_extension": ".py",
   "mimetype": "text/x-python",
   "name": "python",
   "nbconvert_exporter": "python",
   "pygments_lexer": "ipython3",
   "version": "3.8.10"
  },
  "toc": {
   "base_numbering": 1,
   "nav_menu": {},
   "number_sections": true,
   "sideBar": true,
   "skip_h1_title": false,
   "title_cell": "Table of Contents",
   "title_sidebar": "Contents",
   "toc_cell": false,
   "toc_position": {},
   "toc_section_display": true,
   "toc_window_display": false
  }
 },
 "nbformat": 4,
 "nbformat_minor": 5
}
