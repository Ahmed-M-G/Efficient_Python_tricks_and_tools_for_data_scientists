{
 "cells": [
  {
   "cell_type": "markdown",
   "id": "d3a94d91",
   "metadata": {},
   "source": [
    "## Itertools"
   ]
  },
  {
   "cell_type": "markdown",
   "id": "76de4491",
   "metadata": {},
   "source": [
    "[itertools](https://docs.python.org/3/library/itertools.html) is a built-in Python library that creates iterators for efficient looping. This section will show you some useful methods of itertools."
   ]
  },
  {
   "cell_type": "markdown",
   "id": "41eb9120",
   "metadata": {},
   "source": [
    "### itertools.combinations: A Better Way to Iterate Through a Pair of Values in a Python List"
   ]
  },
  {
   "cell_type": "markdown",
   "id": "351aa114",
   "metadata": {},
   "source": [
    "If you want to iterate through a pair of values in a list and the order does not matter (`(a,b)` is the same as `(b, a)`), a naive approach is to use two for-loops."
   ]
  },
  {
   "cell_type": "code",
   "execution_count": 3,
   "id": "a593675d",
   "metadata": {
    "ExecuteTime": {
     "end_time": "2021-08-29T21:38:23.366274Z",
     "start_time": "2021-08-29T21:38:23.360506Z"
    }
   },
   "outputs": [],
   "source": [
    "num_list = [1, 2, 3]"
   ]
  },
  {
   "cell_type": "code",
   "execution_count": 6,
   "id": "fc292dee",
   "metadata": {
    "ExecuteTime": {
     "end_time": "2021-08-29T21:42:22.222730Z",
     "start_time": "2021-08-29T21:42:22.215146Z"
    }
   },
   "outputs": [
    {
     "name": "stdout",
     "output_type": "stream",
     "text": [
      "(1, 2)\n",
      "(1, 3)\n",
      "(2, 3)\n"
     ]
    }
   ],
   "source": [
    "for i in num_list: \n",
    "    for j in num_list:\n",
    "        if i < j:\n",
    "            print((i, j))"
   ]
  },
  {
   "cell_type": "markdown",
   "id": "e88e9ee3",
   "metadata": {},
   "source": [
    "However, using two for-loops is lengthy and inefficient. Use `itertools.combinations` instead:"
   ]
  },
  {
   "cell_type": "code",
   "execution_count": 7,
   "id": "74beca76",
   "metadata": {
    "ExecuteTime": {
     "end_time": "2021-08-29T21:42:23.917612Z",
     "start_time": "2021-08-29T21:42:23.909612Z"
    }
   },
   "outputs": [
    {
     "name": "stdout",
     "output_type": "stream",
     "text": [
      "(1, 2)\n",
      "(1, 3)\n",
      "(2, 3)\n"
     ]
    }
   ],
   "source": [
    "from itertools import combinations\n",
    "\n",
    "comb = combinations(num_list, 2) # use this\n",
    "for pair in list(comb):\n",
    "    print(pair)"
   ]
  },
  {
   "cell_type": "markdown",
   "id": "33f052f8",
   "metadata": {},
   "source": [
    "### itertools.product: Nested For-Loops in a Generator Expression "
   ]
  },
  {
   "cell_type": "markdown",
   "id": "d632574d",
   "metadata": {},
   "source": [
    "Are you using nested for-loops to experiment with different combinations of parameters? If so, use `itertools.product` instead.\n",
    "\n",
    "`itertools.product` is more efficient than nested loop because `product(A, B)` returns the same as `((x,y) for x in A for y in B)`."
   ]
  },
  {
   "cell_type": "code",
   "execution_count": 8,
   "id": "84a8bda4",
   "metadata": {
    "ExecuteTime": {
     "end_time": "2021-08-29T21:44:02.299620Z",
     "start_time": "2021-08-29T21:44:02.288949Z"
    }
   },
   "outputs": [
    {
     "name": "stdout",
     "output_type": "stream",
     "text": [
      "{'learning_rate': 0.1, 'batch_size': 16}\n",
      "{'learning_rate': 0.1, 'batch_size': 32}\n",
      "{'learning_rate': 0.1, 'batch_size': 64}\n",
      "{'learning_rate': 0.01, 'batch_size': 16}\n",
      "{'learning_rate': 0.01, 'batch_size': 32}\n",
      "{'learning_rate': 0.01, 'batch_size': 64}\n",
      "{'learning_rate': 0.001, 'batch_size': 16}\n",
      "{'learning_rate': 0.001, 'batch_size': 32}\n",
      "{'learning_rate': 0.001, 'batch_size': 64}\n"
     ]
    }
   ],
   "source": [
    "from itertools import product\n",
    "\n",
    "params = {\n",
    "    \"learning_rate\": [1e-1, 1e-2, 1e-3],\n",
    "    \"batch_size\": [16, 32, 64],\n",
    "}\n",
    "\n",
    "for vals in product(*params.values()):\n",
    "    combination = dict(zip(params.keys(), vals))\n",
    "    print(combination)"
   ]
  }
 ],
 "metadata": {
  "kernelspec": {
   "display_name": "Python 3 (ipykernel)",
   "language": "python",
   "name": "python3"
  },
  "language_info": {
   "codemirror_mode": {
    "name": "ipython",
    "version": 3
   },
   "file_extension": ".py",
   "mimetype": "text/x-python",
   "name": "python",
   "nbconvert_exporter": "python",
   "pygments_lexer": "ipython3",
   "version": "3.8.10"
  },
  "toc": {
   "base_numbering": 1,
   "nav_menu": {},
   "number_sections": true,
   "sideBar": true,
   "skip_h1_title": false,
   "title_cell": "Table of Contents",
   "title_sidebar": "Contents",
   "toc_cell": false,
   "toc_position": {},
   "toc_section_display": true,
   "toc_window_display": false
  }
 },
 "nbformat": 4,
 "nbformat_minor": 5
}
