{
 "cells": [
  {
   "cell_type": "markdown",
   "source": [
    "## Classes"
   ],
   "metadata": {}
  },
  {
   "cell_type": "markdown",
   "source": [
    "### Abstract Classes: Declare Methods without Implementation"
   ],
   "metadata": {}
  },
  {
   "cell_type": "markdown",
   "source": [
    "Sometimes you might want different classes to use the same attributes and methods. But the implementation of those methods can be slightly different in each class.\n",
    "\n",
    "A good way to implement this is to use abstract classes. An abstract class contains one or more abstract methods.\n",
    "\n",
    "An abstract method is a method that is declared but contains no implementation. The abstract method requires subclasses to provide implementations."
   ],
   "metadata": {}
  },
  {
   "cell_type": "code",
   "execution_count": 1,
   "source": [
    "from abc import ABC, abstractmethod \n",
    "\n",
    "class Animal(ABC):\n",
    "\n",
    "    def __init__(self, name: str):\n",
    "        self.name = name \n",
    "        super().__init__()\n",
    "\n",
    "    @abstractmethod \n",
    "    def make_sound(self):\n",
    "        pass \n",
    "\n",
    "class Dog(Animal):\n",
    "    def make_sound(self):\n",
    "        print(f'{self.name} says: Woof')\n",
    "\n",
    "class Cat(Animal):\n",
    "    def make_sound(self):\n",
    "        print(f'{self.name} says: Meows')\n",
    "\n",
    "Dog('Pepper').make_sound()\n",
    "Cat('Bella').make_sound()"
   ],
   "outputs": [
    {
     "output_type": "stream",
     "name": "stdout",
     "text": [
      "Pepper says: Woof\n",
      "Bella says: Meows\n"
     ]
    }
   ],
   "metadata": {
    "ExecuteTime": {
     "end_time": "2021-08-30T00:53:57.751754Z",
     "start_time": "2021-08-30T00:53:57.725292Z"
    }
   }
  },
  {
   "cell_type": "markdown",
   "source": [
    "### classmethod: What is it and When to Use it\n"
   ],
   "metadata": {}
  },
  {
   "cell_type": "markdown",
   "source": [
    "When working with a Python class, if you want to create a method that returns that class with new attributes, use `classmethod`.\n",
    "\n",
    "Classmethod doesn’t depend on the creation of a class instance. In the code below, I use `classmethod` to instantiate a new object whose attribute is a list of even numbers."
   ],
   "metadata": {}
  },
  {
   "cell_type": "code",
   "execution_count": 2,
   "source": [
    "class Solver:\n",
    "    def __init__(self, nums: list):\n",
    "        self.nums = nums\n",
    "    \n",
    "    @classmethod\n",
    "    def get_even(cls, nums: list):\n",
    "        return cls([num for num in nums if num % 2 == 0])\n",
    "    \n",
    "    def print_output(self):\n",
    "        print(\"Result:\", self.nums)\n",
    "\n",
    "# Not using class method       \n",
    "nums = [1, 2, 3, 4, 5, 6, 7]\n",
    "solver = Solver(nums).print_output()"
   ],
   "outputs": [
    {
     "output_type": "stream",
     "name": "stdout",
     "text": [
      "Result: [1, 2, 3, 4, 5, 6, 7]\n"
     ]
    }
   ],
   "metadata": {
    "ExecuteTime": {
     "end_time": "2021-08-30T00:54:55.629438Z",
     "start_time": "2021-08-30T00:54:55.618862Z"
    }
   }
  },
  {
   "cell_type": "code",
   "execution_count": 3,
   "source": [
    "solver2 = Solver.get_even(nums)\n",
    "solver2.print_output()"
   ],
   "outputs": [
    {
     "output_type": "stream",
     "name": "stdout",
     "text": [
      "Result: [2, 4, 6]\n"
     ]
    }
   ],
   "metadata": {
    "ExecuteTime": {
     "end_time": "2021-08-30T00:55:16.233030Z",
     "start_time": "2021-08-30T00:55:16.226939Z"
    }
   }
  },
  {
   "cell_type": "markdown",
   "source": [
    "### getattr: a Better Way to Get the Attribute of a Class"
   ],
   "metadata": {}
  },
  {
   "cell_type": "markdown",
   "source": [
    "If you want to get a default value when calling an attribute that is not in a class, use `getattr()` method.\n",
    "\n",
    "The `getattr(class, attribute_name)` method simply gets the value of an attribute of a class. However, if the attribute is not found in a class, it returns the default value provided to the function."
   ],
   "metadata": {}
  },
  {
   "cell_type": "code",
   "execution_count": 8,
   "source": [
    "class Food:\n",
    "    def __init__(self, name: str, color: str):\n",
    "        self.name = name\n",
    "        self.color = color\n",
    "\n",
    "\n",
    "apple = Food(\"apple\", \"red\")\n",
    "\n",
    "print(\"The color of apple is\", getattr(apple, \"color\", \"yellow\"))"
   ],
   "outputs": [
    {
     "output_type": "stream",
     "name": "stdout",
     "text": [
      "The color of apple is red\n"
     ]
    },
    {
     "output_type": "display_data",
     "data": {
      "application/javascript": "\n            setTimeout(function() {\n                var nbb_cell_id = 8;\n                var nbb_unformatted_code = \"\\nclass Food:\\n    def __init__(self, name: str, color: str):\\n        self.name = name \\n        self.color = color \\n\\napple = Food('apple', 'red')\\n\\nprint(\\\"The color of apple is\\\", getattr(apple, 'color', 'yellow'))\";\n                var nbb_formatted_code = \"class Food:\\n    def __init__(self, name: str, color: str):\\n        self.name = name\\n        self.color = color\\n\\n\\napple = Food(\\\"apple\\\", \\\"red\\\")\\n\\nprint(\\\"The color of apple is\\\", getattr(apple, \\\"color\\\", \\\"yellow\\\"))\";\n                var nbb_cells = Jupyter.notebook.get_cells();\n                for (var i = 0; i < nbb_cells.length; ++i) {\n                    if (nbb_cells[i].input_prompt_number == nbb_cell_id) {\n                        if (nbb_cells[i].get_text() == nbb_unformatted_code) {\n                             nbb_cells[i].set_text(nbb_formatted_code);\n                        }\n                        break;\n                    }\n                }\n            }, 500);\n            ",
      "text/plain": [
       "<IPython.core.display.Javascript object>"
      ]
     },
     "metadata": {}
    }
   ],
   "metadata": {
    "ExecuteTime": {
     "end_time": "2021-08-30T00:59:12.972426Z",
     "start_time": "2021-08-30T00:59:12.942780Z"
    }
   }
  },
  {
   "cell_type": "code",
   "execution_count": 9,
   "source": [
    "print(\"The flavor of apple is\", getattr(apple, \"flavor\", \"sweet\"))"
   ],
   "outputs": [
    {
     "output_type": "stream",
     "name": "stdout",
     "text": [
      "The flavor of apple is sweet\n"
     ]
    },
    {
     "output_type": "display_data",
     "data": {
      "application/javascript": "\n            setTimeout(function() {\n                var nbb_cell_id = 9;\n                var nbb_unformatted_code = \"print(\\\"The flavor of apple is\\\", getattr(apple, 'flavor', 'sweet'))\";\n                var nbb_formatted_code = \"print(\\\"The flavor of apple is\\\", getattr(apple, \\\"flavor\\\", \\\"sweet\\\"))\";\n                var nbb_cells = Jupyter.notebook.get_cells();\n                for (var i = 0; i < nbb_cells.length; ++i) {\n                    if (nbb_cells[i].input_prompt_number == nbb_cell_id) {\n                        if (nbb_cells[i].get_text() == nbb_unformatted_code) {\n                             nbb_cells[i].set_text(nbb_formatted_code);\n                        }\n                        break;\n                    }\n                }\n            }, 500);\n            ",
      "text/plain": [
       "<IPython.core.display.Javascript object>"
      ]
     },
     "metadata": {}
    }
   ],
   "metadata": {
    "ExecuteTime": {
     "end_time": "2021-08-30T00:59:13.606580Z",
     "start_time": "2021-08-30T00:59:13.591580Z"
    }
   }
  },
  {
   "cell_type": "code",
   "execution_count": 10,
   "source": [
    "print(\"The flavor of apple is\", apple.sweet)"
   ],
   "outputs": [
    {
     "output_type": "error",
     "ename": "AttributeError",
     "evalue": "'Food' object has no attribute 'sweet'",
     "traceback": [
      "\u001b[0;31m---------------------------------------------------------------------------\u001b[0m",
      "\u001b[0;31mAttributeError\u001b[0m                            Traceback (most recent call last)",
      "\u001b[0;32m/tmp/ipykernel_337430/3178150741.py\u001b[0m in \u001b[0;36m<module>\u001b[0;34m\u001b[0m\n\u001b[0;32m----> 1\u001b[0;31m \u001b[0mprint\u001b[0m\u001b[0;34m(\u001b[0m\u001b[0;34m\"The flavor of apple is\"\u001b[0m\u001b[0;34m,\u001b[0m \u001b[0mapple\u001b[0m\u001b[0;34m.\u001b[0m\u001b[0msweet\u001b[0m\u001b[0;34m)\u001b[0m\u001b[0;34m\u001b[0m\u001b[0;34m\u001b[0m\u001b[0m\n\u001b[0m",
      "\u001b[0;31mAttributeError\u001b[0m: 'Food' object has no attribute 'sweet'"
     ]
    },
    {
     "output_type": "display_data",
     "data": {
      "application/javascript": "\n            setTimeout(function() {\n                var nbb_cell_id = 10;\n                var nbb_unformatted_code = \"print(\\\"The flavor of apple is\\\", apple.sweet)\";\n                var nbb_formatted_code = \"print(\\\"The flavor of apple is\\\", apple.sweet)\";\n                var nbb_cells = Jupyter.notebook.get_cells();\n                for (var i = 0; i < nbb_cells.length; ++i) {\n                    if (nbb_cells[i].input_prompt_number == nbb_cell_id) {\n                        if (nbb_cells[i].get_text() == nbb_unformatted_code) {\n                             nbb_cells[i].set_text(nbb_formatted_code);\n                        }\n                        break;\n                    }\n                }\n            }, 500);\n            ",
      "text/plain": [
       "<IPython.core.display.Javascript object>"
      ]
     },
     "metadata": {}
    }
   ],
   "metadata": {
    "ExecuteTime": {
     "end_time": "2021-08-30T00:59:14.290269Z",
     "start_time": "2021-08-30T00:59:14.258917Z"
    }
   }
  },
  {
   "cell_type": "markdown",
   "source": [
    "### __call__: Call your Class Instance like a Function"
   ],
   "metadata": {}
  },
  {
   "cell_type": "markdown",
   "source": [
    "If you want to call your class instance like a function, add `__call__` method to your class."
   ],
   "metadata": {}
  },
  {
   "cell_type": "code",
   "execution_count": 11,
   "source": [
    "class DataLoader:\n",
    "    def __init__(self, data_dir: str):\n",
    "        self.data_dir = data_dir\n",
    "        print(\"Instance is created\")\n",
    "\n",
    "    def __call__(self):\n",
    "        print(\"Instance is called\")\n",
    "\n",
    "\n",
    "data_loader = DataLoader(\"my_data_dir\")\n",
    "# Instance is created\n",
    "\n",
    "data_loader()\n",
    "# Instance is called"
   ],
   "outputs": [
    {
     "output_type": "stream",
     "name": "stdout",
     "text": [
      "Instance is created\n",
      "Instance is called\n"
     ]
    },
    {
     "output_type": "display_data",
     "data": {
      "application/javascript": "\n            setTimeout(function() {\n                var nbb_cell_id = 11;\n                var nbb_unformatted_code = \"class DataLoader:\\n\\n\\tdef __init__(self, data_dir: str):\\n\\t\\tself.data_dir = data_dir\\n\\t\\tprint(\\\"Instance is created\\\")\\n\\n\\tdef __call__(self):\\n\\t\\tprint(\\\"Instance is called\\\")\\n\\ndata_loader = DataLoader('my_data_dir')\\n# Instance is created\\n\\ndata_loader()\\n# Instance is called\";\n                var nbb_formatted_code = \"class DataLoader:\\n    def __init__(self, data_dir: str):\\n        self.data_dir = data_dir\\n        print(\\\"Instance is created\\\")\\n\\n    def __call__(self):\\n        print(\\\"Instance is called\\\")\\n\\n\\ndata_loader = DataLoader(\\\"my_data_dir\\\")\\n# Instance is created\\n\\ndata_loader()\\n# Instance is called\";\n                var nbb_cells = Jupyter.notebook.get_cells();\n                for (var i = 0; i < nbb_cells.length; ++i) {\n                    if (nbb_cells[i].input_prompt_number == nbb_cell_id) {\n                        if (nbb_cells[i].get_text() == nbb_unformatted_code) {\n                             nbb_cells[i].set_text(nbb_formatted_code);\n                        }\n                        break;\n                    }\n                }\n            }, 500);\n            ",
      "text/plain": [
       "<IPython.core.display.Javascript object>"
      ]
     },
     "metadata": {}
    }
   ],
   "metadata": {
    "ExecuteTime": {
     "end_time": "2021-08-30T00:59:18.557329Z",
     "start_time": "2021-08-30T00:59:18.532123Z"
    }
   }
  },
  {
   "cell_type": "markdown",
   "source": [
    "### Static method: use the function without adding the attributes required for a new instance"
   ],
   "metadata": {}
  },
  {
   "cell_type": "markdown",
   "source": [
    "Have you ever had a function in your class that doesn’t access any properties of a class but fits well in a class? You might find it redundant to instantiate the class to use that function. That is when you can turn your function into a static method.\n",
    "\n",
    "All you need to turn your function into a static method is the decorator `@staticmethod`. Now you can use the function without adding the attributes required for a new instance.\n",
    "\n"
   ],
   "metadata": {}
  },
  {
   "cell_type": "code",
   "execution_count": 12,
   "source": [
    "import re\n",
    "\n",
    "\n",
    "class ProcessText:\n",
    "    def __init__(self, text_column: str):\n",
    "        self.text_column = text_column\n",
    "\n",
    "    @staticmethod\n",
    "    def remove_URL(sample: str) -> str:\n",
    "        \"\"\"Replace url with empty space\"\"\"\n",
    "        return re.sub(r\"http\\S+\", \"\", sample)\n",
    "\n",
    "\n",
    "text = ProcessText.remove_URL(\"My favorite page is https://www.google.com\")\n",
    "print(text)"
   ],
   "outputs": [
    {
     "output_type": "stream",
     "name": "stdout",
     "text": [
      "My favorite page is \n"
     ]
    },
    {
     "output_type": "display_data",
     "data": {
      "application/javascript": "\n            setTimeout(function() {\n                var nbb_cell_id = 12;\n                var nbb_unformatted_code = \"import re \\n\\nclass ProcessText:\\n    def __init__(self, text_column: str):\\n        self.text_column = text_column\\n\\n    @staticmethod\\n    def remove_URL(sample: str) -> str:\\n        \\\"\\\"\\\"Replace url with empty space\\\"\\\"\\\"\\n        return re.sub(r'http\\\\S+', \\\"\\\", sample)\\n\\ntext = ProcessText.remove_URL('My favorite page is https://www.google.com')\\nprint(text)\";\n                var nbb_formatted_code = \"import re\\n\\n\\nclass ProcessText:\\n    def __init__(self, text_column: str):\\n        self.text_column = text_column\\n\\n    @staticmethod\\n    def remove_URL(sample: str) -> str:\\n        \\\"\\\"\\\"Replace url with empty space\\\"\\\"\\\"\\n        return re.sub(r\\\"http\\\\S+\\\", \\\"\\\", sample)\\n\\n\\ntext = ProcessText.remove_URL(\\\"My favorite page is https://www.google.com\\\")\\nprint(text)\";\n                var nbb_cells = Jupyter.notebook.get_cells();\n                for (var i = 0; i < nbb_cells.length; ++i) {\n                    if (nbb_cells[i].input_prompt_number == nbb_cell_id) {\n                        if (nbb_cells[i].get_text() == nbb_unformatted_code) {\n                             nbb_cells[i].set_text(nbb_formatted_code);\n                        }\n                        break;\n                    }\n                }\n            }, 500);\n            ",
      "text/plain": [
       "<IPython.core.display.Javascript object>"
      ]
     },
     "metadata": {}
    }
   ],
   "metadata": {
    "ExecuteTime": {
     "end_time": "2021-08-30T01:00:17.808040Z",
     "start_time": "2021-08-30T01:00:17.775913Z"
    }
   }
  },
  {
   "cell_type": "markdown",
   "source": [
    "### Property Decorator: A Pythonic Way to Use Getters and Setters"
   ],
   "metadata": {}
  },
  {
   "cell_type": "markdown",
   "source": [
    "If you want users to use the right data type for a class attribute or prevent them from changing that attribute, use the `property` decorator.\n",
    "\n",
    "In the code below, the first `color` method is used to get the attribute `color` and the second `color` method is used to set the value for the attribute `color`."
   ],
   "metadata": {}
  },
  {
   "cell_type": "code",
   "execution_count": 15,
   "source": [
    "class Fruit:\n",
    "    def __init__(self, name: str, color: str):\n",
    "        self._name = name\n",
    "        self._color = color\n",
    "\n",
    "    @property\n",
    "    def color(self):\n",
    "        print(\"The color of the fruit is:\")\n",
    "        return self._color\n",
    "\n",
    "    @color.setter\n",
    "    def color(self, value):\n",
    "        print(\"Setting value of color...\")\n",
    "        if self._color is None:\n",
    "            if not isinstance(value, str):\n",
    "                raise ValueError(\"color must be of type string\")\n",
    "            self.color = value\n",
    "        else:\n",
    "            raise AttributeError(\"Sorry, you cannot change a fruit's color!\")\n",
    "\n",
    "\n",
    "fruit = Fruit(\"apple\", \"red\")\n",
    "fruit.color"
   ],
   "outputs": [
    {
     "output_type": "stream",
     "name": "stdout",
     "text": [
      "The color of the fruit is:\n"
     ]
    },
    {
     "output_type": "execute_result",
     "data": {
      "text/plain": [
       "'red'"
      ]
     },
     "metadata": {},
     "execution_count": 15
    },
    {
     "output_type": "display_data",
     "data": {
      "application/javascript": "\n            setTimeout(function() {\n                var nbb_cell_id = 15;\n                var nbb_unformatted_code = \"class Fruit:\\n    def __init__(self, name: str, color: str):\\n        self._name = name\\n        self._color = color\\n\\n    @property\\n    def color(self):\\n        print(\\\"The color of the fruit is:\\\")\\n        return self._color\\n\\n    @color.setter\\n    def color(self, value):\\n        print(\\\"Setting value of color...\\\")\\n        if self._color is None:\\n            if not isinstance(value, str):\\n                raise ValueError(\\\"color must be of type string\\\")\\n            self.color = value\\n        else:\\n            raise AttributeError(\\\"Sorry, you cannot change a fruit's color!\\\")\\n\\n\\nfruit = Fruit(\\\"apple\\\", \\\"red\\\")\\nfruit.color\";\n                var nbb_formatted_code = \"class Fruit:\\n    def __init__(self, name: str, color: str):\\n        self._name = name\\n        self._color = color\\n\\n    @property\\n    def color(self):\\n        print(\\\"The color of the fruit is:\\\")\\n        return self._color\\n\\n    @color.setter\\n    def color(self, value):\\n        print(\\\"Setting value of color...\\\")\\n        if self._color is None:\\n            if not isinstance(value, str):\\n                raise ValueError(\\\"color must be of type string\\\")\\n            self.color = value\\n        else:\\n            raise AttributeError(\\\"Sorry, you cannot change a fruit's color!\\\")\\n\\n\\nfruit = Fruit(\\\"apple\\\", \\\"red\\\")\\nfruit.color\";\n                var nbb_cells = Jupyter.notebook.get_cells();\n                for (var i = 0; i < nbb_cells.length; ++i) {\n                    if (nbb_cells[i].input_prompt_number == nbb_cell_id) {\n                        if (nbb_cells[i].get_text() == nbb_unformatted_code) {\n                             nbb_cells[i].set_text(nbb_formatted_code);\n                        }\n                        break;\n                    }\n                }\n            }, 500);\n            ",
      "text/plain": [
       "<IPython.core.display.Javascript object>"
      ]
     },
     "metadata": {}
    }
   ],
   "metadata": {
    "ExecuteTime": {
     "end_time": "2021-08-30T01:08:59.507066Z",
     "start_time": "2021-08-30T01:08:59.461065Z"
    }
   }
  },
  {
   "cell_type": "code",
   "execution_count": 16,
   "source": [
    "fruit.color = \"yellow\""
   ],
   "outputs": [
    {
     "output_type": "stream",
     "name": "stdout",
     "text": [
      "Setting value of color...\n"
     ]
    },
    {
     "output_type": "error",
     "ename": "AttributeError",
     "evalue": "Sorry, you cannot change a fruit's color!",
     "traceback": [
      "\u001b[0;31m---------------------------------------------------------------------------\u001b[0m",
      "\u001b[0;31mAttributeError\u001b[0m                            Traceback (most recent call last)",
      "\u001b[0;32m/tmp/ipykernel_337430/2513783301.py\u001b[0m in \u001b[0;36m<module>\u001b[0;34m\u001b[0m\n\u001b[0;32m----> 1\u001b[0;31m \u001b[0mfruit\u001b[0m\u001b[0;34m.\u001b[0m\u001b[0mcolor\u001b[0m \u001b[0;34m=\u001b[0m \u001b[0;34m\"yellow\"\u001b[0m\u001b[0;34m\u001b[0m\u001b[0;34m\u001b[0m\u001b[0m\n\u001b[0m",
      "\u001b[0;32m/tmp/ipykernel_337430/2891187161.py\u001b[0m in \u001b[0;36mcolor\u001b[0;34m(self, value)\u001b[0m\n\u001b[1;32m     17\u001b[0m             \u001b[0mself\u001b[0m\u001b[0;34m.\u001b[0m\u001b[0mcolor\u001b[0m \u001b[0;34m=\u001b[0m \u001b[0mvalue\u001b[0m\u001b[0;34m\u001b[0m\u001b[0;34m\u001b[0m\u001b[0m\n\u001b[1;32m     18\u001b[0m         \u001b[0;32melse\u001b[0m\u001b[0;34m:\u001b[0m\u001b[0;34m\u001b[0m\u001b[0;34m\u001b[0m\u001b[0m\n\u001b[0;32m---> 19\u001b[0;31m             \u001b[0;32mraise\u001b[0m \u001b[0mAttributeError\u001b[0m\u001b[0;34m(\u001b[0m\u001b[0;34m\"Sorry, you cannot change a fruit's color!\"\u001b[0m\u001b[0;34m)\u001b[0m\u001b[0;34m\u001b[0m\u001b[0;34m\u001b[0m\u001b[0m\n\u001b[0m\u001b[1;32m     20\u001b[0m \u001b[0;34m\u001b[0m\u001b[0m\n\u001b[1;32m     21\u001b[0m \u001b[0;34m\u001b[0m\u001b[0m\n",
      "\u001b[0;31mAttributeError\u001b[0m: Sorry, you cannot change a fruit's color!"
     ]
    },
    {
     "output_type": "display_data",
     "data": {
      "application/javascript": "\n            setTimeout(function() {\n                var nbb_cell_id = 16;\n                var nbb_unformatted_code = \"fruit.color = \\\"yellow\\\"\";\n                var nbb_formatted_code = \"fruit.color = \\\"yellow\\\"\";\n                var nbb_cells = Jupyter.notebook.get_cells();\n                for (var i = 0; i < nbb_cells.length; ++i) {\n                    if (nbb_cells[i].input_prompt_number == nbb_cell_id) {\n                        if (nbb_cells[i].get_text() == nbb_unformatted_code) {\n                             nbb_cells[i].set_text(nbb_formatted_code);\n                        }\n                        break;\n                    }\n                }\n            }, 500);\n            ",
      "text/plain": [
       "<IPython.core.display.Javascript object>"
      ]
     },
     "metadata": {}
    }
   ],
   "metadata": {
    "ExecuteTime": {
     "end_time": "2021-08-30T01:09:03.327029Z",
     "start_time": "2021-08-30T01:09:03.301356Z"
    }
   }
  },
  {
   "cell_type": "markdown",
   "source": [
    "### __str__ and __repr__: Create a String Representation of a Python Object\n"
   ],
   "metadata": {}
  },
  {
   "cell_type": "markdown",
   "source": [
    "If you want to create a string representation of an object, add `__str__` and `__repr__`.\n",
    "\n",
    "`__str__` shows readable outputs when printing the object. `__repr__` shows outputs that are useful for displaying and debugging the object."
   ],
   "metadata": {}
  },
  {
   "cell_type": "code",
   "execution_count": 17,
   "source": [
    "class Food:\n",
    "    def __init__(self, name: str, color: str):\n",
    "        self.name = name\n",
    "        self.color = color\n",
    "\n",
    "    def __str__(self):\n",
    "        return f\"{self.color} {self.name}\"\n",
    "\n",
    "    def __repr__(self):\n",
    "        return f\"Food({self.color}, {self.name})\"\n",
    "\n",
    "\n",
    "food = Food(\"apple\", \"red\")\n",
    "\n",
    "print(food)  #  str__"
   ],
   "outputs": [
    {
     "output_type": "stream",
     "name": "stdout",
     "text": [
      "red apple\n"
     ]
    },
    {
     "output_type": "display_data",
     "data": {
      "application/javascript": "\n            setTimeout(function() {\n                var nbb_cell_id = 17;\n                var nbb_unformatted_code = \"class Food:\\n    def __init__(self, name: str, color: str):\\n        self.name = name\\n        self.color = color\\n\\n    def __str__(self):\\n        return f\\\"{self.color} {self.name}\\\"\\n\\n    def __repr__(self):\\n        return f\\\"Food({self.color}, {self.name})\\\"\\n\\n\\nfood = Food(\\\"apple\\\", \\\"red\\\")\\n\\nprint(food)  #  str__\";\n                var nbb_formatted_code = \"class Food:\\n    def __init__(self, name: str, color: str):\\n        self.name = name\\n        self.color = color\\n\\n    def __str__(self):\\n        return f\\\"{self.color} {self.name}\\\"\\n\\n    def __repr__(self):\\n        return f\\\"Food({self.color}, {self.name})\\\"\\n\\n\\nfood = Food(\\\"apple\\\", \\\"red\\\")\\n\\nprint(food)  #  str__\";\n                var nbb_cells = Jupyter.notebook.get_cells();\n                for (var i = 0; i < nbb_cells.length; ++i) {\n                    if (nbb_cells[i].input_prompt_number == nbb_cell_id) {\n                        if (nbb_cells[i].get_text() == nbb_unformatted_code) {\n                             nbb_cells[i].set_text(nbb_formatted_code);\n                        }\n                        break;\n                    }\n                }\n            }, 500);\n            ",
      "text/plain": [
       "<IPython.core.display.Javascript object>"
      ]
     },
     "metadata": {}
    }
   ],
   "metadata": {
    "ExecuteTime": {
     "end_time": "2021-08-30T01:45:12.288927Z",
     "start_time": "2021-08-30T01:45:12.261626Z"
    }
   }
  },
  {
   "cell_type": "code",
   "execution_count": 18,
   "source": [
    "food  # __repr__"
   ],
   "outputs": [
    {
     "output_type": "execute_result",
     "data": {
      "text/plain": [
       "Food(red, apple)"
      ]
     },
     "metadata": {},
     "execution_count": 18
    },
    {
     "output_type": "display_data",
     "data": {
      "application/javascript": "\n            setTimeout(function() {\n                var nbb_cell_id = 18;\n                var nbb_unformatted_code = \"food  # __repr__\";\n                var nbb_formatted_code = \"food  # __repr__\";\n                var nbb_cells = Jupyter.notebook.get_cells();\n                for (var i = 0; i < nbb_cells.length; ++i) {\n                    if (nbb_cells[i].input_prompt_number == nbb_cell_id) {\n                        if (nbb_cells[i].get_text() == nbb_unformatted_code) {\n                             nbb_cells[i].set_text(nbb_formatted_code);\n                        }\n                        break;\n                    }\n                }\n            }, 500);\n            ",
      "text/plain": [
       "<IPython.core.display.Javascript object>"
      ]
     },
     "metadata": {}
    }
   ],
   "metadata": {
    "ExecuteTime": {
     "end_time": "2021-08-30T01:45:12.705910Z",
     "start_time": "2021-08-30T01:45:12.692056Z"
    }
   }
  }
 ],
 "metadata": {
  "celltoolbar": "Tags",
  "kernelspec": {
   "display_name": "Python 3 (ipykernel)",
   "language": "python",
   "name": "python3"
  },
  "language_info": {
   "codemirror_mode": {
    "name": "ipython",
    "version": 3
   },
   "file_extension": ".py",
   "mimetype": "text/x-python",
   "name": "python",
   "nbconvert_exporter": "python",
   "pygments_lexer": "ipython3",
   "version": "3.8.10"
  },
  "toc": {
   "base_numbering": 1,
   "nav_menu": {},
   "number_sections": true,
   "sideBar": true,
   "skip_h1_title": false,
   "title_cell": "Table of Contents",
   "title_sidebar": "Contents",
   "toc_cell": false,
   "toc_position": {},
   "toc_section_display": true,
   "toc_window_display": false
  }
 },
 "nbformat": 4,
 "nbformat_minor": 5
}