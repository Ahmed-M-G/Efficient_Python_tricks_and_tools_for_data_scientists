{
 "cells": [
  {
   "cell_type": "markdown",
   "id": "ed90aca9",
   "metadata": {},
   "source": [
    "## Boolean Operators: Connect Two Boolean Expressions into One Expression"
   ]
  },
  {
   "cell_type": "code",
   "execution_count": 15,
   "id": "f1d8d9df",
   "metadata": {
    "ExecuteTime": {
     "end_time": "2021-08-29T17:27:47.163421Z",
     "start_time": "2021-08-29T17:27:47.151081Z"
    }
   },
   "outputs": [
    {
     "data": {
      "text/plain": [
       "True"
      ]
     },
     "execution_count": 15,
     "metadata": {},
     "output_type": "execute_result"
    },
    {
     "data": {
      "application/javascript": [
       "\n",
       "            setTimeout(function() {\n",
       "                var nbb_cell_id = 15;\n",
       "                var nbb_unformatted_code = \"movie_available = True\\nhave_money = False\\n\\nget_excited = movie_available | have_money\\nget_excited\";\n",
       "                var nbb_formatted_code = \"movie_available = True\\nhave_money = False\\n\\nget_excited = movie_available | have_money\\nget_excited\";\n",
       "                var nbb_cells = Jupyter.notebook.get_cells();\n",
       "                for (var i = 0; i < nbb_cells.length; ++i) {\n",
       "                    if (nbb_cells[i].input_prompt_number == nbb_cell_id) {\n",
       "                        if (nbb_cells[i].get_text() == nbb_unformatted_code) {\n",
       "                             nbb_cells[i].set_text(nbb_formatted_code);\n",
       "                        }\n",
       "                        break;\n",
       "                    }\n",
       "                }\n",
       "            }, 500);\n",
       "            "
      ],
      "text/plain": [
       "<IPython.core.display.Javascript object>"
      ]
     },
     "metadata": {},
     "output_type": "display_data"
    }
   ],
   "source": [
    "movie_available = True\n",
    "have_money = False\n",
    "\n",
    "get_excited = movie_available | have_money\n",
    "get_excited"
   ]
  },
  {
   "cell_type": "code",
   "execution_count": 16,
   "id": "c420caca",
   "metadata": {
    "ExecuteTime": {
     "end_time": "2021-08-29T17:27:47.408059Z",
     "start_time": "2021-08-29T17:27:47.394882Z"
    }
   },
   "outputs": [
    {
     "data": {
      "text/plain": [
       "False"
      ]
     },
     "execution_count": 16,
     "metadata": {},
     "output_type": "execute_result"
    },
    {
     "data": {
      "application/javascript": [
       "\n",
       "            setTimeout(function() {\n",
       "                var nbb_cell_id = 16;\n",
       "                var nbb_unformatted_code = \"buy = movie_available & have_money\\nbuy\";\n",
       "                var nbb_formatted_code = \"buy = movie_available & have_money\\nbuy\";\n",
       "                var nbb_cells = Jupyter.notebook.get_cells();\n",
       "                for (var i = 0; i < nbb_cells.length; ++i) {\n",
       "                    if (nbb_cells[i].input_prompt_number == nbb_cell_id) {\n",
       "                        if (nbb_cells[i].get_text() == nbb_unformatted_code) {\n",
       "                             nbb_cells[i].set_text(nbb_formatted_code);\n",
       "                        }\n",
       "                        break;\n",
       "                    }\n",
       "                }\n",
       "            }, 500);\n",
       "            "
      ],
      "text/plain": [
       "<IPython.core.display.Javascript object>"
      ]
     },
     "metadata": {},
     "output_type": "display_data"
    }
   ],
   "source": [
    "buy = movie_available & have_money\n",
    "buy"
   ]
  },
  {
   "cell_type": "code",
   "execution_count": null,
   "id": "d389428f",
   "metadata": {},
   "outputs": [],
   "source": []
  }
 ],
 "metadata": {
  "kernelspec": {
   "display_name": "Python 3 (ipykernel)",
   "language": "python",
   "name": "python3"
  },
  "language_info": {
   "codemirror_mode": {
    "name": "ipython",
    "version": 3
   },
   "file_extension": ".py",
   "mimetype": "text/x-python",
   "name": "python",
   "nbconvert_exporter": "python",
   "pygments_lexer": "ipython3",
   "version": "3.8.10"
  },
  "toc": {
   "base_numbering": 1,
   "nav_menu": {},
   "number_sections": true,
   "sideBar": true,
   "skip_h1_title": false,
   "title_cell": "Table of Contents",
   "title_sidebar": "Contents",
   "toc_cell": false,
   "toc_position": {},
   "toc_section_display": true,
   "toc_window_display": false
  }
 },
 "nbformat": 4,
 "nbformat_minor": 5
}
