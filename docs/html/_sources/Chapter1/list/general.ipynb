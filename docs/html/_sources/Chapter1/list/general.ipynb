{
 "cells": [
  {
   "cell_type": "markdown",
   "id": "73b04efb",
   "metadata": {},
   "source": [
    "## General"
   ]
  },
  {
   "cell_type": "markdown",
   "id": "4a2b27a6",
   "metadata": {},
   "source": [
    "### join method: Turn an Iterable into a Python String"
   ]
  },
  {
   "cell_type": "markdown",
   "id": "1db58e0e",
   "metadata": {},
   "source": [
    "If you want to turn an iterable into a string, use `join()`.\n",
    "\n",
    "In the code below, I join elements in the list fruits using “, “."
   ]
  },
  {
   "cell_type": "code",
   "execution_count": 3,
   "id": "07621ccf",
   "metadata": {
    "ExecuteTime": {
     "end_time": "2021-08-29T21:21:42.794002Z",
     "start_time": "2021-08-29T21:21:42.786264Z"
    }
   },
   "outputs": [
    {
     "name": "stdout",
     "output_type": "stream",
     "text": [
      "Today, I need to get some apples, oranges, grapes in the grocery store\n"
     ]
    }
   ],
   "source": [
    "fruits = ['apples', 'oranges', 'grapes']\n",
    "\n",
    "fruits_str = ', '.join(fruits)\n",
    "\n",
    "print(f\"Today, I need to get some {fruits_str} in the grocery store\")"
   ]
  },
  {
   "cell_type": "markdown",
   "id": "4917fe91",
   "metadata": {},
   "source": [
    "### Zip: Associate Elements from Two Iterators based on the Order"
   ]
  },
  {
   "cell_type": "markdown",
   "id": "69b0a96d",
   "metadata": {},
   "source": [
    "If you want to associate elements from two iterators based on the order, combine `list` and `zip`. "
   ]
  },
  {
   "cell_type": "code",
   "execution_count": 4,
   "id": "81f7ad15",
   "metadata": {
    "ExecuteTime": {
     "end_time": "2021-08-29T21:25:02.215336Z",
     "start_time": "2021-08-29T21:25:02.204742Z"
    }
   },
   "outputs": [
    {
     "name": "stdout",
     "output_type": "stream",
     "text": [
      "(1, 'a')\n",
      "(2, 'b')\n",
      "(3, 'c')\n",
      "(4, 'd')\n"
     ]
    }
   ],
   "source": [
    "nums = [1, 2, 3, 4]\n",
    "string = \"abcd\"\n",
    "combinations = list(zip(nums, string))\n",
    "for comb in combinations:\n",
    "    print(comb)"
   ]
  },
  {
   "cell_type": "markdown",
   "id": "768b078c",
   "metadata": {},
   "source": [
    "### Zip Function: Create Pairs of Elements from Two Lists in Python"
   ]
  },
  {
   "cell_type": "markdown",
   "id": "589eac17",
   "metadata": {},
   "source": [
    "If you want to create pairs of elements from two lists, use `zip`. `zip()` function takes iterables and aggregates them in a tuple.\n",
    "\n",
    "You can also unzip the list of tuples by using `zip(*list_of_tuples)`.\n"
   ]
  },
  {
   "cell_type": "code",
   "execution_count": 5,
   "id": "09a8d7e5",
   "metadata": {
    "ExecuteTime": {
     "end_time": "2021-08-29T21:33:08.761735Z",
     "start_time": "2021-08-29T21:33:08.751000Z"
    }
   },
   "outputs": [
    {
     "data": {
      "text/plain": [
       "[(1, 'a'), (2, 'b'), (3, 'c'), (4, 'd')]"
      ]
     },
     "execution_count": 5,
     "metadata": {},
     "output_type": "execute_result"
    }
   ],
   "source": [
    "nums = [1, 2, 3, 4]\n",
    "chars = ['a', 'b', 'c', 'd']\n",
    "\n",
    "comb = list(zip(nums, chars))\n",
    "comb "
   ]
  },
  {
   "cell_type": "code",
   "execution_count": 6,
   "id": "193fb239",
   "metadata": {
    "ExecuteTime": {
     "end_time": "2021-08-29T21:33:20.503562Z",
     "start_time": "2021-08-29T21:33:20.491811Z"
    }
   },
   "outputs": [
    {
     "data": {
      "text/plain": [
       "((1, 2, 3, 4), ('a', 'b', 'c', 'd'))"
      ]
     },
     "execution_count": 6,
     "metadata": {},
     "output_type": "execute_result"
    }
   ],
   "source": [
    "nums_2, chars_2 = zip(*comb)\n",
    "nums_2, chars_2"
   ]
  },
  {
   "cell_type": "markdown",
   "id": "277cc52f",
   "metadata": {},
   "source": [
    "### Stop using = operator to create a copy of a Python list. Use copy method instead"
   ]
  },
  {
   "cell_type": "markdown",
   "id": "f611329b",
   "metadata": {},
   "source": [
    "When you create a copy of a Python list using the `=` operator, a change in the new list will lead to the change in the old list. It is because both lists point to the same object."
   ]
  },
  {
   "cell_type": "code",
   "execution_count": 7,
   "id": "ea715534",
   "metadata": {
    "ExecuteTime": {
     "end_time": "2021-08-29T21:35:28.438832Z",
     "start_time": "2021-08-29T21:35:28.431700Z"
    }
   },
   "outputs": [],
   "source": [
    "l1 = [1, 2, 3]\n",
    "l2 = l1 \n",
    "l2.append(4)"
   ]
  },
  {
   "cell_type": "code",
   "execution_count": 8,
   "id": "93514799",
   "metadata": {
    "ExecuteTime": {
     "end_time": "2021-08-29T21:35:34.251541Z",
     "start_time": "2021-08-29T21:35:34.242374Z"
    }
   },
   "outputs": [
    {
     "data": {
      "text/plain": [
       "[1, 2, 3, 4]"
      ]
     },
     "execution_count": 8,
     "metadata": {},
     "output_type": "execute_result"
    }
   ],
   "source": [
    "l2 "
   ]
  },
  {
   "cell_type": "code",
   "execution_count": 9,
   "id": "66cd0eba",
   "metadata": {
    "ExecuteTime": {
     "end_time": "2021-08-29T21:35:38.361689Z",
     "start_time": "2021-08-29T21:35:38.353163Z"
    }
   },
   "outputs": [
    {
     "data": {
      "text/plain": [
       "[1, 2, 3, 4]"
      ]
     },
     "execution_count": 9,
     "metadata": {},
     "output_type": "execute_result"
    }
   ],
   "source": [
    "l1 "
   ]
  },
  {
   "cell_type": "markdown",
   "id": "ebbde94f",
   "metadata": {},
   "source": [
    "Instead of using `=` operator, use `copy()` method. Now your old list will not change when you change your new list. "
   ]
  },
  {
   "cell_type": "code",
   "execution_count": 10,
   "id": "11c5badf",
   "metadata": {
    "ExecuteTime": {
     "end_time": "2021-08-29T21:35:53.291033Z",
     "start_time": "2021-08-29T21:35:53.285624Z"
    }
   },
   "outputs": [],
   "source": [
    "l1 = [1, 2, 3]\n",
    "l2 = l1.copy()\n",
    "l2.append(4)"
   ]
  },
  {
   "cell_type": "code",
   "execution_count": 11,
   "id": "17717e73",
   "metadata": {
    "ExecuteTime": {
     "end_time": "2021-08-29T21:35:55.258140Z",
     "start_time": "2021-08-29T21:35:55.249394Z"
    }
   },
   "outputs": [
    {
     "data": {
      "text/plain": [
       "[1, 2, 3, 4]"
      ]
     },
     "execution_count": 11,
     "metadata": {},
     "output_type": "execute_result"
    }
   ],
   "source": [
    "l2 "
   ]
  },
  {
   "cell_type": "code",
   "execution_count": 12,
   "id": "70138939",
   "metadata": {
    "ExecuteTime": {
     "end_time": "2021-08-29T21:35:57.099547Z",
     "start_time": "2021-08-29T21:35:57.090172Z"
    }
   },
   "outputs": [
    {
     "data": {
      "text/plain": [
       "[1, 2, 3]"
      ]
     },
     "execution_count": 12,
     "metadata": {},
     "output_type": "execute_result"
    }
   ],
   "source": [
    "l1"
   ]
  },
  {
   "cell_type": "markdown",
   "id": "8ddebcb2",
   "metadata": {},
   "source": [
    "### Enumerate: Get Counter and Value While Looping\n"
   ]
  },
  {
   "cell_type": "markdown",
   "id": "96c91e29",
   "metadata": {},
   "source": [
    "Are you using `for i in range(len(array))` to access both the index and the value of the array? If so, use `enumerate` instead. It produces the same result but it is much cleaner. "
   ]
  },
  {
   "cell_type": "code",
   "execution_count": 13,
   "id": "44ee4a4a",
   "metadata": {
    "ExecuteTime": {
     "end_time": "2021-08-29T21:47:17.142382Z",
     "start_time": "2021-08-29T21:47:17.131265Z"
    }
   },
   "outputs": [
    {
     "name": "stdout",
     "output_type": "stream",
     "text": [
      "0 a\n",
      "1 b\n",
      "2 c\n",
      "3 d\n",
      "4 e\n"
     ]
    }
   ],
   "source": [
    "arr = ['a', 'b', 'c', 'd', 'e']\n",
    "\n",
    "# Instead of this\n",
    "for i in range(len(arr)):\n",
    "    print(i, arr[i])"
   ]
  },
  {
   "cell_type": "code",
   "execution_count": 14,
   "id": "326acdd8",
   "metadata": {
    "ExecuteTime": {
     "end_time": "2021-08-29T21:47:19.212704Z",
     "start_time": "2021-08-29T21:47:19.204724Z"
    }
   },
   "outputs": [
    {
     "name": "stdout",
     "output_type": "stream",
     "text": [
      "0 a\n",
      "1 b\n",
      "2 c\n",
      "3 d\n",
      "4 e\n"
     ]
    }
   ],
   "source": [
    "# Use this\n",
    "for i, val in enumerate(arr):\n",
    "    print(i, val)"
   ]
  },
  {
   "cell_type": "markdown",
   "id": "5440141b",
   "metadata": {},
   "source": [
    "### set.intersection: Find the Intersection Between 2 Sets"
   ]
  },
  {
   "cell_type": "markdown",
   "id": "3732c26c",
   "metadata": {},
   "source": [
    "If you want to get the common elements between 2 lists, convert lists to sets then use `set.intersection` to find the intersection between 2 sets."
   ]
  },
  {
   "cell_type": "code",
   "execution_count": 15,
   "id": "8f2c26c1",
   "metadata": {
    "ExecuteTime": {
     "end_time": "2021-08-29T21:49:18.232312Z",
     "start_time": "2021-08-29T21:49:18.221761Z"
    }
   },
   "outputs": [
    {
     "data": {
      "text/plain": [
       "['statsmodel', 'numpy']"
      ]
     },
     "execution_count": 15,
     "metadata": {},
     "output_type": "execute_result"
    }
   ],
   "source": [
    "requirement1 = ['pandas', 'numpy', 'statsmodel']\n",
    "requirement2 = ['numpy', 'statsmodel', 'sympy', 'matplotlib']\n",
    "\n",
    "intersection = set.intersection(set(requirement1), set(requirement2))\n",
    "list(intersection)"
   ]
  },
  {
   "cell_type": "markdown",
   "id": "cd203d91",
   "metadata": {},
   "source": [
    "### Set Difference: Find the Difference Between 2 Sets"
   ]
  },
  {
   "cell_type": "markdown",
   "id": "43c22b15",
   "metadata": {},
   "source": [
    "If you want to find the difference between 2 lists, turn those lists into sets then apply the `difference()` method to the sets."
   ]
  },
  {
   "cell_type": "code",
   "execution_count": 16,
   "id": "bd0945ee",
   "metadata": {
    "ExecuteTime": {
     "end_time": "2021-08-29T21:50:32.848826Z",
     "start_time": "2021-08-29T21:50:32.843088Z"
    }
   },
   "outputs": [],
   "source": [
    "a = [1, 2, 3, 4]\n",
    "b = [1, 3, 4, 5, 6]"
   ]
  },
  {
   "cell_type": "code",
   "execution_count": 17,
   "id": "8ce4ae41",
   "metadata": {
    "ExecuteTime": {
     "end_time": "2021-08-29T21:50:34.938348Z",
     "start_time": "2021-08-29T21:50:34.931376Z"
    }
   },
   "outputs": [
    {
     "name": "stdout",
     "output_type": "stream",
     "text": [
      "[2]\n"
     ]
    }
   ],
   "source": [
    "# Find elements in a but not in b\n",
    "diff = set(a).difference(set(b))\n",
    "print(list(diff)) "
   ]
  },
  {
   "cell_type": "code",
   "execution_count": 18,
   "id": "85ffd48a",
   "metadata": {
    "ExecuteTime": {
     "end_time": "2021-08-29T21:50:39.642041Z",
     "start_time": "2021-08-29T21:50:39.634750Z"
    }
   },
   "outputs": [
    {
     "name": "stdout",
     "output_type": "stream",
     "text": [
      "[5, 6]\n"
     ]
    }
   ],
   "source": [
    "# Find elements in b but not in a\n",
    "diff = set(b).difference(set(a))\n",
    "print(list(diff))  # [5, 6]"
   ]
  },
  {
   "cell_type": "markdown",
   "id": "eb3af17d",
   "metadata": {},
   "source": [
    "### Difference between list append and list extend"
   ]
  },
  {
   "cell_type": "markdown",
   "id": "3124f295",
   "metadata": {},
   "source": [
    "If you want to add a list to another list, use the `append` method. To add elements of a list to another list, use the `extend` method."
   ]
  },
  {
   "cell_type": "code",
   "execution_count": 19,
   "id": "dbc34797",
   "metadata": {
    "ExecuteTime": {
     "end_time": "2021-08-29T21:51:52.491706Z",
     "start_time": "2021-08-29T21:51:52.483087Z"
    }
   },
   "outputs": [
    {
     "data": {
      "text/plain": [
       "[1, 2, 3, 4, [5, 6]]"
      ]
     },
     "execution_count": 19,
     "metadata": {},
     "output_type": "execute_result"
    }
   ],
   "source": [
    "# Add a list to a list\n",
    "a = [1, 2, 3, 4]\n",
    "a.append([5, 6])\n",
    "a"
   ]
  },
  {
   "cell_type": "code",
   "execution_count": 20,
   "id": "fd376870",
   "metadata": {
    "ExecuteTime": {
     "end_time": "2021-08-29T21:51:59.395984Z",
     "start_time": "2021-08-29T21:51:59.386833Z"
    }
   },
   "outputs": [
    {
     "data": {
      "text/plain": [
       "[1, 2, 3, 4, 5, 6]"
      ]
     },
     "execution_count": 20,
     "metadata": {},
     "output_type": "execute_result"
    }
   ],
   "source": [
    "a = [1, 2, 3, 4]\n",
    "a.extend([5, 6])\n",
    "\n",
    "a"
   ]
  },
  {
   "cell_type": "code",
   "execution_count": null,
   "id": "a3bca652",
   "metadata": {},
   "outputs": [],
   "source": []
  }
 ],
 "metadata": {
  "kernelspec": {
   "display_name": "Python 3 (ipykernel)",
   "language": "python",
   "name": "python3"
  },
  "language_info": {
   "codemirror_mode": {
    "name": "ipython",
    "version": 3
   },
   "file_extension": ".py",
   "mimetype": "text/x-python",
   "name": "python",
   "nbconvert_exporter": "python",
   "pygments_lexer": "ipython3",
   "version": "3.8.10"
  },
  "toc": {
   "base_numbering": 1,
   "nav_menu": {},
   "number_sections": true,
   "sideBar": true,
   "skip_h1_title": false,
   "title_cell": "Table of Contents",
   "title_sidebar": "Contents",
   "toc_cell": false,
   "toc_position": {},
   "toc_section_display": true,
   "toc_window_display": false
  }
 },
 "nbformat": 4,
 "nbformat_minor": 5
}
