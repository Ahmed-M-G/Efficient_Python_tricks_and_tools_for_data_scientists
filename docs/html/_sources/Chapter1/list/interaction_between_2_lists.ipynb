{
 "cells": [
  {
   "cell_type": "markdown",
   "id": "0462cf71",
   "metadata": {},
   "source": [
    "## Interaction Between 2 Lists"
   ]
  },
  {
   "cell_type": "markdown",
   "id": "5440141b",
   "metadata": {},
   "source": [
    "### set.intersection: Find the Intersection Between 2 Sets"
   ]
  },
  {
   "cell_type": "markdown",
   "id": "3732c26c",
   "metadata": {},
   "source": [
    "If you want to get the common elements between 2 lists, convert lists to sets then use `set.intersection` to find the intersection between 2 sets."
   ]
  },
  {
   "cell_type": "code",
   "execution_count": 15,
   "id": "8f2c26c1",
   "metadata": {
    "ExecuteTime": {
     "end_time": "2021-08-29T21:49:18.232312Z",
     "start_time": "2021-08-29T21:49:18.221761Z"
    }
   },
   "outputs": [
    {
     "data": {
      "text/plain": [
       "['statsmodel', 'numpy']"
      ]
     },
     "execution_count": 15,
     "metadata": {},
     "output_type": "execute_result"
    }
   ],
   "source": [
    "requirement1 = ['pandas', 'numpy', 'statsmodel']\n",
    "requirement2 = ['numpy', 'statsmodel', 'sympy', 'matplotlib']\n",
    "\n",
    "intersection = set.intersection(set(requirement1), set(requirement2))\n",
    "list(intersection)"
   ]
  },
  {
   "cell_type": "markdown",
   "id": "cd203d91",
   "metadata": {},
   "source": [
    "### Set Difference: Find the Difference Between 2 Sets"
   ]
  },
  {
   "cell_type": "markdown",
   "id": "43c22b15",
   "metadata": {},
   "source": [
    "If you want to find the difference between 2 lists, turn those lists into sets then apply the `difference()` method to the sets."
   ]
  },
  {
   "cell_type": "code",
   "execution_count": 16,
   "id": "bd0945ee",
   "metadata": {
    "ExecuteTime": {
     "end_time": "2021-08-29T21:50:32.848826Z",
     "start_time": "2021-08-29T21:50:32.843088Z"
    }
   },
   "outputs": [],
   "source": [
    "a = [1, 2, 3, 4]\n",
    "b = [1, 3, 4, 5, 6]"
   ]
  },
  {
   "cell_type": "code",
   "execution_count": 17,
   "id": "8ce4ae41",
   "metadata": {
    "ExecuteTime": {
     "end_time": "2021-08-29T21:50:34.938348Z",
     "start_time": "2021-08-29T21:50:34.931376Z"
    }
   },
   "outputs": [
    {
     "name": "stdout",
     "output_type": "stream",
     "text": [
      "[2]\n"
     ]
    }
   ],
   "source": [
    "# Find elements in a but not in b\n",
    "diff = set(a).difference(set(b))\n",
    "print(list(diff)) "
   ]
  },
  {
   "cell_type": "code",
   "execution_count": 18,
   "id": "85ffd48a",
   "metadata": {
    "ExecuteTime": {
     "end_time": "2021-08-29T21:50:39.642041Z",
     "start_time": "2021-08-29T21:50:39.634750Z"
    }
   },
   "outputs": [
    {
     "name": "stdout",
     "output_type": "stream",
     "text": [
      "[5, 6]\n"
     ]
    }
   ],
   "source": [
    "# Find elements in b but not in a\n",
    "diff = set(b).difference(set(a))\n",
    "print(list(diff))  # [5, 6]"
   ]
  }
 ],
 "metadata": {
  "kernelspec": {
   "display_name": "Python 3 (ipykernel)",
   "language": "python",
   "name": "python3"
  },
  "language_info": {
   "codemirror_mode": {
    "name": "ipython",
    "version": 3
   },
   "file_extension": ".py",
   "mimetype": "text/x-python",
   "name": "python",
   "nbconvert_exporter": "python",
   "pygments_lexer": "ipython3",
   "version": "3.8.10"
  },
  "toc": {
   "base_numbering": 1,
   "nav_menu": {},
   "number_sections": true,
   "sideBar": true,
   "skip_h1_title": false,
   "title_cell": "Table of Contents",
   "title_sidebar": "Contents",
   "toc_cell": false,
   "toc_position": {},
   "toc_section_display": true,
   "toc_window_display": false
  }
 },
 "nbformat": 4,
 "nbformat_minor": 5
}
